{
 "cells": [
  {
   "cell_type": "code",
   "execution_count": 1,
   "metadata": {},
   "outputs": [],
   "source": [
    "%load_ext autoreload\n",
    "%autoreload 2"
   ]
  },
  {
   "cell_type": "code",
   "execution_count": 2,
   "metadata": {},
   "outputs": [],
   "source": [
    "import torch\n",
    "import torch.nn.functional as F\n",
    "import torch.nn as nn\n",
    "import os\n",
    "\n",
    "import numpy as np\n",
    "import matplotlib.pyplot as plt\n",
    "\n",
    "from NormalizingFlows.src.train import train_backward\n",
    "from NormalizingFlows.src.scores import log_likelihood\n",
    "from NormalizingFlows.src.utils import update_device, load_best_model, load_checkpoint_model\n",
    "\n",
    "from NormalizingFlows.src.flows import *\n",
    "from NormalizingFlows.src.data.density.toydata import ToyDataset"
   ]
  },
  {
   "cell_type": "code",
   "execution_count": 3,
   "metadata": {},
   "outputs": [],
   "source": [
    "def set_visible_devices(*devices: int) -> None:\n",
    "    '''Utility to set visible Cuda devices.\n",
    "\n",
    "    Parameters\n",
    "    ----------\n",
    "    devices : List[int]\n",
    "        Index of cuda devices to make available for use.\n",
    "    '''\n",
    "    assert all([d >= 0 for d in devices]), f\"Not all devices are CUDA devices!\"\n",
    "    os.environ['CUDA_VISIBLE_DEVICES'] = \",\".join([str(i) for i in devices])\n",
    "    \n",
    "\n",
    "def set_devices(*devices: int):\n",
    "    '''Utility to set Cuda device(s).\n",
    "\n",
    "    Parameters\n",
    "    ----------\n",
    "    devices : List[int]\n",
    "        Index of cuda devices to make available for use.\n",
    "\n",
    "    Returns\n",
    "    -------\n",
    "    torch.device or List[torch.device] of currently available CUDA devices.\n",
    "    '''\n",
    "    assert len(devices) > 0, f'Device list is empty, no devices set.'\n",
    "    if len(devices) == 1:\n",
    "        if devices[0] >= 0:\n",
    "            set_visible_devices(devices[0])\n",
    "            return torch.device(0)\n",
    "        else:\n",
    "            return torch.device('cpu')\n",
    "\n",
    "    else:\n",
    "        set_visible_devices(*devices)\n",
    "        return [torch.device(i) for i in range(len(devices))]"
   ]
  },
  {
   "cell_type": "code",
   "execution_count": 4,
   "metadata": {},
   "outputs": [],
   "source": [
    "device = set_devices(1) #torch.device(\"cuda\") if torch.cuda.is_available() else torch.device(\"cpu\")\n",
    "device_cpu = torch.device(\"cpu\")"
   ]
  },
  {
   "cell_type": "code",
   "execution_count": 5,
   "metadata": {},
   "outputs": [],
   "source": [
    "dim_input = 25\n",
    "dataset = ToyDataset(dim_input=dim_input, samples=10000)\n",
    "\n",
    "dim_input = dataset.dim_input\n",
    "num_trans = 6 #Must be even\n",
    "perm_types = ['identity', 'alternate','random']\n",
    "dim_hidden = [100,100,100]\n",
    "flows = {}\n",
    "flow_forward = False\n",
    "\n",
    "\n",
    "epochs = 15\n",
    "batch_size = 32\n",
    "num_exp = 5"
   ]
  },
  {
   "cell_type": "code",
   "execution_count": 6,
   "metadata": {
    "jupyter": {
     "source_hidden": true
    },
    "tags": []
   },
   "outputs": [],
   "source": [
    "# #Linear and mean field\n",
    "\n",
    "# transformations = create_constant_trans(num_trans, dim_input, flow_forward)\n",
    "# mean_field = create_flows_with_identity(dim_input, transformations, flow_forward) \n",
    "# name = 'Mean field'\n",
    "# flows.append(mean_field), names.append(name)\n",
    "\n",
    "# transformations = create_linear_bias_trans(num_trans, dim_input, flow_forward)\n",
    "# linear = create_flows_with_identity(dim_input, transformations, flow_forward)\n",
    "# name = 'Linear'\n",
    "# flows.append(linear), names.append(name);"
   ]
  },
  {
   "cell_type": "code",
   "execution_count": 7,
   "metadata": {
    "jupyter": {
     "source_hidden": true
    },
    "tags": []
   },
   "outputs": [],
   "source": [
    "# #Affine flows with two block\n",
    "\n",
    "# name = 'Affine coupling identity'\n",
    "# flows[name] = []\n",
    "# for i in range(num_exp):\n",
    "#     transformations = create_affine_trans(num_trans, flow_forward, a_param=F.softplus)\n",
    "#     aff_coup_id = create_flows_with_twoblock(dim_input, dim_hidden, transformations, perm_types[0], flow_forward)\n",
    "#     flows[name] += [aff_coup_id]\n",
    "#     flows[name][-1].name = f'{name} {i}'\n",
    "\n",
    "# name = 'Affine coupling alternating'\n",
    "# flows[name] = []\n",
    "# for i in range(num_exp):\n",
    "#     transformations = create_affine_trans(num_trans, flow_forward, a_param=F.softplus)\n",
    "#     aff_coup_alt = create_flows_with_twoblock(dim_input, dim_hidden, transformations, perm_types[1], flow_forward)\n",
    "#     flows[name] += [aff_coup_alt]\n",
    "#     flows[name][-1].name = f'{name} {i}'\n",
    "    \n",
    "# name = 'Affine coupling random'\n",
    "# flows[name] = []\n",
    "# for i in range(num_exp):\n",
    "#     transformations = create_affine_trans(num_trans, flow_forward, a_param=F.softplus)\n",
    "#     aff_coup_rand = create_flows_with_twoblock(dim_input, dim_hidden, transformations, perm_types[2], flow_forward)\n",
    "#     flows[name] += [aff_coup_rand]\n",
    "#     flows[name][-1].name = f'{name} {i}'"
   ]
  },
  {
   "cell_type": "code",
   "execution_count": 8,
   "metadata": {
    "jupyter": {
     "source_hidden": true
    },
    "tags": []
   },
   "outputs": [],
   "source": [
    "# #Affine flows with AR\n",
    "\n",
    "# name = 'Affine AR identity'\n",
    "# flows[name] = []\n",
    "# for i in range(num_exp):\n",
    "#     transformations = create_affine_trans(num_trans, flow_forward)\n",
    "#     aff_ar_id = create_flows_with_AR(dim_input, dim_hidden, transformations, perm_types[0], flow_forward)\n",
    "#     flows[name] += [aff_ar_id]\n",
    "#     flows[name][-1].name = f'{name} {i}'\n",
    "\n",
    "# name = 'Affine AR alternate'\n",
    "# flows[name] = []\n",
    "# for i in range(num_exp):\n",
    "#     transformations = create_affine_trans(num_trans, flow_forward)\n",
    "#     aff_ar_alt = create_flows_with_AR(dim_input, dim_hidden, transformations, perm_types[1], flow_forward)\n",
    "#     flows[name] += [aff_ar_alt]\n",
    "#     flows[name][-1].name = f'{name} {i}'\n",
    "\n",
    "# name = 'Affine AR random'\n",
    "# flows[name] = []\n",
    "# for i in range(num_exp):\n",
    "#     transformations = create_affine_trans(num_trans, flow_forward)\n",
    "#     aff_ar_rand = create_flows_with_AR(dim_input, dim_hidden, transformations, perm_types[2], flow_forward)\n",
    "#     flows[name] += [aff_ar_rand]\n",
    "#     flows[name][-1].name = f'{name} {i}'\n"
   ]
  },
  {
   "cell_type": "code",
   "execution_count": 9,
   "metadata": {
    "jupyter": {
     "source_hidden": true
    },
    "tags": []
   },
   "outputs": [],
   "source": [
    "# #PiecewiseAffine flows with coupling\n",
    "\n",
    "# name = 'PiecewiseAffine coupling identity'\n",
    "# flows[name] = []\n",
    "# for i in range(num_exp):\n",
    "#     transformations = create_piecewise_trans(num_trans, flow_forward)\n",
    "#     piec_coup_id = create_flows_with_twoblock(dim_input, dim_hidden, transformations, perm_types[0], flow_forward)\n",
    "#     flows[name] += [piec_coup_id]\n",
    "#     flows[name][-1].name = f'{name} {i}'\n",
    "    \n",
    "\n",
    "# name = 'PiecewiseAffine coupling alternate'\n",
    "# flows[name] = []\n",
    "# for i in range(num_exp):\n",
    "#     transformations = create_piecewise_trans(num_trans, flow_forward)\n",
    "#     piec_coup_alt = create_flows_with_twoblock(dim_input, dim_hidden, transformations, perm_types[1], flow_forward)\n",
    "#     flows[name] += [piec_coup_alt]\n",
    "#     flows[name][-1].name = f'{name} {i}'\n",
    "\n",
    "# name = 'PiecewiseAffine coupling random'\n",
    "# flows[name] = []\n",
    "# for i in range(num_exp):\n",
    "#     transformations = create_piecewise_trans(num_trans, flow_forward)\n",
    "#     piec_coup_rand = create_flows_with_twoblock(dim_input, dim_hidden, transformations, perm_types[2], flow_forward)\n",
    "#     flows[name] += [piec_coup_rand]\n",
    "#     flows[name][-1].name = f'{name} {i}'\n"
   ]
  },
  {
   "cell_type": "code",
   "execution_count": 10,
   "metadata": {
    "jupyter": {
     "source_hidden": true
    },
    "tags": []
   },
   "outputs": [],
   "source": [
    "# #PiecewiseAffine flows with AR\n",
    "\n",
    "# name = 'PiecewiseAffine AR identity'\n",
    "# flows[name] = []\n",
    "# for i in range(num_exp):\n",
    "#     transformations = create_piecewise_trans(num_trans, flow_forward)\n",
    "#     piec_ar_id = create_flows_with_AR(dim_input, dim_hidden, transformations, perm_types[0], flow_forward)\n",
    "#     flows[name] += [piec_ar_id]\n",
    "#     flows[name][-1].name = f'{name} {i}'\n",
    "\n",
    "\n",
    "# name = 'PiecewiseAffine AR alternate'\n",
    "# flows[name] = []\n",
    "# for i in range(num_exp):\n",
    "#     transformations = create_piecewise_trans(num_trans, flow_forward)\n",
    "#     piec_ar_alt = create_flows_with_AR(dim_input, dim_hidden, transformations, perm_types[1], flow_forward)\n",
    "#     flows[name] += [piec_ar_alt]\n",
    "#     flows[name][-1].name = f'{name} {i}'\n",
    "\n",
    "# name = 'PiecewiseAffine AR random'\n",
    "# flows[name] = []\n",
    "# for i in range(num_exp):\n",
    "#     transformations = create_piecewise_trans(num_trans, flow_forward)\n",
    "#     piec_ar_rand = create_flows_with_AR(dim_input, dim_hidden, transformations, perm_types[2], flow_forward)\n",
    "#     flows[name] += [piec_ar_rand]\n",
    "#     flows[name][-1].name = f'{name} {i}'\n"
   ]
  },
  {
   "cell_type": "code",
   "execution_count": 24,
   "metadata": {
    "tags": []
   },
   "outputs": [],
   "source": [
    "#PiecewiseAffineAffine with twoblock\n",
    "\n",
    "kwargs = {\n",
    "    'a_param' : F.sigmoid,\n",
    "    'c_param' : F.sigmoid,\n",
    "}\n",
    "\n",
    "name = 'PiecewiseAffineAffine coupling identity'\n",
    "flows[name] = []\n",
    "for i in range(num_exp):\n",
    "    transformations = create_affinepiecewise_trans(num_trans, flow_forward, **kwargs)\n",
    "    piecaf_coup_id = create_flows_with_twoblock(dim_input, dim_hidden, transformations, perm_types[0], flow_forward)\n",
    "    flows[name] += [piecaf_coup_id]\n",
    "    flows[name][-1].name = f'{name} {i}'\n",
    "\n",
    "name = 'PiecewiseAffineAffine coupling alternate'\n",
    "flows[name] = []\n",
    "for i in range(num_exp):\n",
    "    transformations = create_affinepiecewise_trans(num_trans, flow_forward, **kwargs)\n",
    "    piecaf_coup_alt = create_flows_with_twoblock(dim_input, dim_hidden, transformations, perm_types[1], flow_forward)\n",
    "    flows[name] += [piecaf_coup_alt]\n",
    "    flows[name][-1].name = f'{name} {i}'\n",
    "\n",
    "name = 'PiecewiseAffineAffine coupling random'\n",
    "flows[name] = []\n",
    "for i in range(num_exp):\n",
    "    transformations = create_affinepiecewise_trans(num_trans, flow_forward, **kwargs)\n",
    "    piecaf_coup_rand = create_flows_with_twoblock(dim_input, dim_hidden, transformations, perm_types[2], flow_forward)\n",
    "    flows[name] += [piecaf_coup_rand]\n",
    "    flows[name][-1].name = f'{name} {i}'\n"
   ]
  },
  {
   "cell_type": "code",
   "execution_count": 12,
   "metadata": {
    "jupyter": {
     "source_hidden": true
    }
   },
   "outputs": [],
   "source": [
    "# #PiecewiseAffineAffine with AR\n",
    "\n",
    "# transformations = create_affinepiecewise_trans(num_trans, flow_forward)\n",
    "# piecaf_ar_id = create_flows_with_AR(dim_input, dim_hidden, transformations, perm_types[0], flow_forward)\n",
    "# name = 'PiecewiseAffineAffine AR identity'\n",
    "# flows.append(piecaf_ar_id), names.append(name)\n",
    "\n",
    "# transformations = create_affinepiecewise_trans(num_trans, flow_forward)\n",
    "# piecaf_ar_alt = create_flows_with_AR(dim_input, dim_hidden, transformations, perm_types[1], flow_forward)\n",
    "# name = 'PiecewiseAffineAffine AR alternate'\n",
    "# flows.append(piecaf_ar_alt), names.append(name)\n",
    "\n",
    "# transformations = create_affinepiecewise_trans(num_trans, flow_forward)\n",
    "# piecaf_ar_rand = create_flows_with_AR(dim_input, dim_hidden, transformations, perm_types[2], flow_forward)\n",
    "# name = 'PiecewiseAffineAffine AR random'\n",
    "# flows.append(piecaf_ar_rand), names.append(name);"
   ]
  },
  {
   "cell_type": "code",
   "execution_count": 13,
   "metadata": {
    "jupyter": {
     "source_hidden": true
    }
   },
   "outputs": [],
   "source": [
    "# #ContinuousPiecewise with twoblock\n",
    "\n",
    "# transformations = create_continuous_piecewise_trans(num_trans, flow_forward)\n",
    "# conpiec_coup_iden = create_flows_with_twoblock(dim_input, dim_hidden, transformations, perm_types[0], flow_forward)\n",
    "# name = 'ContinuousPiecewiseAffine coupling identity'\n",
    "# flows.append(conpiec_coup_iden), names.append(name)\n",
    "\n",
    "# transformations = create_continuous_piecewise_trans(num_trans, flow_forward)\n",
    "# conpiec_coup_alt = create_flows_with_twoblock(dim_input, dim_hidden, transformations, perm_types[1], flow_forward)\n",
    "# name = 'ContinuousPiecewiseAffine coupling alternate'\n",
    "# flows.append(conpiec_coup_alt), names.append(name)\n",
    "\n",
    "# transformations = create_continuous_piecewise_trans(num_trans, flow_forward)\n",
    "# conpiec_coup_rand = create_flows_with_twoblock(dim_input, dim_hidden, transformations, perm_types[2], flow_forward)\n",
    "# name = 'ContinuousPiecewiseAffine coupling random'\n",
    "# flows.append(conpiec_coup_rand), names.append(name);"
   ]
  },
  {
   "cell_type": "code",
   "execution_count": 14,
   "metadata": {
    "jupyter": {
     "source_hidden": true
    }
   },
   "outputs": [],
   "source": [
    "# #ContinuousPiecewise with AR\n",
    "\n",
    "# transformations = create_continuous_piecewise_trans(num_trans, flow_forward)\n",
    "# conpiec_ar_iden = create_flows_with_AR(dim_input, dim_hidden, transformations, perm_types[0], flow_forward)\n",
    "# name = 'ContinuousPiecewiseAffine AR identity'\n",
    "# flows.append(conpiec_ar_iden), names.append(name)\n",
    "\n",
    "# transformations = create_continuous_piecewise_trans(num_trans, flow_forward)\n",
    "# conpiec_ar_alt = create_flows_with_AR(dim_input, dim_hidden, transformations, perm_types[1], flow_forward)\n",
    "# name = 'ContinuousPiecewiseAffine AR alternate'\n",
    "# flows.append(conpiec_ar_alt), names.append(name)\n",
    "\n",
    "# transformations = create_continuous_piecewise_trans(num_trans, flow_forward)\n",
    "# conpiec_ar_rand = create_flows_with_AR(dim_input, dim_hidden, transformations, perm_types[2], flow_forward)\n",
    "# name = 'ContinuousPiecewiseAffine AR random'\n",
    "# flows.append(conpiec_ar_rand), names.append(name);"
   ]
  },
  {
   "cell_type": "code",
   "execution_count": 15,
   "metadata": {
    "jupyter": {
     "source_hidden": true
    }
   },
   "outputs": [],
   "source": [
    "# #ContinuousPiecewiseAffine with twoblock\n",
    "\n",
    "# transformations = create_affinecontinuous_trans(num_trans, flow_forward)\n",
    "# affconpiec_coup_iden = create_flows_with_twoblock(dim_input, dim_hidden, transformations, perm_types[0], flow_forward)\n",
    "# name = 'ContinuousPiecewiseAffineAffine coupling identity'\n",
    "# flows.append(affconpiec_coup_iden), names.append(name)\n",
    "\n",
    "# transformations = create_affinecontinuous_trans(num_trans, flow_forward)\n",
    "# affconpiec_coup_alt = create_flows_with_twoblock(dim_input, dim_hidden, transformations, perm_types[1], flow_forward)\n",
    "# name = 'ContinuousPiecewiseAffineAffine coupling alternate'\n",
    "# flows.append(affconpiec_coup_alt), names.append(name)\n",
    "\n",
    "# transformations = create_affinecontinuous_trans(num_trans, flow_forward)\n",
    "# affconpiec_coup_rand = create_flows_with_twoblock(dim_input, dim_hidden, transformations, perm_types[2], flow_forward)\n",
    "# name = 'ContinuousPiecewiseAffineAffine coupling random'\n",
    "# flows.append(affconpiec_coup_rand), names.append(name);"
   ]
  },
  {
   "cell_type": "code",
   "execution_count": 16,
   "metadata": {
    "jupyter": {
     "source_hidden": true
    }
   },
   "outputs": [],
   "source": [
    "# #ContinuousPiecewiseAffine with AR\n",
    "\n",
    "# transformations = create_affinecontinuous_trans(num_trans, flow_forward)\n",
    "# affconpiec_ar_iden = create_flows_with_AR(dim_input, dim_hidden, transformations, perm_types[0], flow_forward)\n",
    "# name = 'ContinuousPiecewiseAffineAffine AR identity'\n",
    "# flows.append(affconpiec_ar_iden), names.append(name)\n",
    "\n",
    "# transformations = create_affinecontinuous_trans(num_trans, flow_forward)\n",
    "# affconpiec_ar_alt = create_flows_with_AR(dim_input, dim_hidden, transformations, perm_types[1], flow_forward)\n",
    "# name = 'ContinuousPiecewiseAffineAffine AR alternate'\n",
    "# flows.append(affconpiec_ar_alt), names.append(name)\n",
    "\n",
    "# transformations = create_affinecontinuous_trans(num_trans, flow_forward)\n",
    "# affconpiec_ar_rand = create_flows_with_AR(dim_input, dim_hidden, transformations, perm_types[2], flow_forward)\n",
    "# name = 'ContinuousPiecewiseAffineAffine AR random'\n",
    "# flows.append(affconpiec_ar_rand), names.append(name);"
   ]
  },
  {
   "cell_type": "code",
   "execution_count": 17,
   "metadata": {
    "jupyter": {
     "source_hidden": true
    }
   },
   "outputs": [],
   "source": [
    "# #Alternating Piecewise Affine with twoblock\n",
    "\n",
    "# transformations = create_alt_piecewise_affine_trans(num_trans, flow_forward)\n",
    "# afpiec_coup_rand = create_flows_with_twoblock(dim_input, dim_hidden, transformations, perm_types[2], flow_forward)\n",
    "# name = 'Alternating Affin_PiecewiseAffine coupling random'\n",
    "# flows.append(afpiec_coup_rand), names.append(name);"
   ]
  },
  {
   "cell_type": "code",
   "execution_count": 18,
   "metadata": {
    "jupyter": {
     "source_hidden": true
    }
   },
   "outputs": [],
   "source": [
    "# #Alternating Piecewise Affine with AR\n",
    "\n",
    "# transformations = create_alt_piecewise_affine_trans(num_trans, flow_forward)\n",
    "# afpiec_ar_rand = create_flows_with_AR(dim_input, dim_hidden, transformations, perm_types[2], flow_forward)\n",
    "# name = 'Alternating Affin_PiecewiseAffine AR random'\n",
    "# flows.append(afpiec_ar_rand), names.append(name);"
   ]
  },
  {
   "cell_type": "code",
   "execution_count": 19,
   "metadata": {
    "jupyter": {
     "source_hidden": true
    }
   },
   "outputs": [],
   "source": [
    "# #Alternating with Linear layer and Affine\n",
    "\n",
    "# transformations = create_alt_linear_affine_trans(num_trans, dim_input, flow_forward)\n",
    "# linaff_coup_iden = create_flows_with_twoblock(dim_input, dim_hidden, transformations, perm_types[0], flow_forward)\n",
    "# name = 'Alternating Linear_Affine coupling identity'\n",
    "# flows.append(linaff_coup_iden), names.append(name)\n",
    "\n",
    "# transformations = create_alt_linear_affine_trans(num_trans, dim_input, flow_forward)\n",
    "# linaff_coup_rand = create_flows_with_twoblock(dim_input, dim_hidden, transformations, perm_types[2], flow_forward)\n",
    "# name = 'Alternating Linear_Affine coupling random'\n",
    "# flows.append(linaff_coup_rand), names.append(name)\n",
    "\n",
    "# transformations = create_alt_linear_affine_trans(num_trans, dim_input, flow_forward)\n",
    "# linaff_ar_iden = create_flows_with_AR(dim_input, dim_hidden, transformations, perm_types[0], flow_forward)\n",
    "# name = 'Alternating Linear_Affine AR identity'\n",
    "# flows.append(linaff_ar_iden), names.append(name)\n",
    "\n",
    "# transformations = create_alt_linear_affine_trans(num_trans, dim_input, flow_forward)\n",
    "# linaff_ar_rand = create_flows_with_AR(dim_input, dim_hidden, transformations, perm_types[2], flow_forward)\n",
    "# name = 'Alternating Linear_Affine AR random'\n",
    "# flows.append(linaff_ar_rand), names.append(name);"
   ]
  },
  {
   "cell_type": "code",
   "execution_count": 20,
   "metadata": {
    "jupyter": {
     "source_hidden": true
    }
   },
   "outputs": [],
   "source": [
    "# #Various Alternating Linear and Conditioner transformation\n",
    "\n",
    "# transformations = create_alt_linear_piecewise_trans(num_trans, dim_input, flow_forward)\n",
    "# linpiece_coup_rand = create_flows_with_twoblock(dim_input, dim_hidden, transformations, perm_types[2], flow_forward)\n",
    "# name = 'Alternating Linear_PiecewiseAffine coupling random'\n",
    "# flows.append(linpiece_coup_rand), names.append(name)\n",
    "\n",
    "# transformations = create_alt_linear_continuous_trans(num_trans, dim_input, flow_forward)\n",
    "# lincont_coup_rand = create_flows_with_twoblock(dim_input, dim_hidden, transformations, perm_types[2], flow_forward)\n",
    "# name = 'Alternating Linear_ContinuousPiece coupling random'\n",
    "# flows.append(lincont_coup_rand), names.append(name)\n",
    "\n",
    "# transformations = create_alt_linear_affinepiecewise_trans(num_trans, dim_input, flow_forward)\n",
    "# linaffpiec_coup_rand = create_flows_with_twoblock(dim_input, dim_hidden, transformations, perm_types[2], flow_forward)\n",
    "# name = 'Alternating Linear_AffinePiece coupling random'\n",
    "# flows.append(linaffpiec_coup_rand), names.append(name)\n",
    "\n",
    "# transformations = create_alt_linear_affinecontinuous_trans(num_trans, dim_input, flow_forward)\n",
    "# linaffcont_coup_rand = create_flows_with_twoblock(dim_input, dim_hidden, transformations, perm_types[2], flow_forward)\n",
    "# name = 'Alternating Linear_AffineContinuous coupling random'\n",
    "# flows.append(linaffcont_coup_rand), names.append(name);"
   ]
  },
  {
   "cell_type": "code",
   "execution_count": 25,
   "metadata": {},
   "outputs": [
    {
     "name": "stdout",
     "output_type": "stream",
     "text": [
      "Finished training. Loss for last epoch PiecewiseAffineAffine coupling random 4:     46.73593\n"
     ]
    }
   ],
   "source": [
    "losses = {n: [] for n in flows.keys()}\n",
    "optimizers = {n: [] for n in flows.keys()}\n",
    "\n",
    "for flowname in flows.keys():\n",
    "    for j in range(num_exp):\n",
    "        # Initialize flow\n",
    "        flow = flows[flowname][j]\n",
    "        update_device(device, flow, dataset)\n",
    "\n",
    "        # Initialize optimizer\n",
    "        optimizer = torch.optim.AdamW(flow.parameters(), lr=1e-4, weight_decay=1e-2)\n",
    "        optimizers[flowname].append(optimizer)\n",
    "        \n",
    "        # Train and append losses\n",
    "        losses[flowname].append(\n",
    "            train_backward(\n",
    "                flow, \n",
    "                dataset.get_training_data(), \n",
    "                optimizer, \n",
    "                epochs, \n",
    "                batch_size, \n",
    "                print_n=200, \n",
    "                save_checkpoint=True, \n",
    "                burn_in=-1\n",
    "            )\n",
    "        )\n",
    "\n",
    "        # Move flow to CPU\n",
    "        update_device(device_cpu, flow, dataset)"
   ]
  },
  {
   "cell_type": "code",
   "execution_count": 26,
   "metadata": {},
   "outputs": [],
   "source": [
    "best_flows = {n:[] for n in flows.keys()}\n",
    "for flowname in flows.keys():\n",
    "    for i in range(num_exp):\n",
    "        best_flows[flowname].append(load_best_model(flows[flowname][i]))"
   ]
  },
  {
   "cell_type": "code",
   "execution_count": 27,
   "metadata": {},
   "outputs": [
    {
     "data": {
      "image/png": "[encoded data removed]",
      "text/plain": [
       "<Figure size 864x432 with 6 Axes>"
      ]
     },
     "metadata": {
      "needs_background": "light"
     },
     "output_type": "display_data"
    }
   ],
   "source": [
    "log_scale = True\n",
    "from_iter = 50 * batch_size\n",
    "\n",
    "fig, ax = plt.subplots(2, len(flows), figsize=(12,6))\n",
    "for j, flowname in enumerate(flows.keys()):\n",
    "    for i in range(num_exp):\n",
    "        ax[0,j].plot(losses[flowname][i], label=f'exp{i}', alpha=0.8)\n",
    "        ax[0,j].set_title(f'{flowname}')\n",
    "        if log_scale:\n",
    "            ax[0, j].set_yscale('log')\n",
    "        ax[0, j].legend()\n",
    "\n",
    "log_scale = True\n",
    "for j, flowname in enumerate(flows.keys()):\n",
    "    for i in range(num_exp):\n",
    "        x = np.arange(len(losses[flowname][i]))\n",
    "        ax[1,j].plot(x[from_iter:], losses[flowname][i][from_iter:], label=f'exp{i}', alpha=0.8)\n",
    "        if log_scale:\n",
    "            ax[1, j].set_yscale('log')\n",
    "        ax[1, j].legend()\n",
    "    \n",
    "plt.tight_layout()"
   ]
  },
  {
   "cell_type": "code",
   "execution_count": 28,
   "metadata": {},
   "outputs": [
    {
     "name": "stdout",
     "output_type": "stream",
     "text": [
      "Results based on training data:\n",
      "\n",
      "Mean loglikelihood for PiecewiseAffineAffine coupling identity 0: [-46.74607]\n",
      "Difference between target and PiecewiseAffineAffine coupling identity mean loglikelihood: [0.18460083]\n",
      "\n"
     ]
    },
    {
     "name": "stderr",
     "output_type": "stream",
     "text": [
      "/itf-fi-ml/home/eriklbo/.local/lib/python3.9/site-packages/torch/nn/functional.py:1806: UserWarning: nn.functional.sigmoid is deprecated. Use torch.sigmoid instead.\n",
      "  warnings.warn(\"nn.functional.sigmoid is deprecated. Use torch.sigmoid instead.\")\n"
     ]
    },
    {
     "name": "stdout",
     "output_type": "stream",
     "text": [
      "Mean loglikelihood for PiecewiseAffineAffine coupling identity 1: [-46.813225]\n",
      "Difference between target and PiecewiseAffineAffine coupling identity mean loglikelihood: [0.25175476]\n",
      "\n",
      "Mean loglikelihood for PiecewiseAffineAffine coupling identity 2: [-46.825974]\n",
      "Difference between target and PiecewiseAffineAffine coupling identity mean loglikelihood: [0.26450348]\n",
      "\n",
      "Mean loglikelihood for PiecewiseAffineAffine coupling identity 3: [-46.861095]\n",
      "Difference between target and PiecewiseAffineAffine coupling identity mean loglikelihood: [0.2996254]\n",
      "\n",
      "Mean loglikelihood for PiecewiseAffineAffine coupling identity 4: [-46.838593]\n",
      "Difference between target and PiecewiseAffineAffine coupling identity mean loglikelihood: [0.2771225]\n",
      "\n",
      "---------------------------------------------------------------------------\n",
      "PiecewiseAffineAffine coupling identity -- Mean LogLH Bootstrap: -46.8170 ±  0.0539\n",
      "---------------------------------------------------------------------------\n",
      "\n",
      "Mean loglikelihood for PiecewiseAffineAffine coupling alternate 0: [-46.82494]\n",
      "Difference between target and PiecewiseAffineAffine coupling alternate mean loglikelihood: [0.2634697]\n",
      "\n"
     ]
    },
    {
     "name": "stderr",
     "output_type": "stream",
     "text": [
      "/itf-fi-ml/home/eriklbo/.local/lib/python3.9/site-packages/torch/nn/functional.py:1806: UserWarning: nn.functional.sigmoid is deprecated. Use torch.sigmoid instead.\n",
      "  warnings.warn(\"nn.functional.sigmoid is deprecated. Use torch.sigmoid instead.\")\n"
     ]
    },
    {
     "name": "stdout",
     "output_type": "stream",
     "text": [
      "Mean loglikelihood for PiecewiseAffineAffine coupling alternate 1: [-46.729713]\n",
      "Difference between target and PiecewiseAffineAffine coupling alternate mean loglikelihood: [0.16824341]\n",
      "\n",
      "Mean loglikelihood for PiecewiseAffineAffine coupling alternate 2: [-46.72725]\n",
      "Difference between target and PiecewiseAffineAffine coupling alternate mean loglikelihood: [0.16577911]\n",
      "\n",
      "Mean loglikelihood for PiecewiseAffineAffine coupling alternate 3: [-46.82919]\n",
      "Difference between target and PiecewiseAffineAffine coupling alternate mean loglikelihood: [0.26771927]\n",
      "\n",
      "Mean loglikelihood for PiecewiseAffineAffine coupling alternate 4: [-46.735477]\n",
      "Difference between target and PiecewiseAffineAffine coupling alternate mean loglikelihood: [0.17400742]\n",
      "\n",
      "---------------------------------------------------------------------------\n",
      "PiecewiseAffineAffine coupling alternate -- Mean LogLH Bootstrap: -46.7693 ±  0.0656\n",
      "---------------------------------------------------------------------------\n",
      "\n",
      "Mean loglikelihood for PiecewiseAffineAffine coupling random 0: [-46.664383]\n",
      "Difference between target and PiecewiseAffineAffine coupling random mean loglikelihood: [0.1029129]\n",
      "\n",
      "Mean loglikelihood for PiecewiseAffineAffine coupling random 1: [-46.71717]\n",
      "Difference between target and PiecewiseAffineAffine coupling random mean loglikelihood: [0.15570068]\n",
      "\n",
      "Mean loglikelihood for PiecewiseAffineAffine coupling random 2: [-46.765335]\n",
      "Difference between target and PiecewiseAffineAffine coupling random mean loglikelihood: [0.20386505]\n",
      "\n",
      "Mean loglikelihood for PiecewiseAffineAffine coupling random 3: [-46.669464]\n",
      "Difference between target and PiecewiseAffineAffine coupling random mean loglikelihood: [0.10799408]\n",
      "\n",
      "Mean loglikelihood for PiecewiseAffineAffine coupling random 4: [-46.759743]\n",
      "Difference between target and PiecewiseAffineAffine coupling random mean loglikelihood: [0.1982727]\n",
      "\n",
      "---------------------------------------------------------------------------\n",
      "PiecewiseAffineAffine coupling random -- Mean LogLH Bootstrap: -46.7152 ±  0.0595\n",
      "---------------------------------------------------------------------------\n",
      "\n",
      "Mean loglikelihood with actual distribution: -46.56147003173828\n"
     ]
    }
   ],
   "source": [
    "flow_lh_results = {\n",
    "    'train': {n:[] for n in flows}, \n",
    "    'test': {n:[] for n in flows}, \n",
    "    'sample': {n:[] for n in flows},\n",
    "}\n",
    "cur_res = 'train'\n",
    "\n",
    "print('Results based on training data:' + '\\n')\n",
    "\n",
    "# Function for CI\n",
    "def mean_confidence_interval(data, confidence=0.95):\n",
    "    import scipy.stats\n",
    "    a = 1.0 * np.array(data)\n",
    "    n = len(a)\n",
    "    m, se = np.mean(a), scipy.stats.sem(a)\n",
    "    h = se * scipy.stats.t.ppf((1 + confidence) / 2., n-1)\n",
    "    return m, h\n",
    " \n",
    "\n",
    "train_data = dataset.get_training_data()\n",
    "mean_target = torch.mean(dataset.evaluate(train_data.to(device))).detach().numpy()\n",
    "for flow in best_flows:\n",
    "    for i in range(num_exp):\n",
    "        log_lik, mean = log_likelihood(train_data, flows[flow][i])\n",
    "        flow_lh_results[cur_res][flow].append(mean[0])\n",
    "        print(\"Mean loglikelihood for {}: {}\".format(f'{flow} {i}', mean))\n",
    "        print(\"Difference between target and {} mean loglikelihood: {}\".format(str(flow), abs(mean-mean_target)))\n",
    "        print()\n",
    "    \n",
    "    m, h = mean_confidence_interval(flow_lh_results[cur_res][flow])\n",
    "    print('-'*75)\n",
    "    print(f'{flow} -- Mean LogLH Bootstrap: {m:7.4f} ± {h:7.4f}')\n",
    "    print('-'*75)\n",
    "    print()\n",
    "    \n",
    "\n",
    "print(\"Mean loglikelihood with actual distribution: {}\".format(mean_target))"
   ]
  },
  {
   "cell_type": "code",
   "execution_count": 30,
   "metadata": {},
   "outputs": [
    {
     "name": "stdout",
     "output_type": "stream",
     "text": [
      "Results based on test data\n",
      "\n",
      "Mean loglikelihood for PiecewiseAffineAffine coupling identity 0: [-46.56728]\n",
      "Difference between target and PiecewiseAffineAffine coupling identity mean loglikelihood: [0.33089828]\n",
      "\n",
      "Mean loglikelihood for PiecewiseAffineAffine coupling identity 1: [-46.62714]\n",
      "Difference between target and PiecewiseAffineAffine coupling identity mean loglikelihood: [0.3907585]\n",
      "\n",
      "Mean loglikelihood for PiecewiseAffineAffine coupling identity 2: [-46.656387]\n",
      "Difference between target and PiecewiseAffineAffine coupling identity mean loglikelihood: [0.4200058]\n",
      "\n",
      "Mean loglikelihood for PiecewiseAffineAffine coupling identity 3: [-46.677048]\n",
      "Difference between target and PiecewiseAffineAffine coupling identity mean loglikelihood: [0.4406662]\n",
      "\n",
      "Mean loglikelihood for PiecewiseAffineAffine coupling identity 4: [-46.63226]\n",
      "Difference between target and PiecewiseAffineAffine coupling identity mean loglikelihood: [0.39587784]\n",
      "\n",
      "---------------------------------------------------------------------------\n",
      "PiecewiseAffineAffine coupling identity -- Mean LogLH Bootstrap: -46.6320 ±  0.0279\n",
      "---------------------------------------------------------------------------\n",
      "\n",
      "Mean loglikelihood for PiecewiseAffineAffine coupling alternate 0: [-46.664864]\n",
      "Difference between target and PiecewiseAffineAffine coupling alternate mean loglikelihood: [0.42848206]\n",
      "\n",
      "Mean loglikelihood for PiecewiseAffineAffine coupling alternate 1: [-46.60424]\n",
      "Difference between target and PiecewiseAffineAffine coupling alternate mean loglikelihood: [0.3678589]\n",
      "\n",
      "Mean loglikelihood for PiecewiseAffineAffine coupling alternate 2: [-46.57893]\n",
      "Difference between target and PiecewiseAffineAffine coupling alternate mean loglikelihood: [0.34254837]\n",
      "\n",
      "Mean loglikelihood for PiecewiseAffineAffine coupling alternate 3: [-46.671715]\n",
      "Difference between target and PiecewiseAffineAffine coupling alternate mean loglikelihood: [0.43533325]\n",
      "\n",
      "Mean loglikelihood for PiecewiseAffineAffine coupling alternate 4: [-46.54973]\n",
      "Difference between target and PiecewiseAffineAffine coupling alternate mean loglikelihood: [0.31334686]\n",
      "\n",
      "---------------------------------------------------------------------------\n",
      "PiecewiseAffineAffine coupling alternate -- Mean LogLH Bootstrap: -46.6139 ±  0.0360\n",
      "---------------------------------------------------------------------------\n",
      "\n",
      "Mean loglikelihood for PiecewiseAffineAffine coupling random 0: [-46.491783]\n",
      "Difference between target and PiecewiseAffineAffine coupling random mean loglikelihood: [0.2554016]\n",
      "\n",
      "Mean loglikelihood for PiecewiseAffineAffine coupling random 1: [-46.597397]\n",
      "Difference between target and PiecewiseAffineAffine coupling random mean loglikelihood: [0.36101532]\n",
      "\n",
      "Mean loglikelihood for PiecewiseAffineAffine coupling random 2: [-46.565605]\n",
      "Difference between target and PiecewiseAffineAffine coupling random mean loglikelihood: [0.32922363]\n",
      "\n",
      "Mean loglikelihood for PiecewiseAffineAffine coupling random 3: [-46.458958]\n",
      "Difference between target and PiecewiseAffineAffine coupling random mean loglikelihood: [0.22257614]\n",
      "\n",
      "Mean loglikelihood for PiecewiseAffineAffine coupling random 4: [-46.666172]\n",
      "Difference between target and PiecewiseAffineAffine coupling random mean loglikelihood: [0.4297905]\n",
      "\n",
      "---------------------------------------------------------------------------\n",
      "PiecewiseAffineAffine coupling random -- Mean LogLH Bootstrap: -46.5560 ±  0.0559\n",
      "---------------------------------------------------------------------------\n",
      "\n",
      "Mean loglikelihood with actual distribution: -46.23638153076172\n"
     ]
    }
   ],
   "source": [
    "print('Results based on test data' + '\\n')\n",
    "cur_res = 'test' \n",
    "\n",
    "test_data = dataset.get_test_data()\n",
    "mean_target = torch.mean(dataset.evaluate(test_data)).detach().numpy()\n",
    "for flow in best_flows:\n",
    "    for i in range(num_exp):\n",
    "        log_lik, mean = log_likelihood(test_data, flows[flow][i])\n",
    "        flow_lh_results[cur_res][flow].append(mean[0])\n",
    "        print(\"Mean loglikelihood for {}: {}\".format(f'{flow} {i}', mean))\n",
    "        print(\"Difference between target and {} mean loglikelihood: {}\".format(str(flow), abs(mean-mean_target)))\n",
    "        print()\n",
    "    \n",
    "    m, h = mean_confidence_interval(flow_lh_results[cur_res][flow])\n",
    "    print('-'*75)\n",
    "    print(f'{flow} -- Mean LogLH Bootstrap: {m:7.4f} ± {h:7.4f}')\n",
    "    print('-'*75)\n",
    "    print()\n",
    "    \n",
    "\n",
    "print(\"Mean loglikelihood with actual distribution: {}\".format(mean_target))\n",
    "\n",
    "# for flow in best_flows:\n",
    "#     log_lik, mean = log_likelihood(test_data, flow)\n",
    "#     print(\"Mean loglikelihood for {}: {}\".format(str(flow), mean))\n",
    "#     print(\"Difference between target and {} mean loglikelihood: {}\".format(str(flow), abs(mean-mean_target)))\n",
    "    \n",
    "\n",
    "# print(\"Mean loglikelihood with actual distribution: {}\".format(mean_target))"
   ]
  },
  {
   "cell_type": "code",
   "execution_count": 31,
   "metadata": {},
   "outputs": [
    {
     "name": "stdout",
     "output_type": "stream",
     "text": [
      "Results based on new sample from each flow:\n",
      "\n",
      "Mean loglikelihood for PiecewiseAffineAffine coupling identity 0: [-46.793545]\n",
      "Difference between target and PiecewiseAffineAffine coupling identity mean loglikelihood: [0.45217896]\n",
      "Mean loglikelihood with actual distribution: -47.245723724365234\n",
      "\n",
      "Mean loglikelihood for PiecewiseAffineAffine coupling identity 1: [-46.585438]\n",
      "Difference between target and PiecewiseAffineAffine coupling identity mean loglikelihood: [0.37581253]\n",
      "Mean loglikelihood with actual distribution: -46.96125030517578\n",
      "\n",
      "Mean loglikelihood for PiecewiseAffineAffine coupling identity 2: [-46.60426]\n",
      "Difference between target and PiecewiseAffineAffine coupling identity mean loglikelihood: [0.3890648]\n",
      "Mean loglikelihood with actual distribution: -46.993324279785156\n",
      "\n",
      "Mean loglikelihood for PiecewiseAffineAffine coupling identity 3: [-46.712284]\n",
      "Difference between target and PiecewiseAffineAffine coupling identity mean loglikelihood: [0.46403503]\n",
      "Mean loglikelihood with actual distribution: -47.17631912231445\n",
      "\n",
      "Mean loglikelihood for PiecewiseAffineAffine coupling identity 4: [-46.9285]\n",
      "Difference between target and PiecewiseAffineAffine coupling identity mean loglikelihood: [0.36266708]\n",
      "Mean loglikelihood with actual distribution: -47.291168212890625\n",
      "\n",
      "---------------------------------------------------------------------------\n",
      "PiecewiseAffineAffine coupling identity -- Mean LogLH Bootstrap: -46.7248 ±  0.1760\n",
      "---------------------------------------------------------------------------\n",
      "\n",
      "Mean loglikelihood for PiecewiseAffineAffine coupling alternate 0: [-46.752724]\n",
      "Difference between target and PiecewiseAffineAffine coupling alternate mean loglikelihood: [0.47919083]\n",
      "Mean loglikelihood with actual distribution: -47.23191452026367\n",
      "\n",
      "Mean loglikelihood for PiecewiseAffineAffine coupling alternate 1: [-46.788265]\n",
      "Difference between target and PiecewiseAffineAffine coupling alternate mean loglikelihood: [0.3857956]\n",
      "Mean loglikelihood with actual distribution: -47.1740608215332\n",
      "\n",
      "Mean loglikelihood for PiecewiseAffineAffine coupling alternate 2: [-46.950375]\n",
      "Difference between target and PiecewiseAffineAffine coupling alternate mean loglikelihood: [0.42870712]\n",
      "Mean loglikelihood with actual distribution: -47.37908172607422\n",
      "\n",
      "Mean loglikelihood for PiecewiseAffineAffine coupling alternate 3: [-46.593925]\n",
      "Difference between target and PiecewiseAffineAffine coupling alternate mean loglikelihood: [0.45842743]\n",
      "Mean loglikelihood with actual distribution: -47.05235290527344\n",
      "\n",
      "Mean loglikelihood for PiecewiseAffineAffine coupling alternate 4: [-46.710495]\n",
      "Difference between target and PiecewiseAffineAffine coupling alternate mean loglikelihood: [0.27643967]\n",
      "Mean loglikelihood with actual distribution: -46.986934661865234\n",
      "\n",
      "---------------------------------------------------------------------------\n",
      "PiecewiseAffineAffine coupling alternate -- Mean LogLH Bootstrap: -46.7592 ±  0.1608\n",
      "---------------------------------------------------------------------------\n",
      "\n",
      "Mean loglikelihood for PiecewiseAffineAffine coupling random 0: [-46.646626]\n",
      "Difference between target and PiecewiseAffineAffine coupling random mean loglikelihood: [0.26991653]\n",
      "Mean loglikelihood with actual distribution: -46.916542053222656\n",
      "\n",
      "Mean loglikelihood for PiecewiseAffineAffine coupling random 1: [-46.79579]\n",
      "Difference between target and PiecewiseAffineAffine coupling random mean loglikelihood: [0.45734406]\n",
      "Mean loglikelihood with actual distribution: -47.253135681152344\n",
      "\n",
      "Mean loglikelihood for PiecewiseAffineAffine coupling random 2: [-46.366806]\n",
      "Difference between target and PiecewiseAffineAffine coupling random mean loglikelihood: [0.41222382]\n",
      "Mean loglikelihood with actual distribution: -46.779029846191406\n",
      "\n",
      "Mean loglikelihood for PiecewiseAffineAffine coupling random 3: [-46.603916]\n",
      "Difference between target and PiecewiseAffineAffine coupling random mean loglikelihood: [0.29883957]\n",
      "Mean loglikelihood with actual distribution: -46.90275573730469\n",
      "\n",
      "Mean loglikelihood for PiecewiseAffineAffine coupling random 4: [-46.500263]\n",
      "Difference between target and PiecewiseAffineAffine coupling random mean loglikelihood: [0.39020157]\n",
      "Mean loglikelihood with actual distribution: -46.890464782714844\n",
      "\n",
      "---------------------------------------------------------------------------\n",
      "PiecewiseAffineAffine coupling random -- Mean LogLH Bootstrap: -46.5827 ±  0.1996\n",
      "---------------------------------------------------------------------------\n",
      "\n"
     ]
    }
   ],
   "source": [
    "print('Results based on new sample from each flow:' + '\\n')\n",
    "cur_res = 'sample'\n",
    "\n",
    "for flow in best_flows:\n",
    "    for i in range(num_exp):\n",
    "        with torch.no_grad():\n",
    "            sample, log_prob = flows[flow][i].sample(800)\n",
    "            sample_last = sample[-1]\n",
    "\n",
    "        mean_target = torch.mean(dataset.evaluate(sample_last)).detach().numpy()\n",
    "        log_lik, mean = log_likelihood(sample_last, flows[flow][i])\n",
    "        flow_lh_results[cur_res][flow].append(mean[0])\n",
    "        print(\"Mean loglikelihood for {}: {}\".format(f'{flow} {i}', mean))\n",
    "        print(\"Difference between target and {} mean loglikelihood: {}\".format(str(flow), abs(mean-mean_target)))\n",
    "        print(\"Mean loglikelihood with actual distribution: {}\".format(mean_target))   \n",
    "        print()\n",
    "    \n",
    "    m, h = mean_confidence_interval(flow_lh_results[cur_res][flow])\n",
    "    print('-'*75)\n",
    "    print(f'{flow} -- Mean LogLH Bootstrap: {m:7.4f} ± {h:7.4f}')\n",
    "    print('-'*75)\n",
    "    print()\n",
    "\n",
    "\n",
    "# for flow in best_flows:\n",
    "#     with torch.no_grad():\n",
    "#         sample, log_prob = flow.sample(800)\n",
    "#         sample_last = sample[-1]\n",
    "\n",
    "#     #sample_last.clip_(-7, 7)\n",
    "#     mean_target = torch.mean(dataset.evaluate(sample_last)).detach().numpy()\n",
    "#     log_lik, mean = log_likelihood(sample_last, flow)\n",
    "\n",
    "#     print('Check for NANs: ', torch.isnan(sample_last).any().item())\n",
    "#     print(\"Mean loglikelihood for {}: {}\".format(str(flow), mean))\n",
    "#     print(\"Difference between target and {} mean loglikelihood: {}\".format(str(flow), abs(mean-mean_target)))    \n",
    "#     print(\"Mean loglikelihood with actual distribution: {}\".format(mean_target))   "
   ]
  },
  {
   "cell_type": "code",
   "execution_count": null,
   "metadata": {},
   "outputs": [],
   "source": []
  }
 ],
 "metadata": {
  "kernelspec": {
   "display_name": "Python 3 (ipykernel)",
   "language": "python",
   "name": "python3"
  },
  "language_info": {
   "codemirror_mode": {
    "name": "ipython",
    "version": 3
   },
   "file_extension": ".py",
   "mimetype": "text/x-python",
   "name": "python",
   "nbconvert_exporter": "python",
   "pygments_lexer": "ipython3",
   "version": "3.9.5"
  }
 },
 "nbformat": 4,
 "nbformat_minor": 4
}
