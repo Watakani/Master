{
 "cells": [
  {
   "cell_type": "code",
   "execution_count": 1,
   "metadata": {},
   "outputs": [],
   "source": [
    "%load_ext autoreload\n",
    "%autoreload 2"
   ]
  },
  {
   "cell_type": "code",
   "execution_count": 2,
   "metadata": {},
   "outputs": [],
   "source": [
    "import torch\n",
    "import torch.nn.functional as F\n",
    "import torch.nn as nn\n",
    "import os\n",
    "\n",
    "import numpy as np\n",
    "import matplotlib.pyplot as plt\n",
    "\n",
    "from NormalizingFlows.src.train import train_backward\n",
    "from NormalizingFlows.src.scores import log_likelihood\n",
    "from NormalizingFlows.src.utils import update_device, load_best_model, load_checkpoint_model\n",
    "\n",
    "from NormalizingFlows.src.flows import *\n",
    "from NormalizingFlows.src.data.density.toydata import ToyDataset"
   ]
  },
  {
   "cell_type": "code",
   "execution_count": 3,
   "metadata": {},
   "outputs": [],
   "source": [
    "def set_visible_devices(*devices: int) -> None:\n",
    "    '''Utility to set visible Cuda devices.\n",
    "\n",
    "    Parameters\n",
    "    ----------\n",
    "    devices : List[int]\n",
    "        Index of cuda devices to make available for use.\n",
    "    '''\n",
    "    assert all([d >= 0 for d in devices]), f\"Not all devices are CUDA devices!\"\n",
    "    os.environ['CUDA_VISIBLE_DEVICES'] = \",\".join([str(i) for i in devices])\n",
    "    \n",
    "\n",
    "def set_devices(*devices: int):\n",
    "    '''Utility to set Cuda device(s).\n",
    "\n",
    "    Parameters\n",
    "    ----------\n",
    "    devices : List[int]\n",
    "        Index of cuda devices to make available for use.\n",
    "\n",
    "    Returns\n",
    "    -------\n",
    "    torch.device or List[torch.device] of currently available CUDA devices.\n",
    "    '''\n",
    "    assert len(devices) > 0, f'Device list is empty, no devices set.'\n",
    "    if len(devices) == 1:\n",
    "        if devices[0] >= 0:\n",
    "            set_visible_devices(devices[0])\n",
    "            return torch.device(0)\n",
    "        else:\n",
    "            return torch.device('cpu')\n",
    "\n",
    "    else:\n",
    "        set_visible_devices(*devices)\n",
    "        return [torch.device(i) for i in range(len(devices))]"
   ]
  },
  {
   "cell_type": "code",
   "execution_count": 4,
   "metadata": {},
   "outputs": [],
   "source": [
    "device = set_devices(1) #torch.device(\"cuda\") if torch.cuda.is_available() else torch.device(\"cpu\")\n",
    "device_cpu = torch.device(\"cpu\")"
   ]
  },
  {
   "cell_type": "code",
   "execution_count": 5,
   "metadata": {},
   "outputs": [],
   "source": [
    "dim_input = 25\n",
    "dataset = ToyDataset(dim_input=dim_input, samples=1000)"
   ]
  },
  {
   "cell_type": "code",
   "execution_count": 6,
   "metadata": {},
   "outputs": [],
   "source": [
    "dim_input = dataset.dim_input\n",
    "num_trans = 6 #Must be even\n",
    "perm_types = ['identity', 'alternate','random']\n",
    "dim_hidden = [100,100,100]\n",
    "flows, names = [], []\n",
    "flow_forward=False"
   ]
  },
  {
   "cell_type": "code",
   "execution_count": 7,
   "metadata": {},
   "outputs": [],
   "source": [
    "#Linear and mean field\n",
    "\n",
    "transformations = create_constant_trans(num_trans, dim_input, flow_forward)\n",
    "mean_field = create_flows_with_identity(dim_input, transformations, flow_forward) \n",
    "name = 'Mean field'\n",
    "flows.append(mean_field), names.append(name)\n",
    "\n",
    "transformations = create_linear_bias_trans(num_trans, dim_input, flow_forward)\n",
    "linear = create_flows_with_identity(dim_input, transformations, flow_forward)\n",
    "name = 'Linear'\n",
    "flows.append(linear), names.append(name);"
   ]
  },
  {
   "cell_type": "code",
   "execution_count": 8,
   "metadata": {
    "jupyter": {
     "source_hidden": true
    },
    "tags": []
   },
   "outputs": [],
   "source": [
    "# #Affine flows with two block\n",
    "\n",
    "# transformations = create_affine_trans(num_trans, dim_input, flow_forward)\n",
    "# aff_coup_id = create_flows_with_twoblock(dim_input, dim_hidden, transformations, perm_types[0], flow_forward)\n",
    "# name = 'Affine coupling identity'\n",
    "# flows.append(aff_coup_id), names.append(name)\n",
    "\n",
    "# transformations = create_affine_trans(num_trans, dim_input, flow_forward)\n",
    "# aff_coup_alt = create_flows_with_twoblock(dim_input, dim_hidden, transformations, perm_types[1], flow_forward)\n",
    "# name = 'Affine coupling alternating'\n",
    "# flows.append(aff_coup_alt), names.append(name)\n",
    "\n",
    "# transformations = create_affine_trans(num_trans, dim_input, flow_forward)\n",
    "# aff_coup_rand = create_flows_with_twoblock(dim_input, dim_hidden, transformations, perm_types[2], flow_forward)\n",
    "# name = 'Affine coupling random'\n",
    "# flows.append(aff_coup_rand), names.append(name);"
   ]
  },
  {
   "cell_type": "code",
   "execution_count": 9,
   "metadata": {
    "jupyter": {
     "source_hidden": true
    }
   },
   "outputs": [],
   "source": [
    "# #Affine flows with AR\n",
    "\n",
    "# transformations = create_affine_trans(num_trans, dim_input, flow_forward)\n",
    "# aff_ar_id = create_flows_with_AR(dim_input, dim_hidden, transformations, perm_types[0], flow_forward)\n",
    "# name = 'Affine AR identity'\n",
    "# flows.append(aff_ar_id), names.append(name)\n",
    "\n",
    "# transformations = create_affine_trans(num_trans, dim_input, flow_forward)\n",
    "# aff_ar_alt = create_flows_with_AR(dim_input, dim_hidden, transformations, perm_types[1], flow_forward)\n",
    "# name = 'Affine AR alternate'\n",
    "# flows.append(aff_ar_alt), names.append(name)\n",
    "\n",
    "# transformations = create_affine_trans(num_trans, dim_input, flow_forward)\n",
    "# aff_ar_rand = create_flows_with_AR(dim_input, dim_hidden, transformations, perm_types[2], flow_forward)\n",
    "# name = 'Affine AR random'\n",
    "# flows.append(aff_ar_rand), names.append(name);"
   ]
  },
  {
   "cell_type": "code",
   "execution_count": 10,
   "metadata": {
    "jupyter": {
     "source_hidden": true
    }
   },
   "outputs": [],
   "source": [
    "# #PiecewiseAffine flows with coupling\n",
    "\n",
    "# transformations = create_piecewise_trans(num_trans, flow_forward)\n",
    "# piec_coup_id = create_flows_with_twoblock(dim_input, dim_hidden, transformations, perm_types[0], flow_forward)\n",
    "# name = 'PiecewiseAffine coupling identity'\n",
    "# flows.append(piec_coup_id), names.append(name)\n",
    "\n",
    "# transformations = create_piecewise_trans(num_trans, flow_forward)\n",
    "# piec_coup_alt = create_flows_with_twoblock(dim_input, dim_hidden, transformations, perm_types[1], flow_forward)\n",
    "# name = 'PiecewiseAffine coupling alternate'\n",
    "# flows.append(piec_coup_alt), names.append(name)\n",
    "\n",
    "# transformations = create_piecewise_trans(num_trans, flow_forward)\n",
    "# piec_coup_rand = create_flows_with_twoblock(dim_input, dim_hidden, transformations, perm_types[2], flow_forward)\n",
    "# name = 'PiecewiseAffine coupling random'\n",
    "# flows.append(piec_coup_rand), names.append(name);"
   ]
  },
  {
   "cell_type": "code",
   "execution_count": 11,
   "metadata": {
    "jupyter": {
     "source_hidden": true
    }
   },
   "outputs": [],
   "source": [
    "# #PiecewiseAffine flows with AR\n",
    "\n",
    "# transformations = create_piecewise_trans(num_trans, flow_forward)\n",
    "# piec_ar_id = create_flows_with_AR(dim_input, dim_hidden, transformations, perm_types[0], flow_forward)\n",
    "# name = 'PiecewiseAffine AR identity'\n",
    "# flows.append(piec_ar_id), names.append(name)\n",
    "\n",
    "# transformations = create_piecewise_trans(num_trans, flow_forward)\n",
    "# piec_ar_alt = create_flows_with_AR(dim_input, dim_hidden, transformations, perm_types[1], flow_forward)\n",
    "# name = 'PiecewiseAffine AR alternate'\n",
    "# flows.append(piec_ar_alt), names.append(name)\n",
    "\n",
    "# transformations = create_piecewise_trans(num_trans, flow_forward)\n",
    "# piec_ar_rand = create_flows_with_AR(dim_input, dim_hidden, transformations, perm_types[2], flow_forward)\n",
    "# name = 'PiecewiseAffine AR random'\n",
    "# flows.append(piec_ar_rand), names.append(name);"
   ]
  },
  {
   "cell_type": "code",
   "execution_count": 12,
   "metadata": {
    "jupyter": {
     "source_hidden": true
    }
   },
   "outputs": [],
   "source": [
    "# #PiecewiseAffineAffine with twoblock\n",
    "\n",
    "# transformations = create_affinepiecewise_trans(num_trans, flow_forward)\n",
    "# piecaf_coup_id = create_flows_with_twoblock(dim_input, dim_hidden, transformations, perm_types[0], flow_forward)\n",
    "# name = 'PiecewiseAffineAffine coupling identity'\n",
    "# flows.append(piecaf_coup_id), names.append(name)\n",
    "\n",
    "# transformations = create_affinepiecewise_trans(num_trans, flow_forward)\n",
    "# piecaf_coup_alt = create_flows_with_twoblock(dim_input, dim_hidden, transformations, perm_types[1], flow_forward)\n",
    "# name = 'PiecewiseAffineAffine coupling alternate'\n",
    "# flows.append(piecaf_coup_alt), names.append(name)\n",
    "\n",
    "# transformations = create_affinepiecewise_trans(num_trans, flow_forward)\n",
    "# piecaf_coup_rand = create_flows_with_twoblock(dim_input, dim_hidden, transformations, perm_types[1], flow_forward)\n",
    "# name = 'PiecewiseAffineAffine coupling random'\n",
    "# flows.append(piecaf_coup_rand), names.append(name);"
   ]
  },
  {
   "cell_type": "code",
   "execution_count": 13,
   "metadata": {
    "jupyter": {
     "source_hidden": true
    }
   },
   "outputs": [],
   "source": [
    "# #PiecewiseAffineAffine with AR\n",
    "\n",
    "# transformations = create_affinepiecewise_trans(num_trans, flow_forward)\n",
    "# piecaf_ar_id = create_flows_with_AR(dim_input, dim_hidden, transformations, perm_types[0], flow_forward)\n",
    "# name = 'PiecewiseAffineAffine AR identity'\n",
    "# flows.append(piecaf_ar_id), names.append(name)\n",
    "\n",
    "# transformations = create_affinepiecewise_trans(num_trans, flow_forward)\n",
    "# piecaf_ar_alt = create_flows_with_AR(dim_input, dim_hidden, transformations, perm_types[1], flow_forward)\n",
    "# name = 'PiecewiseAffineAffine AR alternate'\n",
    "# flows.append(piecaf_ar_alt), names.append(name)\n",
    "\n",
    "# transformations = create_affinepiecewise_trans(num_trans, flow_forward)\n",
    "# piecaf_ar_rand = create_flows_with_AR(dim_input, dim_hidden, transformations, perm_types[2], flow_forward)\n",
    "# name = 'PiecewiseAffineAffine AR random'\n",
    "# flows.append(piecaf_ar_rand), names.append(name);"
   ]
  },
  {
   "cell_type": "code",
   "execution_count": 14,
   "metadata": {
    "jupyter": {
     "source_hidden": true
    }
   },
   "outputs": [],
   "source": [
    "# #ContinuousPiecewise with twoblock\n",
    "\n",
    "# transformations = create_continuous_piecewise_trans(num_trans, flow_forward)\n",
    "# conpiec_coup_iden = create_flows_with_twoblock(dim_input, dim_hidden, transformations, perm_types[0], flow_forward)\n",
    "# name = 'ContinuousPiecewiseAffine coupling identity'\n",
    "# flows.append(conpiec_coup_iden), names.append(name)\n",
    "\n",
    "# transformations = create_continuous_piecewise_trans(num_trans, flow_forward)\n",
    "# conpiec_coup_alt = create_flows_with_twoblock(dim_input, dim_hidden, transformations, perm_types[1], flow_forward)\n",
    "# name = 'ContinuousPiecewiseAffine coupling alternate'\n",
    "# flows.append(conpiec_coup_alt), names.append(name)\n",
    "\n",
    "# transformations = create_continuous_piecewise_trans(num_trans, flow_forward)\n",
    "# conpiec_coup_rand = create_flows_with_twoblock(dim_input, dim_hidden, transformations, perm_types[2], flow_forward)\n",
    "# name = 'ContinuousPiecewiseAffine coupling random'\n",
    "# flows.append(conpiec_coup_rand), names.append(name);"
   ]
  },
  {
   "cell_type": "code",
   "execution_count": 15,
   "metadata": {
    "jupyter": {
     "source_hidden": true
    }
   },
   "outputs": [],
   "source": [
    "# #ContinuousPiecewise with AR\n",
    "\n",
    "# transformations = create_continuous_piecewise_trans(num_trans, flow_forward)\n",
    "# conpiec_ar_iden = create_flows_with_AR(dim_input, dim_hidden, transformations, perm_types[0], flow_forward)\n",
    "# name = 'ContinuousPiecewiseAffine AR identity'\n",
    "# flows.append(conpiec_ar_iden), names.append(name)\n",
    "\n",
    "# transformations = create_continuous_piecewise_trans(num_trans, flow_forward)\n",
    "# conpiec_ar_alt = create_flows_with_AR(dim_input, dim_hidden, transformations, perm_types[1], flow_forward)\n",
    "# name = 'ContinuousPiecewiseAffine AR alternate'\n",
    "# flows.append(conpiec_ar_alt), names.append(name)\n",
    "\n",
    "# transformations = create_continuous_piecewise_trans(num_trans, flow_forward)\n",
    "# conpiec_ar_rand = create_flows_with_AR(dim_input, dim_hidden, transformations, perm_types[2], flow_forward)\n",
    "# name = 'ContinuousPiecewiseAffine AR random'\n",
    "# flows.append(conpiec_ar_rand), names.append(name);"
   ]
  },
  {
   "cell_type": "code",
   "execution_count": 16,
   "metadata": {
    "jupyter": {
     "source_hidden": true
    }
   },
   "outputs": [],
   "source": [
    "# #ContinuousPiecewiseAffine with twoblock\n",
    "\n",
    "# transformations = create_affinecontinuous_trans(num_trans, flow_forward)\n",
    "# affconpiec_coup_iden = create_flows_with_twoblock(dim_input, dim_hidden, transformations, perm_types[0], flow_forward)\n",
    "# name = 'ContinuousPiecewiseAffineAffine coupling identity'\n",
    "# flows.append(affconpiec_coup_iden), names.append(name)\n",
    "\n",
    "# transformations = create_affinecontinuous_trans(num_trans, flow_forward)\n",
    "# affconpiec_coup_alt = create_flows_with_twoblock(dim_input, dim_hidden, transformations, perm_types[1], flow_forward)\n",
    "# name = 'ContinuousPiecewiseAffineAffine coupling alternate'\n",
    "# flows.append(affconpiec_coup_alt), names.append(name)\n",
    "\n",
    "# transformations = create_affinecontinuous_trans(num_trans, flow_forward)\n",
    "# affconpiec_coup_rand = create_flows_with_twoblock(dim_input, dim_hidden, transformations, perm_types[2], flow_forward)\n",
    "# name = 'ContinuousPiecewiseAffineAffine coupling random'\n",
    "# flows.append(affconpiec_coup_rand), names.append(name);"
   ]
  },
  {
   "cell_type": "code",
   "execution_count": 17,
   "metadata": {
    "jupyter": {
     "source_hidden": true
    }
   },
   "outputs": [],
   "source": [
    "# #ContinuousPiecewiseAffine with AR\n",
    "\n",
    "# transformations = create_affinecontinuous_trans(num_trans, flow_forward)\n",
    "# affconpiec_ar_iden = create_flows_with_AR(dim_input, dim_hidden, transformations, perm_types[0], flow_forward)\n",
    "# name = 'ContinuousPiecewiseAffineAffine AR identity'\n",
    "# flows.append(affconpiec_ar_iden), names.append(name)\n",
    "\n",
    "# transformations = create_affinecontinuous_trans(num_trans, flow_forward)\n",
    "# affconpiec_ar_alt = create_flows_with_AR(dim_input, dim_hidden, transformations, perm_types[1], flow_forward)\n",
    "# name = 'ContinuousPiecewiseAffineAffine AR alternate'\n",
    "# flows.append(affconpiec_ar_alt), names.append(name)\n",
    "\n",
    "# transformations = create_affinecontinuous_trans(num_trans, flow_forward)\n",
    "# affconpiec_ar_rand = create_flows_with_AR(dim_input, dim_hidden, transformations, perm_types[2], flow_forward)\n",
    "# name = 'ContinuousPiecewiseAffineAffine AR random'\n",
    "# flows.append(affconpiec_ar_rand), names.append(name);"
   ]
  },
  {
   "cell_type": "code",
   "execution_count": 18,
   "metadata": {
    "jupyter": {
     "source_hidden": true
    }
   },
   "outputs": [],
   "source": [
    "# #Alternating Piecewise Affine with twoblock\n",
    "\n",
    "# transformations = create_alt_piecewise_affine_trans(num_trans, flow_forward)\n",
    "# afpiec_coup_rand = create_flows_with_twoblock(dim_input, dim_hidden, transformations, perm_types[2], flow_forward)\n",
    "# name = 'Alternating Affin_PiecewiseAffine coupling random'\n",
    "# flows.append(afpiec_coup_rand), names.append(name);"
   ]
  },
  {
   "cell_type": "code",
   "execution_count": 19,
   "metadata": {
    "jupyter": {
     "source_hidden": true
    }
   },
   "outputs": [],
   "source": [
    "# #Alternating Piecewise Affine with AR\n",
    "\n",
    "# transformations = create_alt_piecewise_affine_trans(num_trans, flow_forward)\n",
    "# afpiec_ar_rand = create_flows_with_AR(dim_input, dim_hidden, transformations, perm_types[2], flow_forward)\n",
    "# name = 'Alternating Affin_PiecewiseAffine AR random'\n",
    "# flows.append(afpiec_ar_rand), names.append(name);"
   ]
  },
  {
   "cell_type": "code",
   "execution_count": 20,
   "metadata": {
    "jupyter": {
     "source_hidden": true
    }
   },
   "outputs": [],
   "source": [
    "# #Alternating with Linear layer and Affine\n",
    "\n",
    "# transformations = create_alt_linear_affine_trans(num_trans, dim_input, flow_forward)\n",
    "# linaff_coup_iden = create_flows_with_twoblock(dim_input, dim_hidden, transformations, perm_types[0], flow_forward)\n",
    "# name = 'Alternating Linear_Affine coupling identity'\n",
    "# flows.append(linaff_coup_iden), names.append(name)\n",
    "\n",
    "# transformations = create_alt_linear_affine_trans(num_trans, dim_input, flow_forward)\n",
    "# linaff_coup_rand = create_flows_with_twoblock(dim_input, dim_hidden, transformations, perm_types[2], flow_forward)\n",
    "# name = 'Alternating Linear_Affine coupling random'\n",
    "# flows.append(linaff_coup_rand), names.append(name)\n",
    "\n",
    "# transformations = create_alt_linear_affine_trans(num_trans, dim_input, flow_forward)\n",
    "# linaff_ar_iden = create_flows_with_AR(dim_input, dim_hidden, transformations, perm_types[0], flow_forward)\n",
    "# name = 'Alternating Linear_Affine AR identity'\n",
    "# flows.append(linaff_ar_iden), names.append(name)\n",
    "\n",
    "# transformations = create_alt_linear_affine_trans(num_trans, dim_input, flow_forward)\n",
    "# linaff_ar_rand = create_flows_with_AR(dim_input, dim_hidden, transformations, perm_types[2], flow_forward)\n",
    "# name = 'Alternating Linear_Affine AR random'\n",
    "# flows.append(linaff_ar_rand), names.append(name);"
   ]
  },
  {
   "cell_type": "code",
   "execution_count": 21,
   "metadata": {
    "jupyter": {
     "source_hidden": true
    }
   },
   "outputs": [],
   "source": [
    "# #Various Alternating Linear and Conditioner transformation\n",
    "\n",
    "# transformations = create_alt_linear_piecewise_trans(num_trans, dim_input, flow_forward)\n",
    "# linpiece_coup_rand = create_flows_with_twoblock(dim_input, dim_hidden, transformations, perm_types[2], flow_forward)\n",
    "# name = 'Alternating Linear_PiecewiseAffine coupling random'\n",
    "# flows.append(linpiece_coup_rand), names.append(name)\n",
    "\n",
    "# transformations = create_alt_linear_continuous_trans(num_trans, dim_input, flow_forward)\n",
    "# lincont_coup_rand = create_flows_with_twoblock(dim_input, dim_hidden, transformations, perm_types[2], flow_forward)\n",
    "# name = 'Alternating Linear_ContinuousPiece coupling random'\n",
    "# flows.append(lincont_coup_rand), names.append(name)\n",
    "\n",
    "# transformations = create_alt_linear_affinepiecewise_trans(num_trans, dim_input, flow_forward)\n",
    "# linaffpiec_coup_rand = create_flows_with_twoblock(dim_input, dim_hidden, transformations, perm_types[2], flow_forward)\n",
    "# name = 'Alternating Linear_AffinePiece coupling random'\n",
    "# flows.append(linaffpiec_coup_rand), names.append(name)\n",
    "\n",
    "# transformations = create_alt_linear_affinecontinuous_trans(num_trans, dim_input, flow_forward)\n",
    "# linaffcont_coup_rand = create_flows_with_twoblock(dim_input, dim_hidden, transformations, perm_types[2], flow_forward)\n",
    "# name = 'Alternating Linear_AffineContinuous coupling random'\n",
    "# flows.append(linaffcont_coup_rand), names.append(name);"
   ]
  },
  {
   "cell_type": "code",
   "execution_count": 22,
   "metadata": {},
   "outputs": [],
   "source": [
    "for ind, flow in enumerate(flows):\n",
    "    flow.name = names[ind]"
   ]
  },
  {
   "cell_type": "code",
   "execution_count": 23,
   "metadata": {},
   "outputs": [],
   "source": [
    "losses = []\n",
    "optimizers = []\n",
    "\n",
    "epochs = 100\n",
    "batch_size = 32"
   ]
  },
  {
   "cell_type": "code",
   "execution_count": 24,
   "metadata": {},
   "outputs": [
    {
     "name": "stdout",
     "output_type": "stream",
     "text": [
      "Finished training. Loss for last epoch Linear:     62.77375\n"
     ]
    }
   ],
   "source": [
    "for i in range(len(flows)):\n",
    "    flow = flows[i]\n",
    "    update_device(device, flow, dataset)\n",
    "\n",
    "    #optimizer = torch.optim.AdamW(flow.parameters(), lr=1e-3, weight_decay=1e-3)\n",
    "    optimizer = torch.optim.SGD(flow.parameters(), lr=1e-4,  weight_decay=1e-3)\n",
    "    optimizers.append(optimizer)\n",
    "\n",
    "    losses.append(train_backward(flow, dataset.get_training_data(), optimizer, epochs, batch_size, print_n=200, save_checkpoint=True, burn_in=-1))\n",
    "    update_device(device_cpu, flow, dataset)"
   ]
  },
  {
   "cell_type": "code",
   "execution_count": 25,
   "metadata": {},
   "outputs": [],
   "source": [
    "best_flows = []\n",
    "for flow in flows:\n",
    "    best_flows.append(load_best_model(flow))"
   ]
  },
  {
   "cell_type": "code",
   "execution_count": 26,
   "metadata": {},
   "outputs": [
    {
     "data": {
      "image/png": "[encoded data removed]",
      "text/plain": [
       "<Figure size 432x288 with 2 Axes>"
      ]
     },
     "metadata": {
      "needs_background": "light"
     },
     "output_type": "display_data"
    }
   ],
   "source": [
    "log_scale = True\n",
    "from_iter = 75\n",
    "\n",
    "plt.subplot(2,1,1)\n",
    "for i in range(len(losses)):\n",
    "    plt.plot(losses[i], label=names[i], alpha=0.8)\n",
    "plt.legend()\n",
    "if log_scale:\n",
    "    plt.yscale('log')\n",
    "\n",
    "log_scale = False\n",
    "plt.subplot(2,1,2)\n",
    "for i in range(len(losses)):\n",
    "    plt.plot((losses[i])[from_iter:], label=names[i], alpha=0.8)\n",
    "plt.legend()\n",
    "\n",
    "if log_scale:\n",
    "    plt.yscale('log')"
   ]
  },
  {
   "cell_type": "code",
   "execution_count": 27,
   "metadata": {},
   "outputs": [
    {
     "name": "stdout",
     "output_type": "stream",
     "text": [
      "Results based on training data:\n",
      "\n",
      "Mean loglikelihood for Mean field: [-546.31464]\n",
      "Difference between target and Mean field mean loglikelihood: [499.51196]\n",
      "Mean loglikelihood for Linear: [-62.689957]\n",
      "Difference between target and Linear mean loglikelihood: [15.887272]\n",
      "Mean loglikelihood with actual distribution: -46.80268478393555\n"
     ]
    }
   ],
   "source": [
    "print('Results based on training data:' + '\\n')\n",
    "\n",
    "train_data = dataset.get_training_data()\n",
    "mean_target = torch.mean(dataset.evaluate(train_data.to(device))).detach().numpy()\n",
    "for flow in best_flows:\n",
    "    log_lik, mean = log_likelihood(train_data, flow)\n",
    "    print(\"Mean loglikelihood for {}: {}\".format(str(flow), mean))\n",
    "    print(\"Difference between target and {} mean loglikelihood: {}\".format(str(flow), abs(mean-mean_target)))\n",
    "    \n",
    "\n",
    "print(\"Mean loglikelihood with actual distribution: {}\".format(mean_target))"
   ]
  },
  {
   "cell_type": "code",
   "execution_count": 28,
   "metadata": {},
   "outputs": [
    {
     "name": "stdout",
     "output_type": "stream",
     "text": [
      "Results based on test data\n",
      "\n",
      "Mean loglikelihood for Mean field: [-546.6821]\n",
      "Difference between target and Mean field mean loglikelihood: [500.12665]\n",
      "Mean loglikelihood for Linear: [-64.25369]\n",
      "Difference between target and Linear mean loglikelihood: [17.698196]\n",
      "Mean loglikelihood with actual distribution: -46.55549621582031\n"
     ]
    }
   ],
   "source": [
    "print('Results based on test data' + '\\n')\n",
    "\n",
    "test_data = dataset.get_test_data()\n",
    "mean_target = torch.mean(dataset.evaluate(test_data)).detach().numpy()\n",
    "for flow in best_flows:\n",
    "    log_lik, mean = log_likelihood(test_data, flow)\n",
    "    print(\"Mean loglikelihood for {}: {}\".format(str(flow), mean))\n",
    "    print(\"Difference between target and {} mean loglikelihood: {}\".format(str(flow), abs(mean-mean_target)))\n",
    "    \n",
    "\n",
    "print(\"Mean loglikelihood with actual distribution: {}\".format(mean_target))"
   ]
  },
  {
   "cell_type": "code",
   "execution_count": 39,
   "metadata": {},
   "outputs": [
    {
     "name": "stdout",
     "output_type": "stream",
     "text": [
      "Results based on new sample from each flow:\n",
      "\n",
      "Check for NANs:  False\n",
      "Mean loglikelihood for Mean field: [-540.7374]\n",
      "Difference between target and Mean field mean loglikelihood: [277.01517]\n",
      "Mean loglikelihood with actual distribution: -263.7222595214844\n",
      "Check for NANs:  False\n",
      "Mean loglikelihood for Linear: [-33.99629]\n",
      "Difference between target and Linear mean loglikelihood: [5.2545013]\n",
      "Mean loglikelihood with actual distribution: -39.250789642333984\n"
     ]
    }
   ],
   "source": [
    "print('Results based on new sample from each flow:' + '\\n')\n",
    "\n",
    "for flow in best_flows:\n",
    "    with torch.no_grad():\n",
    "        sample, log_prob = flow.sample(800)\n",
    "        sample_last = sample[-1]\n",
    "    \n",
    "    sample_last.clip_(-7, 7)\n",
    "    mean_target = torch.mean(dataset.evaluate(sample_last)).detach().numpy()\n",
    "    log_lik, mean = log_likelihood(sample_last, flow)\n",
    "\n",
    "    print('Check for NANs: ', torch.isnan(sample_last).any().item())\n",
    "    print(\"Mean loglikelihood for {}: {}\".format(str(flow), mean))\n",
    "    print(\"Difference between target and {} mean loglikelihood: {}\".format(str(flow), abs(mean-mean_target)))    \n",
    "    print(\"Mean loglikelihood with actual distribution: {}\".format(mean_target))   "
   ]
  },
  {
   "cell_type": "code",
   "execution_count": null,
   "metadata": {},
   "outputs": [],
   "source": []
  }
 ],
 "metadata": {
  "kernelspec": {
   "display_name": "Python 3 (ipykernel)",
   "language": "python",
   "name": "python3"
  },
  "language_info": {
   "codemirror_mode": {
    "name": "ipython",
    "version": 3
   },
   "file_extension": ".py",
   "mimetype": "text/x-python",
   "name": "python",
   "nbconvert_exporter": "python",
   "pygments_lexer": "ipython3",
   "version": "3.9.5"
  }
 },
 "nbformat": 4,
 "nbformat_minor": 4
}
