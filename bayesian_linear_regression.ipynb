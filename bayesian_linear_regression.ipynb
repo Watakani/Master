{
 "cells": [
  {
   "cell_type": "code",
   "execution_count": 1,
   "id": "95322d5e",
   "metadata": {},
   "outputs": [],
   "source": [
    "%load_ext autoreload\n",
    "%autoreload 2"
   ]
  },
  {
   "cell_type": "code",
   "execution_count": null,
   "id": "668b2868",
   "metadata": {},
   "outputs": [],
   "source": [
    "import torch\n",
    "import torch.nn as nn\n",
    "import numpy as np\n",
    "import matplotlib.pyplot as plt\n",
    "\n",
    "import ray\n",
    "from ray import tune\n",
    "from ray.tune import CLIReporter\n",
    "from ray.tune.schedulers import ASHAScheduler\n",
    "\n",
    "from NormalizingFlows.src.train import train_forward_with_tuning, train_forward\n",
    "from NormalizingFlows.src.utils import update_device, load_best_model, load_checkpoint_model\n",
    "from NormalizingFlows.src.flows import create_flows\n",
    "\n",
    "from NormalizingFlows.src.structure.ar import AR \n",
    "from NormalizingFlows.src.structure.iar import IAR\n",
    "from NormalizingFlows.src.structure.twoblock import TwoBlock\n",
    "\n",
    "from NormalizingFlows.src.transforms.affine import Affine\n",
    "from NormalizingFlows.src.transforms.piecewise import PiecewiseAffine\n",
    "from NormalizingFlows.src.transforms.piecewise_additive import PiecewiseAffineAdditive\n",
    "from NormalizingFlows.src.transforms.piecewise_affine import PiecewiseAffineAffine\n"
   ]
  },
  {
   "cell_type": "code",
   "execution_count": null,
   "id": "32cf4021",
   "metadata": {},
   "outputs": [],
   "source": [
    "device = torch.device(\"cuda\") if torch.cuda.is_available() else torch.device(\"cpu\")\n",
    "device_cpu = torch.device(\"cpu\")"
   ]
  },
  {
   "cell_type": "code",
   "execution_count": null,
   "id": "5ef8c583",
   "metadata": {},
   "outputs": [],
   "source": []
  },
  {
   "cell_type": "code",
   "execution_count": null,
   "id": "e3f9f199",
   "metadata": {},
   "outputs": [],
   "source": [
    "dim_input = dataset.dim_input\n",
    "num_trans = 5\n",
    "perm_type = 'random'"
   ]
  },
  {
   "cell_type": "code",
   "execution_count": null,
   "id": "0be80bc7",
   "metadata": {},
   "outputs": [],
   "source": [
    "dim_hidden = [126,126,105,105, 20, 10]\n",
    "\n",
    "flows, names = [], []\n",
    "#flows.append(create_flows(dim_input, dim_hidden, num_trans, perm_type, flow_forward=False, structure=AR, \n",
    "#            transformation=PiecewiseAffine)), names.append('PAF')\n",
    "\n",
    "#flows.append(create_flows(dim_input, dim_hidden, num_trans, perm_type, flow_forward=False, structure=AR, \n",
    "#            transformation=PiecewiseAffineAdditive)), names.append('PAFAd')\n",
    "\n",
    "#flows.append(create_flows(dim_input, dim_hidden, num_trans, perm_type, flow_forward=False, structure=AR, \n",
    "#            transformation=PiecewiseAffineAffine)), names.append('PAFAf')\n",
    "\n",
    "flows.append(create_flows(dim_input, dim_hidden, num_trans, perm_type, flow_forward=False, structure=AR, \n",
    "            transformation=Affine)), names.append('MAF')\n",
    "\n",
    "#flows.append(create_flows(dim_input, dim_hidden, 2*num_trans, perm_type, flow_forward=False, structure=AR, \n",
    "#            transformation=Affine)), names.append('MAF-double')\n",
    "\n",
    "#flows.append(create_flows(dim_input, dim_hidden, num_trans, perm_type, flow_forward=False, structure=TwoBlock,\n",
    "#            transformation=Affine)), names.append('Real NVP')\n",
    "\n",
    "#flows.append(create_flows(dim_input, dim_hidden, 2*num_trans, perm_type, flow_forward=False, structure=TwoBlock,\n",
    "#            transformation=Affine)), names.append('Real NVP-double')\n",
    "\n",
    "#flows.append(create_flows(dim_input, dim_hidden, num_trans, perm_type, flow_forward=False, structure=TwoBlock,\n",
    "#            transformation=PiecewiseAffine)), names.append('TwoBlock-PAF')\n",
    "\n",
    "#flows.append(create_flows(dim_input, dim_hidden, num_trans, perm_type, flow_forward=False, structure=TwoBlock,\n",
    "#            transformation=PiecewiseAffineAdditive)), names.append('TwoBlock-PAFAd')\n",
    "\n",
    "#flows.append(create_flows(dim_input, dim_hidden, num_trans, perm_type, flow_forward=False, structure=TwoBlock,\n",
    "#            transformation=PiecewiseAffineAffine)), names.append('TwoBlock-PAFAf')\n",
    "\n",
    "for ind, flow in enumerate(flows):\n",
    "    flow.name = names[ind]"
   ]
  },
  {
   "cell_type": "code",
   "execution_count": null,
   "id": "6a8031d1",
   "metadata": {},
   "outputs": [],
   "source": [
    "tuning = False\n",
    "if tuning:\n",
    "    losses = []\n",
    "    optimizers = []\n",
    "\n",
    "    epochs = 200\n",
    "    batch_size = 16\n",
    "    num_hyperparam_samples = 4\n",
    "\n",
    "    config = {\n",
    "        'lr': tune.loguniform(1e-4, 1e-1),\n",
    "        'weight_decay': tune.loguniform(1e-5, 1e-1)\n",
    "    }\n",
    "    scheduler = ASHAScheduler(\n",
    "        time_attr='training_iteration',\n",
    "        metric=\"loss\",\n",
    "        mode='min',\n",
    "        max_t=epochs,\n",
    "        grace_period=100,\n",
    "        reduction_factor=2\n",
    "    )\n",
    "    reporter=CLIReporter(\n",
    "        metric_columns=['loss', 'training_iteration']\n",
    "    )\n",
    "\n",
    "    for ind, flow in enumerate(flows):\n",
    "        update_device(device_cpu, flow, dataset)\n",
    "        result = tune.run(\n",
    "            partial(train_forward_with_tuning, model=flow, dataset=dataset, epochs=epochs, batch_size=batch_size, print_n=epochs+1, name=names[ind]),\n",
    "            config=config,\n",
    "            num_samples=num_hyperparam_samples,\n",
    "            scheduler=scheduler,\n",
    "            progress_reporter=reporter,\n",
    "            verbose=0\n",
    "        )\n",
    "\n",
    "        update_device(device_cpu, flow, dataset)\n"
   ]
  }
 ],
 "metadata": {
  "kernelspec": {
   "display_name": "Python 3",
   "language": "python",
   "name": "python3"
  },
  "language_info": {
   "codemirror_mode": {
    "name": "ipython",
    "version": 3
   },
   "file_extension": ".py",
   "mimetype": "text/x-python",
   "name": "python",
   "nbconvert_exporter": "python",
   "pygments_lexer": "ipython3",
   "version": "3.7.7"
  }
 },
 "nbformat": 4,
 "nbformat_minor": 5
}
