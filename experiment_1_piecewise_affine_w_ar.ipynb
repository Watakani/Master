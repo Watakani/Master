{
 "cells": [
  {
   "cell_type": "code",
   "execution_count": 1,
   "metadata": {},
   "outputs": [],
   "source": [
    "%load_ext autoreload\n",
    "%autoreload 2"
   ]
  },
  {
   "cell_type": "code",
   "execution_count": 2,
   "metadata": {},
   "outputs": [],
   "source": [
    "import torch\n",
    "import torch.nn.functional as F\n",
    "import torch.nn as nn\n",
    "import os\n",
    "\n",
    "import numpy as np\n",
    "import matplotlib.pyplot as plt\n",
    "\n",
    "from NormalizingFlows.src.train import train_backward\n",
    "from NormalizingFlows.src.scores import log_likelihood\n",
    "from NormalizingFlows.src.utils import update_device, load_best_model, load_checkpoint_model\n",
    "\n",
    "from NormalizingFlows.src.flows import *\n",
    "from NormalizingFlows.src.data.density.toydata import ToyDataset"
   ]
  },
  {
   "cell_type": "code",
   "execution_count": 3,
   "metadata": {},
   "outputs": [],
   "source": [
    "def set_visible_devices(*devices: int) -> None:\n",
    "    '''Utility to set visible Cuda devices.\n",
    "\n",
    "    Parameters\n",
    "    ----------\n",
    "    devices : List[int]\n",
    "        Index of cuda devices to make available for use.\n",
    "    '''\n",
    "    assert all([d >= 0 for d in devices]), f\"Not all devices are CUDA devices!\"\n",
    "    os.environ['CUDA_VISIBLE_DEVICES'] = \",\".join([str(i) for i in devices])\n",
    "    \n",
    "\n",
    "def set_devices(*devices: int):\n",
    "    '''Utility to set Cuda device(s).\n",
    "\n",
    "    Parameters\n",
    "    ----------\n",
    "    devices : List[int]\n",
    "        Index of cuda devices to make available for use.\n",
    "\n",
    "    Returns\n",
    "    -------\n",
    "    torch.device or List[torch.device] of currently available CUDA devices.\n",
    "    '''\n",
    "    assert len(devices) > 0, f'Device list is empty, no devices set.'\n",
    "    if len(devices) == 1:\n",
    "        if devices[0] >= 0:\n",
    "            set_visible_devices(devices[0])\n",
    "            return torch.device(0)\n",
    "        else:\n",
    "            return torch.device('cpu')\n",
    "\n",
    "    else:\n",
    "        set_visible_devices(*devices)\n",
    "        return [torch.device(i) for i in range(len(devices))]"
   ]
  },
  {
   "cell_type": "code",
   "execution_count": 4,
   "metadata": {},
   "outputs": [],
   "source": [
    "device = set_devices(1) #torch.device(\"cuda\") if torch.cuda.is_available() else torch.device(\"cpu\")\n",
    "device_cpu = torch.device(\"cpu\")"
   ]
  },
  {
   "cell_type": "code",
   "execution_count": 5,
   "metadata": {},
   "outputs": [],
   "source": [
    "dim_input = 25\n",
    "dataset = ToyDataset(dim_input=dim_input, samples=10000)\n",
    "\n",
    "dim_input = dataset.dim_input\n",
    "num_trans = 6 #Must be even\n",
    "perm_types = ['identity', 'alternate','random']\n",
    "dim_hidden = [100,100,100]\n",
    "flows = {}\n",
    "flow_forward = False\n",
    "\n",
    "\n",
    "epochs = 15\n",
    "batch_size = 32\n",
    "num_exp = 5"
   ]
  },
  {
   "cell_type": "code",
   "execution_count": 6,
   "metadata": {
    "jupyter": {
     "source_hidden": true
    },
    "tags": []
   },
   "outputs": [],
   "source": [
    "# #Linear and mean field\n",
    "\n",
    "# transformations = create_constant_trans(num_trans, dim_input, flow_forward)\n",
    "# mean_field = create_flows_with_identity(dim_input, transformations, flow_forward) \n",
    "# name = 'Mean field'\n",
    "# flows.append(mean_field), names.append(name)\n",
    "\n",
    "# transformations = create_linear_bias_trans(num_trans, dim_input, flow_forward)\n",
    "# linear = create_flows_with_identity(dim_input, transformations, flow_forward)\n",
    "# name = 'Linear'\n",
    "# flows.append(linear), names.append(name);"
   ]
  },
  {
   "cell_type": "code",
   "execution_count": 7,
   "metadata": {
    "jupyter": {
     "source_hidden": true
    },
    "tags": []
   },
   "outputs": [],
   "source": [
    "# #Affine flows with two block\n",
    "\n",
    "# name = 'Affine coupling identity'\n",
    "# flows[name] = []\n",
    "# for i in range(num_exp):\n",
    "#     transformations = create_affine_trans(num_trans, flow_forward, a_param=F.softplus)\n",
    "#     aff_coup_id = create_flows_with_twoblock(dim_input, dim_hidden, transformations, perm_types[0], flow_forward)\n",
    "#     flows[name] += [aff_coup_id]\n",
    "#     flows[name][-1].name = f'{name} {i}'\n",
    "\n",
    "# name = 'Affine coupling alternating'\n",
    "# flows[name] = []\n",
    "# for i in range(num_exp):\n",
    "#     transformations = create_affine_trans(num_trans, flow_forward, a_param=F.softplus)\n",
    "#     aff_coup_alt = create_flows_with_twoblock(dim_input, dim_hidden, transformations, perm_types[1], flow_forward)\n",
    "#     flows[name] += [aff_coup_alt]\n",
    "#     flows[name][-1].name = f'{name} {i}'\n",
    "    \n",
    "# name = 'Affine coupling random'\n",
    "# flows[name] = []\n",
    "# for i in range(num_exp):\n",
    "#     transformations = create_affine_trans(num_trans, flow_forward, a_param=F.softplus)\n",
    "#     aff_coup_rand = create_flows_with_twoblock(dim_input, dim_hidden, transformations, perm_types[2], flow_forward)\n",
    "#     flows[name] += [aff_coup_rand]\n",
    "#     flows[name][-1].name = f'{name} {i}'"
   ]
  },
  {
   "cell_type": "code",
   "execution_count": 8,
   "metadata": {
    "jupyter": {
     "source_hidden": true
    },
    "tags": []
   },
   "outputs": [],
   "source": [
    "# #Affine flows with AR\n",
    "\n",
    "# name = 'Affine AR identity'\n",
    "# flows[name] = []\n",
    "# for i in range(num_exp):\n",
    "#     transformations = create_affine_trans(num_trans, flow_forward)\n",
    "#     aff_ar_id = create_flows_with_AR(dim_input, dim_hidden, transformations, perm_types[0], flow_forward)\n",
    "#     flows[name] += [aff_ar_id]\n",
    "#     flows[name][-1].name = f'{name} {i}'\n",
    "\n",
    "# name = 'Affine AR alternate'\n",
    "# flows[name] = []\n",
    "# for i in range(num_exp):\n",
    "#     transformations = create_affine_trans(num_trans, flow_forward)\n",
    "#     aff_ar_alt = create_flows_with_AR(dim_input, dim_hidden, transformations, perm_types[1], flow_forward)\n",
    "#     flows[name] += [aff_ar_alt]\n",
    "#     flows[name][-1].name = f'{name} {i}'\n",
    "\n",
    "# name = 'Affine AR random'\n",
    "# flows[name] = []\n",
    "# for i in range(num_exp):\n",
    "#     transformations = create_affine_trans(num_trans, flow_forward)\n",
    "#     aff_ar_rand = create_flows_with_AR(dim_input, dim_hidden, transformations, perm_types[2], flow_forward)\n",
    "#     flows[name] += [aff_ar_rand]\n",
    "#     flows[name][-1].name = f'{name} {i}'\n"
   ]
  },
  {
   "cell_type": "code",
   "execution_count": 9,
   "metadata": {
    "jupyter": {
     "source_hidden": true
    },
    "tags": []
   },
   "outputs": [],
   "source": [
    "# #PiecewiseAffine flows with coupling\n",
    "\n",
    "# name = 'PiecewiseAffine coupling identity'\n",
    "# flows[name] = []\n",
    "# for i in range(num_exp):\n",
    "#     transformations = create_piecewise_trans(num_trans, flow_forward)\n",
    "#     piec_coup_id = create_flows_with_twoblock(dim_input, dim_hidden, transformations, perm_types[0], flow_forward)\n",
    "#     flows[name] += [piec_coup_id]\n",
    "#     flows[name][-1].name = f'{name} {i}'\n",
    "    \n",
    "\n",
    "# name = 'PiecewiseAffine coupling alternate'\n",
    "# flows[name] = []\n",
    "# for i in range(num_exp):\n",
    "#     transformations = create_piecewise_trans(num_trans, flow_forward)\n",
    "#     piec_coup_alt = create_flows_with_twoblock(dim_input, dim_hidden, transformations, perm_types[1], flow_forward)\n",
    "#     flows[name] += [piec_coup_alt]\n",
    "#     flows[name][-1].name = f'{name} {i}'\n",
    "\n",
    "# name = 'PiecewiseAffine coupling random'\n",
    "# flows[name] = []\n",
    "# for i in range(num_exp):\n",
    "#     transformations = create_piecewise_trans(num_trans, flow_forward)\n",
    "#     piec_coup_rand = create_flows_with_twoblock(dim_input, dim_hidden, transformations, perm_types[2], flow_forward)\n",
    "#     flows[name] += [piec_coup_rand]\n",
    "#     flows[name][-1].name = f'{name} {i}'\n"
   ]
  },
  {
   "cell_type": "code",
   "execution_count": 10,
   "metadata": {
    "tags": []
   },
   "outputs": [],
   "source": [
    "#PiecewiseAffine flows with AR\n",
    "\n",
    "name = 'PiecewiseAffine AR identity'\n",
    "flows[name] = []\n",
    "for i in range(num_exp):\n",
    "    transformations = create_piecewise_trans(num_trans, flow_forward)\n",
    "    piec_ar_id = create_flows_with_AR(dim_input, dim_hidden, transformations, perm_types[0], flow_forward)\n",
    "    flows[name] += [piec_ar_id]\n",
    "    flows[name][-1].name = f'{name} {i}'\n",
    "\n",
    "\n",
    "name = 'PiecewiseAffine AR alternate'\n",
    "flows[name] = []\n",
    "for i in range(num_exp):\n",
    "    transformations = create_piecewise_trans(num_trans, flow_forward)\n",
    "    piec_ar_alt = create_flows_with_AR(dim_input, dim_hidden, transformations, perm_types[1], flow_forward)\n",
    "    flows[name] += [piec_ar_alt]\n",
    "    flows[name][-1].name = f'{name} {i}'\n",
    "\n",
    "name = 'PiecewiseAffine AR random'\n",
    "flows[name] = []\n",
    "for i in range(num_exp):\n",
    "    transformations = create_piecewise_trans(num_trans, flow_forward)\n",
    "    piec_ar_rand = create_flows_with_AR(dim_input, dim_hidden, transformations, perm_types[2], flow_forward)\n",
    "    flows[name] += [piec_ar_rand]\n",
    "    flows[name][-1].name = f'{name} {i}'\n"
   ]
  },
  {
   "cell_type": "code",
   "execution_count": 11,
   "metadata": {
    "jupyter": {
     "source_hidden": true
    }
   },
   "outputs": [],
   "source": [
    "# #PiecewiseAffineAffine with twoblock\n",
    "\n",
    "# transformations = create_affinepiecewise_trans(num_trans, flow_forward)\n",
    "# piecaf_coup_id = create_flows_with_twoblock(dim_input, dim_hidden, transformations, perm_types[0], flow_forward)\n",
    "# name = 'PiecewiseAffineAffine coupling identity'\n",
    "# flows.append(piecaf_coup_id), names.append(name)\n",
    "\n",
    "# transformations = create_affinepiecewise_trans(num_trans, flow_forward)\n",
    "# piecaf_coup_alt = create_flows_with_twoblock(dim_input, dim_hidden, transformations, perm_types[1], flow_forward)\n",
    "# name = 'PiecewiseAffineAffine coupling alternate'\n",
    "# flows.append(piecaf_coup_alt), names.append(name)\n",
    "\n",
    "# transformations = create_affinepiecewise_trans(num_trans, flow_forward)\n",
    "# piecaf_coup_rand = create_flows_with_twoblock(dim_input, dim_hidden, transformations, perm_types[1], flow_forward)\n",
    "# name = 'PiecewiseAffineAffine coupling random'\n",
    "# flows.append(piecaf_coup_rand), names.append(name);"
   ]
  },
  {
   "cell_type": "code",
   "execution_count": 12,
   "metadata": {
    "jupyter": {
     "source_hidden": true
    }
   },
   "outputs": [],
   "source": [
    "# #PiecewiseAffineAffine with AR\n",
    "\n",
    "# transformations = create_affinepiecewise_trans(num_trans, flow_forward)\n",
    "# piecaf_ar_id = create_flows_with_AR(dim_input, dim_hidden, transformations, perm_types[0], flow_forward)\n",
    "# name = 'PiecewiseAffineAffine AR identity'\n",
    "# flows.append(piecaf_ar_id), names.append(name)\n",
    "\n",
    "# transformations = create_affinepiecewise_trans(num_trans, flow_forward)\n",
    "# piecaf_ar_alt = create_flows_with_AR(dim_input, dim_hidden, transformations, perm_types[1], flow_forward)\n",
    "# name = 'PiecewiseAffineAffine AR alternate'\n",
    "# flows.append(piecaf_ar_alt), names.append(name)\n",
    "\n",
    "# transformations = create_affinepiecewise_trans(num_trans, flow_forward)\n",
    "# piecaf_ar_rand = create_flows_with_AR(dim_input, dim_hidden, transformations, perm_types[2], flow_forward)\n",
    "# name = 'PiecewiseAffineAffine AR random'\n",
    "# flows.append(piecaf_ar_rand), names.append(name);"
   ]
  },
  {
   "cell_type": "code",
   "execution_count": 13,
   "metadata": {
    "jupyter": {
     "source_hidden": true
    }
   },
   "outputs": [],
   "source": [
    "# #ContinuousPiecewise with twoblock\n",
    "\n",
    "# transformations = create_continuous_piecewise_trans(num_trans, flow_forward)\n",
    "# conpiec_coup_iden = create_flows_with_twoblock(dim_input, dim_hidden, transformations, perm_types[0], flow_forward)\n",
    "# name = 'ContinuousPiecewiseAffine coupling identity'\n",
    "# flows.append(conpiec_coup_iden), names.append(name)\n",
    "\n",
    "# transformations = create_continuous_piecewise_trans(num_trans, flow_forward)\n",
    "# conpiec_coup_alt = create_flows_with_twoblock(dim_input, dim_hidden, transformations, perm_types[1], flow_forward)\n",
    "# name = 'ContinuousPiecewiseAffine coupling alternate'\n",
    "# flows.append(conpiec_coup_alt), names.append(name)\n",
    "\n",
    "# transformations = create_continuous_piecewise_trans(num_trans, flow_forward)\n",
    "# conpiec_coup_rand = create_flows_with_twoblock(dim_input, dim_hidden, transformations, perm_types[2], flow_forward)\n",
    "# name = 'ContinuousPiecewiseAffine coupling random'\n",
    "# flows.append(conpiec_coup_rand), names.append(name);"
   ]
  },
  {
   "cell_type": "code",
   "execution_count": 14,
   "metadata": {
    "jupyter": {
     "source_hidden": true
    }
   },
   "outputs": [],
   "source": [
    "# #ContinuousPiecewise with AR\n",
    "\n",
    "# transformations = create_continuous_piecewise_trans(num_trans, flow_forward)\n",
    "# conpiec_ar_iden = create_flows_with_AR(dim_input, dim_hidden, transformations, perm_types[0], flow_forward)\n",
    "# name = 'ContinuousPiecewiseAffine AR identity'\n",
    "# flows.append(conpiec_ar_iden), names.append(name)\n",
    "\n",
    "# transformations = create_continuous_piecewise_trans(num_trans, flow_forward)\n",
    "# conpiec_ar_alt = create_flows_with_AR(dim_input, dim_hidden, transformations, perm_types[1], flow_forward)\n",
    "# name = 'ContinuousPiecewiseAffine AR alternate'\n",
    "# flows.append(conpiec_ar_alt), names.append(name)\n",
    "\n",
    "# transformations = create_continuous_piecewise_trans(num_trans, flow_forward)\n",
    "# conpiec_ar_rand = create_flows_with_AR(dim_input, dim_hidden, transformations, perm_types[2], flow_forward)\n",
    "# name = 'ContinuousPiecewiseAffine AR random'\n",
    "# flows.append(conpiec_ar_rand), names.append(name);"
   ]
  },
  {
   "cell_type": "code",
   "execution_count": 15,
   "metadata": {
    "jupyter": {
     "source_hidden": true
    }
   },
   "outputs": [],
   "source": [
    "# #ContinuousPiecewiseAffine with twoblock\n",
    "\n",
    "# transformations = create_affinecontinuous_trans(num_trans, flow_forward)\n",
    "# affconpiec_coup_iden = create_flows_with_twoblock(dim_input, dim_hidden, transformations, perm_types[0], flow_forward)\n",
    "# name = 'ContinuousPiecewiseAffineAffine coupling identity'\n",
    "# flows.append(affconpiec_coup_iden), names.append(name)\n",
    "\n",
    "# transformations = create_affinecontinuous_trans(num_trans, flow_forward)\n",
    "# affconpiec_coup_alt = create_flows_with_twoblock(dim_input, dim_hidden, transformations, perm_types[1], flow_forward)\n",
    "# name = 'ContinuousPiecewiseAffineAffine coupling alternate'\n",
    "# flows.append(affconpiec_coup_alt), names.append(name)\n",
    "\n",
    "# transformations = create_affinecontinuous_trans(num_trans, flow_forward)\n",
    "# affconpiec_coup_rand = create_flows_with_twoblock(dim_input, dim_hidden, transformations, perm_types[2], flow_forward)\n",
    "# name = 'ContinuousPiecewiseAffineAffine coupling random'\n",
    "# flows.append(affconpiec_coup_rand), names.append(name);"
   ]
  },
  {
   "cell_type": "code",
   "execution_count": 16,
   "metadata": {
    "jupyter": {
     "source_hidden": true
    }
   },
   "outputs": [],
   "source": [
    "# #ContinuousPiecewiseAffine with AR\n",
    "\n",
    "# transformations = create_affinecontinuous_trans(num_trans, flow_forward)\n",
    "# affconpiec_ar_iden = create_flows_with_AR(dim_input, dim_hidden, transformations, perm_types[0], flow_forward)\n",
    "# name = 'ContinuousPiecewiseAffineAffine AR identity'\n",
    "# flows.append(affconpiec_ar_iden), names.append(name)\n",
    "\n",
    "# transformations = create_affinecontinuous_trans(num_trans, flow_forward)\n",
    "# affconpiec_ar_alt = create_flows_with_AR(dim_input, dim_hidden, transformations, perm_types[1], flow_forward)\n",
    "# name = 'ContinuousPiecewiseAffineAffine AR alternate'\n",
    "# flows.append(affconpiec_ar_alt), names.append(name)\n",
    "\n",
    "# transformations = create_affinecontinuous_trans(num_trans, flow_forward)\n",
    "# affconpiec_ar_rand = create_flows_with_AR(dim_input, dim_hidden, transformations, perm_types[2], flow_forward)\n",
    "# name = 'ContinuousPiecewiseAffineAffine AR random'\n",
    "# flows.append(affconpiec_ar_rand), names.append(name);"
   ]
  },
  {
   "cell_type": "code",
   "execution_count": 17,
   "metadata": {
    "jupyter": {
     "source_hidden": true
    }
   },
   "outputs": [],
   "source": [
    "# #Alternating Piecewise Affine with twoblock\n",
    "\n",
    "# transformations = create_alt_piecewise_affine_trans(num_trans, flow_forward)\n",
    "# afpiec_coup_rand = create_flows_with_twoblock(dim_input, dim_hidden, transformations, perm_types[2], flow_forward)\n",
    "# name = 'Alternating Affin_PiecewiseAffine coupling random'\n",
    "# flows.append(afpiec_coup_rand), names.append(name);"
   ]
  },
  {
   "cell_type": "code",
   "execution_count": 18,
   "metadata": {
    "jupyter": {
     "source_hidden": true
    }
   },
   "outputs": [],
   "source": [
    "# #Alternating Piecewise Affine with AR\n",
    "\n",
    "# transformations = create_alt_piecewise_affine_trans(num_trans, flow_forward)\n",
    "# afpiec_ar_rand = create_flows_with_AR(dim_input, dim_hidden, transformations, perm_types[2], flow_forward)\n",
    "# name = 'Alternating Affin_PiecewiseAffine AR random'\n",
    "# flows.append(afpiec_ar_rand), names.append(name);"
   ]
  },
  {
   "cell_type": "code",
   "execution_count": 19,
   "metadata": {
    "jupyter": {
     "source_hidden": true
    }
   },
   "outputs": [],
   "source": [
    "# #Alternating with Linear layer and Affine\n",
    "\n",
    "# transformations = create_alt_linear_affine_trans(num_trans, dim_input, flow_forward)\n",
    "# linaff_coup_iden = create_flows_with_twoblock(dim_input, dim_hidden, transformations, perm_types[0], flow_forward)\n",
    "# name = 'Alternating Linear_Affine coupling identity'\n",
    "# flows.append(linaff_coup_iden), names.append(name)\n",
    "\n",
    "# transformations = create_alt_linear_affine_trans(num_trans, dim_input, flow_forward)\n",
    "# linaff_coup_rand = create_flows_with_twoblock(dim_input, dim_hidden, transformations, perm_types[2], flow_forward)\n",
    "# name = 'Alternating Linear_Affine coupling random'\n",
    "# flows.append(linaff_coup_rand), names.append(name)\n",
    "\n",
    "# transformations = create_alt_linear_affine_trans(num_trans, dim_input, flow_forward)\n",
    "# linaff_ar_iden = create_flows_with_AR(dim_input, dim_hidden, transformations, perm_types[0], flow_forward)\n",
    "# name = 'Alternating Linear_Affine AR identity'\n",
    "# flows.append(linaff_ar_iden), names.append(name)\n",
    "\n",
    "# transformations = create_alt_linear_affine_trans(num_trans, dim_input, flow_forward)\n",
    "# linaff_ar_rand = create_flows_with_AR(dim_input, dim_hidden, transformations, perm_types[2], flow_forward)\n",
    "# name = 'Alternating Linear_Affine AR random'\n",
    "# flows.append(linaff_ar_rand), names.append(name);"
   ]
  },
  {
   "cell_type": "code",
   "execution_count": 20,
   "metadata": {
    "jupyter": {
     "source_hidden": true
    }
   },
   "outputs": [],
   "source": [
    "# #Various Alternating Linear and Conditioner transformation\n",
    "\n",
    "# transformations = create_alt_linear_piecewise_trans(num_trans, dim_input, flow_forward)\n",
    "# linpiece_coup_rand = create_flows_with_twoblock(dim_input, dim_hidden, transformations, perm_types[2], flow_forward)\n",
    "# name = 'Alternating Linear_PiecewiseAffine coupling random'\n",
    "# flows.append(linpiece_coup_rand), names.append(name)\n",
    "\n",
    "# transformations = create_alt_linear_continuous_trans(num_trans, dim_input, flow_forward)\n",
    "# lincont_coup_rand = create_flows_with_twoblock(dim_input, dim_hidden, transformations, perm_types[2], flow_forward)\n",
    "# name = 'Alternating Linear_ContinuousPiece coupling random'\n",
    "# flows.append(lincont_coup_rand), names.append(name)\n",
    "\n",
    "# transformations = create_alt_linear_affinepiecewise_trans(num_trans, dim_input, flow_forward)\n",
    "# linaffpiec_coup_rand = create_flows_with_twoblock(dim_input, dim_hidden, transformations, perm_types[2], flow_forward)\n",
    "# name = 'Alternating Linear_AffinePiece coupling random'\n",
    "# flows.append(linaffpiec_coup_rand), names.append(name)\n",
    "\n",
    "# transformations = create_alt_linear_affinecontinuous_trans(num_trans, dim_input, flow_forward)\n",
    "# linaffcont_coup_rand = create_flows_with_twoblock(dim_input, dim_hidden, transformations, perm_types[2], flow_forward)\n",
    "# name = 'Alternating Linear_AffineContinuous coupling random'\n",
    "# flows.append(linaffcont_coup_rand), names.append(name);"
   ]
  },
  {
   "cell_type": "code",
   "execution_count": 21,
   "metadata": {},
   "outputs": [
    {
     "name": "stdout",
     "output_type": "stream",
     "text": [
      "Finished training. Loss for last epoch PiecewiseAffine AR random 4:     47.29563\n"
     ]
    }
   ],
   "source": [
    "losses = {n: [] for n in flows.keys()}\n",
    "optimizers = {n: [] for n in flows.keys()}\n",
    "\n",
    "for flowname in flows.keys():\n",
    "    for j in range(num_exp):\n",
    "        # Initialize flow\n",
    "        flow = flows[flowname][j]\n",
    "        update_device(device, flow, dataset)\n",
    "\n",
    "        # Initialize optimizer\n",
    "        optimizer = torch.optim.AdamW(flow.parameters(), lr=1e-4, weight_decay=1e-2)\n",
    "        optimizers[flowname].append(optimizer)\n",
    "        \n",
    "        # Train and append losses\n",
    "        losses[flowname].append(\n",
    "            train_backward(\n",
    "                flow, \n",
    "                dataset.get_training_data(), \n",
    "                optimizer, \n",
    "                epochs, \n",
    "                batch_size, \n",
    "                print_n=200, \n",
    "                save_checkpoint=True, \n",
    "                burn_in=-1\n",
    "            )\n",
    "        )\n",
    "\n",
    "        # Move flow to CPU\n",
    "        update_device(device_cpu, flow, dataset)"
   ]
  },
  {
   "cell_type": "code",
   "execution_count": 22,
   "metadata": {},
   "outputs": [],
   "source": [
    "best_flows = {n:[] for n in flows.keys()}\n",
    "for flowname in flows.keys():\n",
    "    for i in range(num_exp):\n",
    "        best_flows[flowname].append(load_best_model(flows[flowname][i]))"
   ]
  },
  {
   "cell_type": "code",
   "execution_count": 23,
   "metadata": {},
   "outputs": [
    {
     "data": {
      "image/png": "[encoded data removed]",
      "text/plain": [
       "<Figure size 864x432 with 6 Axes>"
      ]
     },
     "metadata": {
      "needs_background": "light"
     },
     "output_type": "display_data"
    }
   ],
   "source": [
    "log_scale = True\n",
    "from_iter = 50 * batch_size\n",
    "\n",
    "fig, ax = plt.subplots(2, len(flows), figsize=(12,6))\n",
    "for j, flowname in enumerate(flows.keys()):\n",
    "    for i in range(num_exp):\n",
    "        ax[0,j].plot(losses[flowname][i], label=f'exp{i}', alpha=0.8)\n",
    "        ax[0,j].set_title(f'{flowname}')\n",
    "        if log_scale:\n",
    "            ax[0, j].set_yscale('log')\n",
    "        ax[0, j].legend()\n",
    "\n",
    "log_scale = True\n",
    "for j, flowname in enumerate(flows.keys()):\n",
    "    for i in range(num_exp):\n",
    "        x = np.arange(len(losses[flowname][i]))\n",
    "        ax[1,j].plot(x[from_iter:], losses[flowname][i][from_iter:], label=f'exp{i}', alpha=0.8)\n",
    "        if log_scale:\n",
    "            ax[1, j].set_yscale('log')\n",
    "        ax[1, j].legend()\n",
    "    \n",
    "plt.tight_layout()"
   ]
  },
  {
   "cell_type": "code",
   "execution_count": 24,
   "metadata": {},
   "outputs": [
    {
     "name": "stdout",
     "output_type": "stream",
     "text": [
      "Results based on training data:\n",
      "\n",
      "Mean loglikelihood for PiecewiseAffine AR identity 0: [-49.209023]\n",
      "Difference between target and PiecewiseAffine AR identity mean loglikelihood: [2.7443123]\n",
      "\n",
      "Mean loglikelihood for PiecewiseAffine AR identity 1: [-48.97482]\n",
      "Difference between target and PiecewiseAffine AR identity mean loglikelihood: [2.510109]\n",
      "\n",
      "Mean loglikelihood for PiecewiseAffine AR identity 2: [-48.88135]\n",
      "Difference between target and PiecewiseAffine AR identity mean loglikelihood: [2.4166412]\n",
      "\n",
      "Mean loglikelihood for PiecewiseAffine AR identity 3: [-49.622726]\n",
      "Difference between target and PiecewiseAffine AR identity mean loglikelihood: [3.1580162]\n",
      "\n",
      "Mean loglikelihood for PiecewiseAffine AR identity 4: [-49.475296]\n",
      "Difference between target and PiecewiseAffine AR identity mean loglikelihood: [3.0105858]\n",
      "\n",
      "---------------------------------------------------------------------------\n",
      "PiecewiseAffine AR identity -- Mean LogLH Bootstrap: -49.2326 ±  0.3934\n",
      "---------------------------------------------------------------------------\n",
      "\n",
      "Mean loglikelihood for PiecewiseAffine AR alternate 0: [-47.304108]\n",
      "Difference between target and PiecewiseAffine AR alternate mean loglikelihood: [0.83939743]\n",
      "\n",
      "Mean loglikelihood for PiecewiseAffine AR alternate 1: [-47.373016]\n",
      "Difference between target and PiecewiseAffine AR alternate mean loglikelihood: [0.9083061]\n",
      "\n",
      "Mean loglikelihood for PiecewiseAffine AR alternate 2: [-47.13431]\n",
      "Difference between target and PiecewiseAffine AR alternate mean loglikelihood: [0.66960144]\n",
      "\n",
      "Mean loglikelihood for PiecewiseAffine AR alternate 3: [-47.345757]\n",
      "Difference between target and PiecewiseAffine AR alternate mean loglikelihood: [0.8810463]\n",
      "\n",
      "Mean loglikelihood for PiecewiseAffine AR alternate 4: [-47.185966]\n",
      "Difference between target and PiecewiseAffine AR alternate mean loglikelihood: [0.72125626]\n",
      "\n",
      "---------------------------------------------------------------------------\n",
      "PiecewiseAffine AR alternate -- Mean LogLH Bootstrap: -47.2686 ±  0.1287\n",
      "---------------------------------------------------------------------------\n",
      "\n",
      "Mean loglikelihood for PiecewiseAffine AR random 0: [-47.30643]\n",
      "Difference between target and PiecewiseAffine AR random mean loglikelihood: [0.8417206]\n",
      "\n",
      "Mean loglikelihood for PiecewiseAffine AR random 1: [-47.25585]\n",
      "Difference between target and PiecewiseAffine AR random mean loglikelihood: [0.7911415]\n",
      "\n",
      "Mean loglikelihood for PiecewiseAffine AR random 2: [-47.332664]\n",
      "Difference between target and PiecewiseAffine AR random mean loglikelihood: [0.86795425]\n",
      "\n",
      "Mean loglikelihood for PiecewiseAffine AR random 3: [-47.294014]\n",
      "Difference between target and PiecewiseAffine AR random mean loglikelihood: [0.82930374]\n",
      "\n",
      "Mean loglikelihood for PiecewiseAffine AR random 4: [-47.19764]\n",
      "Difference between target and PiecewiseAffine AR random mean loglikelihood: [0.7329292]\n",
      "\n",
      "---------------------------------------------------------------------------\n",
      "PiecewiseAffine AR random -- Mean LogLH Bootstrap: -47.2773 ±  0.0651\n",
      "---------------------------------------------------------------------------\n",
      "\n",
      "Mean loglikelihood with actual distribution: -46.4647102355957\n"
     ]
    }
   ],
   "source": [
    "flow_lh_results = {\n",
    "    'train': {n:[] for n in flows}, \n",
    "    'test': {n:[] for n in flows}, \n",
    "    'sample': {n:[] for n in flows},\n",
    "}\n",
    "cur_res = 'train'\n",
    "\n",
    "print('Results based on training data:' + '\\n')\n",
    "\n",
    "# Function for CI\n",
    "def mean_confidence_interval(data, confidence=0.95):\n",
    "    import scipy.stats\n",
    "    a = 1.0 * np.array(data)\n",
    "    n = len(a)\n",
    "    m, se = np.mean(a), scipy.stats.sem(a)\n",
    "    h = se * scipy.stats.t.ppf((1 + confidence) / 2., n-1)\n",
    "    return m, h\n",
    " \n",
    "\n",
    "train_data = dataset.get_training_data()\n",
    "mean_target = torch.mean(dataset.evaluate(train_data.to(device))).detach().numpy()\n",
    "for flow in best_flows:\n",
    "    for i in range(num_exp):\n",
    "        log_lik, mean = log_likelihood(train_data, flows[flow][i])\n",
    "        flow_lh_results[cur_res][flow].append(mean[0])\n",
    "        print(\"Mean loglikelihood for {}: {}\".format(f'{flow} {i}', mean))\n",
    "        print(\"Difference between target and {} mean loglikelihood: {}\".format(str(flow), abs(mean-mean_target)))\n",
    "        print()\n",
    "    \n",
    "    m, h = mean_confidence_interval(flow_lh_results[cur_res][flow])\n",
    "    print('-'*75)\n",
    "    print(f'{flow} -- Mean LogLH Bootstrap: {m:7.4f} ± {h:7.4f}')\n",
    "    print('-'*75)\n",
    "    print()\n",
    "    \n",
    "\n",
    "print(\"Mean loglikelihood with actual distribution: {}\".format(mean_target))"
   ]
  },
  {
   "cell_type": "code",
   "execution_count": 25,
   "metadata": {},
   "outputs": [
    {
     "name": "stdout",
     "output_type": "stream",
     "text": [
      "Results based on test data\n",
      "\n",
      "Mean loglikelihood for PiecewiseAffine AR identity 0: [-49.146923]\n",
      "Difference between target and PiecewiseAffine AR identity mean loglikelihood: [2.797104]\n",
      "\n",
      "Mean loglikelihood for PiecewiseAffine AR identity 1: [-48.915897]\n",
      "Difference between target and PiecewiseAffine AR identity mean loglikelihood: [2.5660782]\n",
      "\n",
      "Mean loglikelihood for PiecewiseAffine AR identity 2: [-48.853745]\n",
      "Difference between target and PiecewiseAffine AR identity mean loglikelihood: [2.5039253]\n",
      "\n",
      "Mean loglikelihood for PiecewiseAffine AR identity 3: [-49.55089]\n",
      "Difference between target and PiecewiseAffine AR identity mean loglikelihood: [3.2010727]\n",
      "\n",
      "Mean loglikelihood for PiecewiseAffine AR identity 4: [-49.36525]\n",
      "Difference between target and PiecewiseAffine AR identity mean loglikelihood: [3.0154305]\n",
      "\n",
      "---------------------------------------------------------------------------\n",
      "PiecewiseAffine AR identity -- Mean LogLH Bootstrap: -49.1665 ±  0.3664\n",
      "---------------------------------------------------------------------------\n",
      "\n",
      "Mean loglikelihood for PiecewiseAffine AR alternate 0: [-47.27721]\n",
      "Difference between target and PiecewiseAffine AR alternate mean loglikelihood: [0.92739105]\n",
      "\n",
      "Mean loglikelihood for PiecewiseAffine AR alternate 1: [-47.300983]\n",
      "Difference between target and PiecewiseAffine AR alternate mean loglikelihood: [0.95116425]\n",
      "\n",
      "Mean loglikelihood for PiecewiseAffine AR alternate 2: [-47.078697]\n",
      "Difference between target and PiecewiseAffine AR alternate mean loglikelihood: [0.728878]\n",
      "\n",
      "Mean loglikelihood for PiecewiseAffine AR alternate 3: [-47.34091]\n",
      "Difference between target and PiecewiseAffine AR alternate mean loglikelihood: [0.9910927]\n",
      "\n",
      "Mean loglikelihood for PiecewiseAffine AR alternate 4: [-47.13275]\n",
      "Difference between target and PiecewiseAffine AR alternate mean loglikelihood: [0.7829323]\n",
      "\n",
      "---------------------------------------------------------------------------\n",
      "PiecewiseAffine AR alternate -- Mean LogLH Bootstrap: -47.2261 ±  0.1414\n",
      "---------------------------------------------------------------------------\n",
      "\n",
      "Mean loglikelihood for PiecewiseAffine AR random 0: [-47.23201]\n",
      "Difference between target and PiecewiseAffine AR random mean loglikelihood: [0.8821907]\n",
      "\n",
      "Mean loglikelihood for PiecewiseAffine AR random 1: [-47.223904]\n",
      "Difference between target and PiecewiseAffine AR random mean loglikelihood: [0.8740845]\n",
      "\n",
      "Mean loglikelihood for PiecewiseAffine AR random 2: [-47.227444]\n",
      "Difference between target and PiecewiseAffine AR random mean loglikelihood: [0.8776245]\n",
      "\n",
      "Mean loglikelihood for PiecewiseAffine AR random 3: [-47.316154]\n",
      "Difference between target and PiecewiseAffine AR random mean loglikelihood: [0.9663353]\n",
      "\n",
      "Mean loglikelihood for PiecewiseAffine AR random 4: [-47.160145]\n",
      "Difference between target and PiecewiseAffine AR random mean loglikelihood: [0.8103256]\n",
      "\n",
      "---------------------------------------------------------------------------\n",
      "PiecewiseAffine AR random -- Mean LogLH Bootstrap: -47.2319 ±  0.0689\n",
      "---------------------------------------------------------------------------\n",
      "\n",
      "Mean loglikelihood with actual distribution: -46.34981918334961\n"
     ]
    }
   ],
   "source": [
    "print('Results based on test data' + '\\n')\n",
    "cur_res = 'test' \n",
    "\n",
    "test_data = dataset.get_test_data()\n",
    "mean_target = torch.mean(dataset.evaluate(test_data)).detach().numpy()\n",
    "for flow in best_flows:\n",
    "    for i in range(num_exp):\n",
    "        log_lik, mean = log_likelihood(test_data, flows[flow][i])\n",
    "        flow_lh_results[cur_res][flow].append(mean[0])\n",
    "        print(\"Mean loglikelihood for {}: {}\".format(f'{flow} {i}', mean))\n",
    "        print(\"Difference between target and {} mean loglikelihood: {}\".format(str(flow), abs(mean-mean_target)))\n",
    "        print()\n",
    "    \n",
    "    m, h = mean_confidence_interval(flow_lh_results[cur_res][flow])\n",
    "    print('-'*75)\n",
    "    print(f'{flow} -- Mean LogLH Bootstrap: {m:7.4f} ± {h:7.4f}')\n",
    "    print('-'*75)\n",
    "    print()\n",
    "    \n",
    "\n",
    "print(\"Mean loglikelihood with actual distribution: {}\".format(mean_target))\n",
    "\n",
    "# for flow in best_flows:\n",
    "#     log_lik, mean = log_likelihood(test_data, flow)\n",
    "#     print(\"Mean loglikelihood for {}: {}\".format(str(flow), mean))\n",
    "#     print(\"Difference between target and {} mean loglikelihood: {}\".format(str(flow), abs(mean-mean_target)))\n",
    "    \n",
    "\n",
    "# print(\"Mean loglikelihood with actual distribution: {}\".format(mean_target))"
   ]
  },
  {
   "cell_type": "code",
   "execution_count": 26,
   "metadata": {},
   "outputs": [
    {
     "name": "stdout",
     "output_type": "stream",
     "text": [
      "Results based on new sample from each flow:\n",
      "\n",
      "Mean loglikelihood for PiecewiseAffine AR identity 0: [-51.785694]\n",
      "Difference between target and PiecewiseAffine AR identity mean loglikelihood: [11.799721]\n",
      "Mean loglikelihood with actual distribution: -63.58541488647461\n",
      "\n",
      "Mean loglikelihood for PiecewiseAffine AR identity 1: [-50.95466]\n",
      "Difference between target and PiecewiseAffine AR identity mean loglikelihood: [14.166946]\n",
      "Mean loglikelihood with actual distribution: -65.1216049194336\n",
      "\n",
      "Mean loglikelihood for PiecewiseAffine AR identity 2: [-50.318897]\n",
      "Difference between target and PiecewiseAffine AR identity mean loglikelihood: [10.082138]\n",
      "Mean loglikelihood with actual distribution: -60.40103530883789\n",
      "\n",
      "Mean loglikelihood for PiecewiseAffine AR identity 3: [-51.48075]\n",
      "Difference between target and PiecewiseAffine AR identity mean loglikelihood: [13.487221]\n",
      "Mean loglikelihood with actual distribution: -64.96797180175781\n",
      "\n",
      "Mean loglikelihood for PiecewiseAffine AR identity 4: [-50.777977]\n",
      "Difference between target and PiecewiseAffine AR identity mean loglikelihood: [12.22818]\n",
      "Mean loglikelihood with actual distribution: -63.00615692138672\n",
      "\n",
      "---------------------------------------------------------------------------\n",
      "PiecewiseAffine AR identity -- Mean LogLH Bootstrap: -51.0636 ±  0.7196\n",
      "---------------------------------------------------------------------------\n",
      "\n",
      "Mean loglikelihood for PiecewiseAffine AR alternate 0: [-46.992935]\n",
      "Difference between target and PiecewiseAffine AR alternate mean loglikelihood: [0.7940979]\n",
      "Mean loglikelihood with actual distribution: -47.78703308105469\n",
      "\n",
      "Mean loglikelihood for PiecewiseAffine AR alternate 1: [-47.45972]\n",
      "Difference between target and PiecewiseAffine AR alternate mean loglikelihood: [1.1136208]\n",
      "Mean loglikelihood with actual distribution: -48.573341369628906\n",
      "\n",
      "Mean loglikelihood for PiecewiseAffine AR alternate 2: [-47.485893]\n",
      "Difference between target and PiecewiseAffine AR alternate mean loglikelihood: [0.7602997]\n",
      "Mean loglikelihood with actual distribution: -48.246192932128906\n",
      "\n",
      "Mean loglikelihood for PiecewiseAffine AR alternate 3: [-47.00876]\n",
      "Difference between target and PiecewiseAffine AR alternate mean loglikelihood: [0.8838577]\n",
      "Mean loglikelihood with actual distribution: -47.892616271972656\n",
      "\n",
      "Mean loglikelihood for PiecewiseAffine AR alternate 4: [-47.195038]\n",
      "Difference between target and PiecewiseAffine AR alternate mean loglikelihood: [0.707325]\n",
      "Mean loglikelihood with actual distribution: -47.90236282348633\n",
      "\n",
      "---------------------------------------------------------------------------\n",
      "PiecewiseAffine AR alternate -- Mean LogLH Bootstrap: -47.2285 ±  0.2942\n",
      "---------------------------------------------------------------------------\n",
      "\n",
      "Mean loglikelihood for PiecewiseAffine AR random 0: [-47.41955]\n",
      "Difference between target and PiecewiseAffine AR random mean loglikelihood: [0.94231796]\n",
      "Mean loglikelihood with actual distribution: -48.36186981201172\n",
      "\n",
      "Mean loglikelihood for PiecewiseAffine AR random 1: [-47.066696]\n",
      "Difference between target and PiecewiseAffine AR random mean loglikelihood: [0.72914505]\n",
      "Mean loglikelihood with actual distribution: -47.795841217041016\n",
      "\n",
      "Mean loglikelihood for PiecewiseAffine AR random 2: [-47.261005]\n",
      "Difference between target and PiecewiseAffine AR random mean loglikelihood: [1.081501]\n",
      "Mean loglikelihood with actual distribution: -48.342506408691406\n",
      "\n",
      "Mean loglikelihood for PiecewiseAffine AR random 3: [-47.73403]\n",
      "Difference between target and PiecewiseAffine AR random mean loglikelihood: [0.8720703]\n",
      "Mean loglikelihood with actual distribution: -48.606101989746094\n",
      "\n",
      "Mean loglikelihood for PiecewiseAffine AR random 4: [-47.373085]\n",
      "Difference between target and PiecewiseAffine AR random mean loglikelihood: [0.80026627]\n",
      "Mean loglikelihood with actual distribution: -48.1733512878418\n",
      "\n",
      "---------------------------------------------------------------------------\n",
      "PiecewiseAffine AR random -- Mean LogLH Bootstrap: -47.3709 ±  0.3034\n",
      "---------------------------------------------------------------------------\n",
      "\n"
     ]
    }
   ],
   "source": [
    "print('Results based on new sample from each flow:' + '\\n')\n",
    "cur_res = 'sample'\n",
    "\n",
    "for flow in best_flows:\n",
    "    for i in range(num_exp):\n",
    "        with torch.no_grad():\n",
    "            sample, log_prob = flows[flow][i].sample(800)\n",
    "            sample_last = sample[-1]\n",
    "\n",
    "        mean_target = torch.mean(dataset.evaluate(sample_last)).detach().numpy()\n",
    "        log_lik, mean = log_likelihood(sample_last, flows[flow][i])\n",
    "        flow_lh_results[cur_res][flow].append(mean[0])\n",
    "        print(\"Mean loglikelihood for {}: {}\".format(f'{flow} {i}', mean))\n",
    "        print(\"Difference between target and {} mean loglikelihood: {}\".format(str(flow), abs(mean-mean_target)))\n",
    "        print(\"Mean loglikelihood with actual distribution: {}\".format(mean_target))   \n",
    "        print()\n",
    "    \n",
    "    m, h = mean_confidence_interval(flow_lh_results[cur_res][flow])\n",
    "    print('-'*75)\n",
    "    print(f'{flow} -- Mean LogLH Bootstrap: {m:7.4f} ± {h:7.4f}')\n",
    "    print('-'*75)\n",
    "    print()\n",
    "\n",
    "\n",
    "# for flow in best_flows:\n",
    "#     with torch.no_grad():\n",
    "#         sample, log_prob = flow.sample(800)\n",
    "#         sample_last = sample[-1]\n",
    "\n",
    "#     #sample_last.clip_(-7, 7)\n",
    "#     mean_target = torch.mean(dataset.evaluate(sample_last)).detach().numpy()\n",
    "#     log_lik, mean = log_likelihood(sample_last, flow)\n",
    "\n",
    "#     print('Check for NANs: ', torch.isnan(sample_last).any().item())\n",
    "#     print(\"Mean loglikelihood for {}: {}\".format(str(flow), mean))\n",
    "#     print(\"Difference between target and {} mean loglikelihood: {}\".format(str(flow), abs(mean-mean_target)))    \n",
    "#     print(\"Mean loglikelihood with actual distribution: {}\".format(mean_target))   "
   ]
  },
  {
   "cell_type": "code",
   "execution_count": null,
   "metadata": {},
   "outputs": [],
   "source": []
  }
 ],
 "metadata": {
  "kernelspec": {
   "display_name": "Python 3 (ipykernel)",
   "language": "python",
   "name": "python3"
  },
  "language_info": {
   "codemirror_mode": {
    "name": "ipython",
    "version": 3
   },
   "file_extension": ".py",
   "mimetype": "text/x-python",
   "name": "python",
   "nbconvert_exporter": "python",
   "pygments_lexer": "ipython3",
   "version": "3.9.5"
  }
 },
 "nbformat": 4,
 "nbformat_minor": 4
}
