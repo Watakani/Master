{
 "cells": [
  {
   "cell_type": "code",
   "execution_count": 1,
   "id": "9201b861-7ec5-4b36-8825-84dbadac3364",
   "metadata": {},
   "outputs": [],
   "source": [
    "import numpy as np\n",
    "import rpy2.robjects\n",
    "from rpy2.robjects import r\n",
    "import rpy2.robjects.packages as rpackages\n",
    "from rpy2.robjects.vectors import StrVector\n",
    "\n"
   ]
  },
  {
   "cell_type": "code",
   "execution_count": 2,
   "id": "a5bb477b-e1ca-4e03-afa4-72e20511ec98",
   "metadata": {},
   "outputs": [],
   "source": [
    "if not rpackages.isinstalled('loo'):\n",
    "    utils = rpackages.importr('utils')\n",
    "    utils.chooseCRANmirror(ind=74)\n",
    "    utils.install_packages(StrVector('loo'))\n",
    "loo = rpackages.importr('loo')"
   ]
  },
  {
   "cell_type": "code",
   "execution_count": null,
   "id": "77bdb6bd-e45c-4b55-8217-87a9f3ee7415",
   "metadata": {},
   "outputs": [],
   "source": []
  }
 ],
 "metadata": {
  "kernelspec": {
   "display_name": "Python 3 (ipykernel)",
   "language": "python",
   "name": "python3"
  },
  "language_info": {
   "codemirror_mode": {
    "name": "ipython",
    "version": 3
   },
   "file_extension": ".py",
   "mimetype": "text/x-python",
   "name": "python",
   "nbconvert_exporter": "python",
   "pygments_lexer": "ipython3",
   "version": "3.9.5"
  }
 },
 "nbformat": 4,
 "nbformat_minor": 5
}
