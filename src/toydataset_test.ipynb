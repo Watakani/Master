{
 "cells": [
  {
   "cell_type": "code",
   "execution_count": 1,
   "metadata": {},
   "outputs": [],
   "source": [
    "%load_ext autoreload\n",
    "%autoreload 2"
   ]
  },
  {
   "cell_type": "code",
   "execution_count": 2,
   "metadata": {},
   "outputs": [],
   "source": [
    "import torch\n",
    "import torch.nn as nn\n",
    "import numpy as np\n",
    "import matplotlib.pyplot as plt\n",
    "\n",
    "from made import MADE\n",
    "from data.toydata import ToyDataset\n",
    "\n",
    "from train import train_forward\n",
    "from scores import log_likelihood\n",
    "from scores import difference_loglik\n",
    "\n",
    "from utils import update_device"
   ]
  },
  {
   "cell_type": "code",
   "execution_count": 3,
   "metadata": {},
   "outputs": [],
   "source": [
    "from flows import create_iaf\n",
    "from flows import create_maf\n",
    "from flows import create_paf\n",
    "from flows import create_realnvp\n",
    "from flows import create_flows"
   ]
  },
  {
   "cell_type": "code",
   "execution_count": 4,
   "metadata": {},
   "outputs": [],
   "source": [
    "from structure.ar import AR\n",
    "from structure.iar import IAR\n",
    "from structure.twoblock import TwoBlock\n",
    "\n",
    "from transforms.affine import Affine\n",
    "from transforms.piecewise import PiecewiseAffine"
   ]
  },
  {
   "cell_type": "code",
   "execution_count": 5,
   "metadata": {},
   "outputs": [],
   "source": [
    "device = torch.device(\"cuda\") if torch.cuda.is_available() else torch.device(\"cpu\")\n",
    "device_cpu = torch.device(\"cpu\")"
   ]
  },
  {
   "cell_type": "code",
   "execution_count": 6,
   "metadata": {},
   "outputs": [],
   "source": [
    "target_distr = torch.distributions.exponential.Exponential(torch.tensor([1.0]).to(device))\n",
    "#target_distr = torch.distributions.gamma.Gamma(torch.tensor([1.0]).to(device), torch.tensor([5.0]).to(device))\n",
    "#dataset = ToyDataset(data_distr=target_distr, dim_input=1)\n",
    "\n",
    "dataset = ToyDataset(dim_input=100)"
   ]
  },
  {
   "cell_type": "code",
   "execution_count": 19,
   "metadata": {},
   "outputs": [],
   "source": [
    "dim_input = dataset.dim_input\n",
    "dim_hidden = [256,128,64,32]\n",
    "num_trans = 10\n",
    "perm_type = 'random'\n",
    "\n",
    "epochs = 2\n",
    "batch_size = 16"
   ]
  },
  {
   "cell_type": "code",
   "execution_count": 20,
   "metadata": {},
   "outputs": [
    {
     "data": {
      "text/plain": [
       "(None, None)"
      ]
     },
     "execution_count": 20,
     "metadata": {},
     "output_type": "execute_result"
    }
   ],
   "source": [
    "flows, names = [], []\n",
    "#flows.append(create_iaf(dim_input, dim_hidden, num_trans, perm_type)), names.append('IAF')\n",
    "#flows.append(create_maf(dim_input, dim_hidden, num_trans, perm_type)),names.append('MAF')\n",
    "#flows.append(create_paf(dim_input, dim_hidden, num_trans, perm_type, structures=AR)), names.append('PAF')\n",
    "#flows.append(create_realnvp(dim_input, dim_hidden, num_trans, perm_type)), names.append('Real NVP')\n",
    "\n",
    "transformations = [Affine,PiecewiseAffine, Affine, PiecewiseAffine, Affine, PiecewiseAffine, Affine, PiecewiseAffine, Affine, PiecewiseAffine]\n",
    "structures = AR\n",
    "flows.append(create_flows(dim_input, dim_hidden, num_trans, perm_type, structure=structures, transformation=transformations)), names.append('PAF/IAF')"
   ]
  },
  {
   "cell_type": "code",
   "execution_count": 21,
   "metadata": {},
   "outputs": [
    {
     "name": "stdout",
     "output_type": "stream",
     "text": [
      "PAF/IAF 1    212.11458\n"
     ]
    }
   ],
   "source": [
    "losses = []\n",
    "optimizers = []\n",
    "for i in range(len(flows)):\n",
    "    flow = flows[i]\n",
    "    update_device(device, flow, dataset)\n",
    "\n",
    "    optimizer = torch.optim.AdamW(flow.parameters(), lr=1e-3, weight_decay=1e-2)\n",
    "    #optimizer = torch.optim.SGD(flow.parameters(), lr=1e-3)\n",
    "    optimizers.append(optimizer)\n",
    "\n",
    "    losses.append(train_forward(flow, flow.get_base_distr(), dataset.get_training_data(), optimizer, epochs, batch_size, print_n=10, name=names[i]))\n",
    "\n",
    "    update_device(device_cpu, flow, dataset)"
   ]
  },
  {
   "cell_type": "code",
   "execution_count": null,
   "metadata": {},
   "outputs": [],
   "source": [
    "#Additional training with same optimizer\n",
    "for i in range(len(flows)):\n",
    "    flow = flows[i]\n",
    "    update_device(device, flow, dataset)\n",
    "\n",
    "    optimizer = optimizers[i]\n",
    "\n",
    "    losses.append(train_forward(flow, flow.get_base_distr(), dataset.get_training_data(), optimizer, epochs, batch_size, print_n=10, name=names[i]))\n",
    "\n",
    "    update_device(device_cpu, flow, dataset)"
   ]
  },
  {
   "cell_type": "code",
   "execution_count": 22,
   "metadata": {},
   "outputs": [
    {
     "data": {
      "text/plain": [
       "<matplotlib.legend.Legend at 0x7fabfc0ee9a0>"
      ]
     },
     "execution_count": 22,
     "metadata": {},
     "output_type": "execute_result"
    },
    {
     "data": {
      "image/png": "[encoded data removed]",
      "text/plain": [
       "<Figure size 432x288 with 2 Axes>"
      ]
     },
     "metadata": {
      "needs_background": "light"
     },
     "output_type": "display_data"
    }
   ],
   "source": [
    "plt.subplot(2,1,1)\n",
    "for i in range(len(losses)):\n",
    "    plt.plot(losses[i], label=names[i], alpha=0.8)\n",
    "plt.legend()\n",
    "\n",
    "plt.subplot(2,1,2)\n",
    "for i in range(len(losses)):\n",
    "    plt.plot((losses[i])[20:], label=names[i], alpha=0.8)\n",
    "plt.legend()"
   ]
  },
  {
   "cell_type": "code",
   "execution_count": 23,
   "metadata": {},
   "outputs": [],
   "source": [
    "train_data = dataset.get_training_data()"
   ]
  },
  {
   "cell_type": "code",
   "execution_count": 13,
   "metadata": {},
   "outputs": [
    {
     "data": {
      "text/plain": [
       "(tensor(26.2597, device='cuda:0', grad_fn=<DivBackward0>),\n",
       " tensor(42.5383, device='cuda:0', grad_fn=<DivBackward0>))"
      ]
     },
     "execution_count": 13,
     "metadata": {},
     "output_type": "execute_result"
    }
   ],
   "source": [
    "losses[0][-1], losses[1][-1]"
   ]
  },
  {
   "cell_type": "code",
   "execution_count": 25,
   "metadata": {},
   "outputs": [
    {
     "name": "stdout",
     "output_type": "stream",
     "text": [
      "Results based on training data:\n",
      "\n",
      "Mean loglikelihood for PAF/IAF:[-185.8277]\n",
      "Mean difference from target loglikelihood for PAF/IAF:[121.34539]\n",
      "\n",
      "Mean loglikelihood with actual distribution:-64.48231\n"
     ]
    }
   ],
   "source": [
    "print('Results based on training data:' + '\\n')\n",
    "for i in range(len(flows)):\n",
    "    log_lik, mean = log_likelihood(train_data, flows[i])\n",
    "    print(\"Mean loglikelihood for \" + names[i] + \":\" + str(mean))\n",
    "    \n",
    "    log_lik_diff, mean_diff = difference_loglik(train_data, dataset, flows[i])\n",
    "    print(\"Mean difference from target loglikelihood for \" + names[i] + \":\" + str(mean_diff) + '\\n')\n",
    "    \n",
    "mean = torch.mean(dataset.evaluate(train_data)).detach().numpy()\n",
    "print(\"Mean loglikelihood with actual distribution:\" + str(mean))\n",
    "    "
   ]
  },
  {
   "cell_type": "code",
   "execution_count": null,
   "metadata": {},
   "outputs": [],
   "source": [
    "print('Results based on new sample from each flow:' + '\\n')\n",
    "\n",
    "for i in range(len(flows)):\n",
    "    with torch.no_grad():\n",
    "        sample, log_prob = flow.sample(800)\n",
    "        sample_last = sample[-1]\n",
    "        \n",
    "    log_lik, mean = log_likelihood(sample_last, flows[i])\n",
    "    print(\"Mean loglikelihood for \" + names[i] + \":\" + str(mean))\n",
    "    \n",
    "    log_lik_diff, mean_diff = difference_loglik(sample_last, dataset, flows[i])\n",
    "    print(\"Mean difference from target loglikelihood for \" + names[i] + \":\" + str(mean_diff) + '\\n')\n",
    "\n",
    "    mean = torch.mean(dataset.evaluate(sample_last)).detach().numpy()\n",
    "    print(\"Mean loglikelihood with actual distribution:\" + str(mean))    "
   ]
  },
  {
   "cell_type": "code",
   "execution_count": null,
   "metadata": {},
   "outputs": [],
   "source": []
  }
 ],
 "metadata": {
  "kernelspec": {
   "display_name": "Python 3",
   "language": "python",
   "name": "python3"
  },
  "language_info": {
   "codemirror_mode": {
    "name": "ipython",
    "version": 3
   },
   "file_extension": ".py",
   "mimetype": "text/x-python",
   "name": "python",
   "nbconvert_exporter": "python",
   "pygments_lexer": "ipython3",
   "version": "3.8.5"
  }
 },
 "nbformat": 4,
 "nbformat_minor": 4
}
