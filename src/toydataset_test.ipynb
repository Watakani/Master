{
 "cells": [
  {
   "cell_type": "code",
   "execution_count": 1,
   "metadata": {},
   "outputs": [],
   "source": [
    "%load_ext autoreload\n",
    "%autoreload 2"
   ]
  },
  {
   "cell_type": "code",
   "execution_count": 4,
   "metadata": {},
   "outputs": [],
   "source": [
    "import torch\n",
    "import torch.nn as nn\n",
    "import numpy as np\n",
    "import matplotlib.pyplot as plt\n",
    "\n",
    "from made import MADE\n",
    "from data.toydata import ToyDataset\n",
    "\n",
    "from train import train_forward\n",
    "from scores import log_likelihood\n",
    "from scores import difference_loglik\n",
    "\n",
    "from utils import update_device"
   ]
  },
  {
   "cell_type": "code",
   "execution_count": 7,
   "metadata": {},
   "outputs": [],
   "source": [
    "from flows import create_iaf\n",
    "from flows import create_maf\n",
    "from flows import create_paf\n",
    "from flows import create_realnvp\n",
    "from flows import create_flows"
   ]
  },
  {
   "cell_type": "code",
   "execution_count": 8,
   "metadata": {},
   "outputs": [],
   "source": [
    "from structure.ar import AR\n",
    "from structure.iar import IAR\n",
    "from structure.twoblock import TwoBlock\n",
    "\n",
    "from transforms.affine import Affine\n",
    "from transforms.piecewise import PiecewiseAffine\n",
    "from transforms.piecewise_additive import PiecewiseAffineAffine"
   ]
  },
  {
   "cell_type": "code",
   "execution_count": 9,
   "metadata": {},
   "outputs": [],
   "source": [
    "device = torch.device(\"cuda\") if torch.cuda.is_available() else torch.device(\"cpu\")\n",
    "device_cpu = torch.device(\"cpu\")"
   ]
  },
  {
   "cell_type": "code",
   "execution_count": 10,
   "metadata": {},
   "outputs": [],
   "source": [
    "target_distr = torch.distributions.exponential.Exponential(torch.tensor([1.0]).to(device))\n",
    "#target_distr = torch.distributions.gamma.Gamma(torch.tensor([1.0]).to(device), torch.tensor([5.0]).to(device))\n",
    "#dataset = ToyDataset(data_distr=target_distr, dim_input=1)\n",
    "\n",
    "dataset = ToyDataset(dim_input=2)"
   ]
  },
  {
   "cell_type": "code",
   "execution_count": 11,
   "metadata": {},
   "outputs": [],
   "source": [
    "dim_input = dataset.dim_input\n",
    "dim_hidden = [10,10,10]\n",
    "num_trans = 5\n",
    "perm_type = 'random'"
   ]
  },
  {
   "cell_type": "code",
   "execution_count": 20,
   "metadata": {},
   "outputs": [
    {
     "data": {
      "text/plain": [
       "(None, None)"
      ]
     },
     "execution_count": 20,
     "metadata": {},
     "output_type": "execute_result"
    }
   ],
   "source": [
    "flows, names = [], []\n",
    "#flows.append(create_iaf(dim_input, dim_hidden, num_trans, perm_type)), names.append('IAF')\n",
    "flows.append(create_maf(dim_input, dim_hidden, num_trans, perm_type)),names.append('MAF')\n",
    "#flows.append(create_paf(dim_input, dim_hidden, num_trans, perm_type, structures=AR)), names.append('PAF')\n",
    "#flows.append(create_realnvp(dim_input, dim_hidden, num_trans, perm_type)), names.append('Real NVP')\n",
    "\n",
    "#transformations = [Affine,PiecewiseAffine, Affine, PiecewiseAffine, Affine, PiecewiseAffine, Affine, PiecewiseAffine, Affine, PiecewiseAffine]\n",
    "#structures = AR\n",
    "#flows.append(create_flows(dim_input, dim_hidden, num_trans, perm_type, structure=structures, transformation=transformations)), names.append('PAF/IAF')\n",
    "\n",
    "#flows.append(create_flows(dim_input, dim_hidden, num_trans, perm_type, structure=AR, transformation=PiecewiseAffineAffine)), names.append('PAAF')"
   ]
  },
  {
   "cell_type": "code",
   "execution_count": 21,
   "metadata": {},
   "outputs": [
    {
     "name": "stdout",
     "output_type": "stream",
     "text": [
      "MAF 199      2.33781\n"
     ]
    }
   ],
   "source": [
    "losses = []\n",
    "optimizers = []\n",
    "\n",
    "epochs = 200\n",
    "batch_size = 16\n",
    "for i in range(len(flows)):\n",
    "    flow = flows[i]\n",
    "    update_device(device, flow, dataset)\n",
    "\n",
    "    optimizer = torch.optim.AdamW(flow.parameters(), lr=1e-3, weight_decay=1e-2)\n",
    "    #optimizer = torch.optim.SGD(flow.parameters(), lr=1e-3)\n",
    "    optimizers.append(optimizer)\n",
    "\n",
    "    losses.append(train_forward(flow, flow.get_base_distr(), dataset.get_training_data(), optimizer, epochs, batch_size, print_n=10, name=names[i]))\n",
    "\n",
    "    update_device(device_cpu, flow, dataset)"
   ]
  },
  {
   "cell_type": "code",
   "execution_count": 22,
   "metadata": {},
   "outputs": [],
   "source": [
    "#Additional training with same optimizer\n",
    "epochs = 0\n",
    "if epochs > 0:\n",
    "    for i in range(len(flows)):\n",
    "        flow = flows[i]\n",
    "        update_device(device, flow, dataset)\n",
    "\n",
    "        optimizer = optimizers[i]\n",
    "\n",
    "        losses[i] += (train_forward(flow, flow.get_base_distr(), dataset.get_training_data(), optimizer, epochs, batch_size, print_n=10, name=names[i]))\n",
    "\n",
    "        update_device(device_cpu, flow, dataset)"
   ]
  },
  {
   "cell_type": "code",
   "execution_count": 23,
   "metadata": {},
   "outputs": [
    {
     "data": {
      "text/plain": [
       "<matplotlib.legend.Legend at 0x7fe4eea0e090>"
      ]
     },
     "execution_count": 23,
     "metadata": {},
     "output_type": "execute_result"
    },
    {
     "data": {
      "image/png": "[encoded data removed]",
      "text/plain": [
       "<Figure size 432x288 with 2 Axes>"
      ]
     },
     "metadata": {
      "needs_background": "light"
     },
     "output_type": "display_data"
    }
   ],
   "source": [
    "log_scale = False\n",
    "\n",
    "plt.subplot(2,1,1)\n",
    "for i in range(len(losses)):\n",
    "    plt.plot(losses[i], label=names[i], alpha=0.8)\n",
    "plt.legend()\n",
    "\n",
    "plt.subplot(2,1,2)\n",
    "for i in range(len(losses)):\n",
    "    plt.plot((losses[i])[20:], label=names[i], alpha=0.8)\n",
    "plt.legend()\n",
    "\n",
    "if log_scale:\n",
    "    plt.yscale('log')"
   ]
  },
  {
   "cell_type": "code",
   "execution_count": 25,
   "metadata": {},
   "outputs": [
    {
     "name": "stdout",
     "output_type": "stream",
     "text": [
      "Results based on training data:\n",
      "\n",
      "Mean loglikelihood for MAF:[-2.333601]\n",
      "Mean difference from target loglikelihood for MAF:[0.12597774]\n",
      "\n",
      "Mean loglikelihood with actual distribution:-2.3311555\n"
     ]
    }
   ],
   "source": [
    "print('Results based on training data:' + '\\n')\n",
    "\n",
    "train_data = dataset.get_training_data()\n",
    "for i in range(len(flows)):\n",
    "    log_lik, mean = log_likelihood(train_data, flows[i])\n",
    "    print(\"Mean loglikelihood for \" + names[i] + \":\" + str(mean))\n",
    "    \n",
    "    log_lik_diff, mean_diff = difference_loglik(train_data, dataset, flows[i])\n",
    "    print(\"Mean difference from target loglikelihood for \" + names[i] + \":\" + str(mean_diff) + '\\n')\n",
    "    \n",
    "mean = torch.mean(dataset.evaluate(train_data)).detach().numpy()\n",
    "print(\"Mean loglikelihood with actual distribution:\" + str(mean))\n",
    "    "
   ]
  },
  {
   "cell_type": "code",
   "execution_count": 29,
   "metadata": {},
   "outputs": [
    {
     "name": "stdout",
     "output_type": "stream",
     "text": [
      "Results based on test data\n",
      "\n",
      "Mean loglikelihood for MAF:[-2.37575]\n",
      "Mean difference from target loglikelihood for MAF:[0.1293766]\n",
      "\n",
      "Mean loglikelihood with actual distribution:-2.358318\n"
     ]
    }
   ],
   "source": [
    "print('Results based on test data' + '\\n')\n",
    "\n",
    "test_data = dataset.get_test_data()\n",
    "for i in range(len(flows)):           \n",
    "    log_lik, mean = log_likelihood(test_data, flows[i])\n",
    "    print(\"Mean loglikelihood for \" + names[i] + \":\" + str(mean))\n",
    "    \n",
    "    log_lik_diff, mean_diff = difference_loglik(test_data, dataset, flows[i])\n",
    "    print(\"Mean difference from target loglikelihood for \" + names[i] + \":\" + str(mean_diff) + '\\n')\n",
    "\n",
    "    mean = torch.mean(dataset.evaluate(test_data)).detach().numpy()\n",
    "    print(\"Mean loglikelihood with actual distribution:\" + str(mean)) "
   ]
  },
  {
   "cell_type": "code",
   "execution_count": 28,
   "metadata": {},
   "outputs": [
    {
     "name": "stdout",
     "output_type": "stream",
     "text": [
      "Results based on new sample from each flow:\n",
      "\n",
      "Mean loglikelihood for MAF:[-7.594179]\n",
      "Mean difference from target loglikelihood for MAF:[0.7644256]\n",
      "\n",
      "Mean loglikelihood with actual distribution:-6.83721\n"
     ]
    }
   ],
   "source": [
    "print('Results based on new sample from each flow:' + '\\n')\n",
    "\n",
    "for i in range(len(flows)):\n",
    "    with torch.no_grad():\n",
    "        sample, log_prob = flow.sample(800)\n",
    "        sample_last = sample[-1]\n",
    "        \n",
    "    log_lik, mean = log_likelihood(sample_last, flows[i])\n",
    "    print(\"Mean loglikelihood for \" + names[i] + \":\" + str(mean))\n",
    "    \n",
    "    log_lik_diff, mean_diff = difference_loglik(sample_last, dataset, flows[i])\n",
    "    print(\"Mean difference from target loglikelihood for \" + names[i] + \":\" + str(mean_diff) + '\\n')\n",
    "\n",
    "    mean = torch.mean(dataset.evaluate(sample_last)).detach().numpy()\n",
    "    print(\"Mean loglikelihood with actual distribution:\" + str(mean))    "
   ]
  }
 ],
 "metadata": {
  "kernelspec": {
   "display_name": "Python 3",
   "language": "python",
   "name": "python3"
  },
  "language_info": {
   "codemirror_mode": {
    "name": "ipython",
    "version": 3
   },
   "file_extension": ".py",
   "mimetype": "text/x-python",
   "name": "python",
   "nbconvert_exporter": "python",
   "pygments_lexer": "ipython3",
   "version": "3.7.9"
  }
 },
 "nbformat": 4,
 "nbformat_minor": 4
}
