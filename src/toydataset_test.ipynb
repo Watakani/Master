{
 "cells": [
  {
   "cell_type": "code",
   "execution_count": 1,
   "metadata": {},
   "outputs": [],
   "source": [
    "%load_ext autoreload\n",
    "%autoreload 2"
   ]
  },
  {
   "cell_type": "code",
   "execution_count": 2,
   "metadata": {},
   "outputs": [],
   "source": [
    "import torch\n",
    "import torch.nn as nn\n",
    "import numpy as np\n",
    "import matplotlib.pyplot as plt\n",
    "\n",
    "from made import MADE\n",
    "from data.toydata import ToyDataset\n",
    "\n",
    "from train import train_forward\n",
    "from scores import log_likelihood\n",
    "from scores import difference_loglik\n",
    "\n",
    "from utils import update_device"
   ]
  },
  {
   "cell_type": "code",
   "execution_count": 3,
   "metadata": {},
   "outputs": [],
   "source": [
    "from flows import create_iaf\n",
    "from flows import create_maf\n",
    "from flows import create_paf\n",
    "from flows import create_realnvp\n",
    "from flows import create_flows"
   ]
  },
  {
   "cell_type": "code",
   "execution_count": 4,
   "metadata": {},
   "outputs": [],
   "source": [
    "from structure.ar import AR\n",
    "from structure.iar import IAR\n",
    "from structure.twoblock import TwoBlock\n",
    "\n",
    "from transforms.affine import Affine\n",
    "from transforms.piecewise import PiecewiseAffine"
   ]
  },
  {
   "cell_type": "code",
   "execution_count": 5,
   "metadata": {},
   "outputs": [],
   "source": [
    "device = torch.device(\"cuda\") if torch.cuda.is_available() else torch.device(\"cpu\")\n",
    "device_cpu = torch.device(\"cpu\")"
   ]
  },
  {
   "cell_type": "code",
   "execution_count": 6,
   "metadata": {},
   "outputs": [],
   "source": [
    "dataset = ToyDataset()"
   ]
  },
  {
   "cell_type": "code",
   "execution_count": 7,
   "metadata": {},
   "outputs": [],
   "source": [
    "dim_input = 2\n",
    "dim_hidden = [10,10,10]\n",
    "num_trans = 8\n",
    "perm_type = 'alternate'\n",
    "\n",
    "epochs = 10\n",
    "batch_size = 10"
   ]
  },
  {
   "cell_type": "code",
   "execution_count": 11,
   "metadata": {},
   "outputs": [
    {
     "data": {
      "text/plain": [
       "(None, None)"
      ]
     },
     "execution_count": 11,
     "metadata": {},
     "output_type": "execute_result"
    }
   ],
   "source": [
    "flows, names = [], []\n",
    "#flows.append(create_iaf(dim_input, dim_hidden, num_trans, perm_type)), names.append('IAF')\n",
    "flows.append(create_maf(dim_input, dim_hidden, num_trans, perm_type)),names.append('MAF')\n",
    "flows.append(create_paf(dim_input, dim_hidden, num_trans, perm_type)), names.append('PAF')\n",
    "#flows.append(create_realnvp(dim_input, dim_hidden, num_trans, perm_type)), names.append('Real NVP')\n",
    "\n",
    "#transformations = [Affine, Affine, PiecewiseAffine, PiecewiseAffine, Affine, Affine, PiecewiseAffine, PiecewiseAffine]\n",
    "#structures = IAR\n",
    "#flows.append(create_flows(dim_input, dim_hidden, num_trans, perm_type, structure=structures, transformation=transformations)), names.append(PAF/IAF)"
   ]
  },
  {
   "cell_type": "code",
   "execution_count": 12,
   "metadata": {},
   "outputs": [
    {
     "name": "stdout",
     "output_type": "stream",
     "text": [
      "     4.27619\n"
     ]
    }
   ],
   "source": [
    "losses = []\n",
    "for flow in flows:\n",
    "    update_device(device, flow, dataset)\n",
    "\n",
    "    #optimizer = torch.optim.AdamW(flow.parameters(), lr=1e-3)\n",
    "    optimizer = torch.optim.SGD(flow.parameters(), lr=1e-3)\n",
    "\n",
    "    losses.append(train_forward(flow, flow.get_base_distr(), dataset.get_training_data(), optimizer, epochs, batch_size,print_n=10))\n",
    "\n",
    "update_device(device_cpu, flow, dataset)"
   ]
  },
  {
   "cell_type": "code",
   "execution_count": 13,
   "metadata": {},
   "outputs": [
    {
     "data": {
      "image/png": "[encoded data removed]",
      "text/plain": [
       "<Figure size 432x288 with 2 Axes>"
      ]
     },
     "metadata": {
      "needs_background": "light"
     },
     "output_type": "display_data"
    }
   ],
   "source": [
    "plt.subplot(2,1,1)\n",
    "for i in range(len(losses)):\n",
    "    plt.plot(losses[i], label=names[i], alpha=0.8)\n",
    "\n",
    "plt.subplot(2,1,2)\n",
    "for i in range(len(losses)):\n",
    "    plt.plot((losses[i])[20:], label=names[i], alpha=0.8)\n"
   ]
  },
  {
   "cell_type": "code",
   "execution_count": 14,
   "metadata": {},
   "outputs": [],
   "source": [
    "train_data = dataset.get_training_data()"
   ]
  },
  {
   "cell_type": "code",
   "execution_count": 22,
   "metadata": {},
   "outputs": [
    {
     "name": "stdout",
     "output_type": "stream",
     "text": [
      "Results based on training data:\n",
      "\n",
      "Mean loglikelihood for MAF:[-2.4983926]\n",
      "Mean difference from target loglikelihood for MAF:[0.38353616]\n",
      "\n",
      "Mean loglikelihood for PAF:[-4.2379127]\n",
      "Mean difference from target loglikelihood for PAF:[1.9588124]\n",
      "\n"
     ]
    }
   ],
   "source": [
    "print('Results based on training data:' + '\\n')\n",
    "for i in range(len(flows)):\n",
    "    log_lik, mean = log_likelihood(train_data, flows[i])\n",
    "    print(\"Mean loglikelihood for \" + names[i] + \":\" + str(mean))\n",
    "    \n",
    "    log_lik_diff, mean_diff = difference_loglik(train_data, dataset, flows[i])\n",
    "    print(\"Mean difference from target loglikelihood for \" + names[i] + \":\" + str(mean_diff) + '\\n')\n",
    "    "
   ]
  },
  {
   "cell_type": "code",
   "execution_count": 26,
   "metadata": {},
   "outputs": [
    {
     "name": "stdout",
     "output_type": "stream",
     "text": [
      "Results based on new sample from each flow:\n",
      "\n",
      "Mean loglikelihood for MAF:[-15.743261]\n",
      "Mean difference from target loglikelihood for MAF:[9.948595]\n",
      "\n",
      "Mean loglikelihood for PAF:[-3.9002285]\n",
      "Mean difference from target loglikelihood for PAF:[20.971136]\n",
      "\n"
     ]
    }
   ],
   "source": [
    "print('Results based on new sample from each flow:' + '\\n')\n",
    "\n",
    "for i in range(len(flows)):\n",
    "    with torch.no_grad():\n",
    "        sample, log_prob = flow.sample(800)\n",
    "        sample_last = sample[-1]\n",
    "        \n",
    "    log_lik, mean = log_likelihood(sample_last, flows[i])\n",
    "    print(\"Mean loglikelihood for \" + names[i] + \":\" + str(mean))\n",
    "    \n",
    "    log_lik_diff, mean_diff = difference_loglik(sample_last, dataset, flows[i])\n",
    "    print(\"Mean difference from target loglikelihood for \" + names[i] + \":\" + str(mean_diff) + '\\n')\n",
    "\n",
    "    "
   ]
  }
 ],
 "metadata": {
  "kernelspec": {
   "display_name": "Python 3",
   "language": "python",
   "name": "python3"
  },
  "language_info": {
   "codemirror_mode": {
    "name": "ipython",
    "version": 3
   },
   "file_extension": ".py",
   "mimetype": "text/x-python",
   "name": "python",
   "nbconvert_exporter": "python",
   "pygments_lexer": "ipython3",
   "version": "3.7.9"
  }
 },
 "nbformat": 4,
 "nbformat_minor": 4
}
