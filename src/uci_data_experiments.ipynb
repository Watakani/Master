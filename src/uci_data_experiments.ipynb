{
 "cells": [
  {
   "cell_type": "code",
   "execution_count": null,
   "metadata": {},
   "outputs": [],
   "source": [
    "%load_ext autoreload\n",
    "%autoreload 2"
   ]
  },
  {
   "cell_type": "code",
   "execution_count": null,
   "metadata": {},
   "outputs": [],
   "source": [
    "import torch\n",
    "import torch.nn as nn\n",
    "import numpy as np\n",
    "import matplotlib.pyplot as plt\n",
    "\n",
    "from made import MADE\n",
    "\n",
    "from train import train_forward\n",
    "from scores import log_likelihood\n",
    "from scores import difference_loglik\n",
    "\n",
    "from utils import update_device"
   ]
  },
  {
   "cell_type": "code",
   "execution_count": null,
   "metadata": {},
   "outputs": [],
   "source": [
    "from data.bsds300 import BSDS300\n",
    "from data.gas import Gas\n",
    "from data.hepmass import Hepmass\n",
    "from data.miniboone import Miniboone\n",
    "from data.power import Power"
   ]
  },
  {
   "cell_type": "code",
   "execution_count": null,
   "metadata": {},
   "outputs": [],
   "source": [
    "from flows import create_iaf\n",
    "from flows import create_maf\n",
    "from flows import create_paf\n",
    "from flows import create_realnvp\n",
    "from flows import create_flows"
   ]
  },
  {
   "cell_type": "code",
   "execution_count": null,
   "metadata": {},
   "outputs": [],
   "source": [
    "from structure.ar import AR\n",
    "from structure.iar import IAR\n",
    "from structure.twoblock import TwoBlock\n",
    "\n",
    "from transforms.affine import Affine\n",
    "from transforms.piecewise import PiecewiseAffine\n",
    "from transforms.piecewise_additive import PiecewiseAffineAffine"
   ]
  },
  {
   "cell_type": "code",
   "execution_count": null,
   "metadata": {},
   "outputs": [],
   "source": [
    "device = torch.device(\"cuda\") if torch.cuda.is_available() else torch.device(\"cpu\")\n",
    "device_cpu = torch.device(\"cpu\")"
   ]
  },
  {
   "cell_type": "code",
   "execution_count": null,
   "metadata": {},
   "outputs": [],
   "source": [
    "#dataset = BSDS300()\n",
    "#dataset = Gas()\n",
    "#dataset = Hepmass()\n",
    "#dataset = Miniboone()\n",
    "dataset = Power()\n",
    "\n",
    "print('Training size:', dataset.train_n, 'Validation size:', dataset.valid_n, 'Test size:', dataset.test_n)\n",
    "print('Dimension:', dataset.dim_input)"
   ]
  },
  {
   "cell_type": "code",
   "execution_count": null,
   "metadata": {},
   "outputs": [],
   "source": [
    "dim_input = dataset.dim_input\n",
    "dim_hidden = [10,10,10]\n",
    "num_trans = 5\n",
    "perm_type = 'random'"
   ]
  },
  {
   "cell_type": "code",
   "execution_count": null,
   "metadata": {},
   "outputs": [],
   "source": [
    "flows, names = [], []\n",
    "#flows.append(create_iaf(dim_input, dim_hidden, num_trans, perm_type)), names.append('IAF')\n",
    "#flows.append(create_maf(dim_input, dim_hidden, num_trans, perm_type)),names.append('MAF')\n",
    "#flows.append(create_paf(dim_input, dim_hidden, num_trans, perm_type, structures=AR)), names.append('PAF')\n",
    "#flows.append(create_realnvp(dim_input, dim_hidden, num_trans, perm_type)), names.append('Real NVP')\n",
    "\n",
    "#transformations = [Affine,PiecewiseAffine, Affine, PiecewiseAffine, Affine, PiecewiseAffine, Affine, PiecewiseAffine, Affine, PiecewiseAffine]\n",
    "#structures = AR\n",
    "#flows.append(create_flows(dim_input, dim_hidden, num_trans, perm_type, structure=structures, transformation=transformations)), names.append('PAF/IAF')\n",
    "\n",
    "flows.append(create_flows(dim_input, dim_hidden, num_trans, perm_type, structure=AR, transformation=PiecewiseAffineAffine)), names.append('PAAF')"
   ]
  },
  {
   "cell_type": "code",
   "execution_count": null,
   "metadata": {},
   "outputs": [],
   "source": [
    "losses = []\n",
    "optimizers = []\n",
    "\n",
    "epochs = 10\n",
    "batch_size = 800\n",
    "for i in range(len(flows)):\n",
    "    flow = flows[i]\n",
    "    update_device(device, flow, dataset)\n",
    "\n",
    "    optimizer = torch.optim.AdamW(flow.parameters(), lr=1e-3, weight_decay=1e-2)\n",
    "    #optimizer = torch.optim.SGD(flow.parameters(), lr=1e-3)\n",
    "    optimizers.append(optimizer)\n",
    "\n",
    "    losses.append(train_forward(flow, flow.get_base_distr(), dataset.get_training_data(), optimizer, epochs, batch_size, print_n=1, name=names[i]))\n",
    "\n",
    "    update_device(device_cpu, flow, dataset)"
   ]
  },
  {
   "cell_type": "code",
   "execution_count": null,
   "metadata": {},
   "outputs": [],
   "source": [
    "#Additional training with same optimizer\n",
    "epochs = 5\n",
    "if epochs > 0:\n",
    "    for i in range(len(flows)):\n",
    "        flow = flows[i]\n",
    "        update_device(device, flow, dataset)\n",
    "\n",
    "        optimizer = optimizers[i]\n",
    "\n",
    "        losses[i] += (train_forward(flow, flow.get_base_distr(), dataset.get_training_data(), optimizer, epochs, batch_size, print_n=10, name=names[i]))\n",
    "\n",
    "        update_device(device_cpu, flow, dataset)"
   ]
  },
  {
   "cell_type": "code",
   "execution_count": null,
   "metadata": {},
   "outputs": [],
   "source": [
    "log_scale = False\n",
    "num_epoch_skip = 0\n",
    "\n",
    "plt.subplot(2,1,1)\n",
    "for i in range(len(losses)):\n",
    "    plt.plot(losses[i], label=names[i], alpha=0.8)\n",
    "plt.legend()\n",
    "\n",
    "plt.subplot(2,1,2)\n",
    "for i in range(len(losses)):\n",
    "    plt.plot((losses[i])[num_epoch_skip:], label=names[i], alpha=0.8)\n",
    "plt.legend()\n",
    "\n",
    "if log_scale:\n",
    "    plt.yscale('log')"
   ]
  },
  {
   "cell_type": "code",
   "execution_count": null,
   "metadata": {},
   "outputs": [],
   "source": [
    "print('Results based on training data:' + '\\n')\n",
    "\n",
    "train_data = dataset.get_training_data()\n",
    "for i in range(len(flows)):\n",
    "    log_lik, mean = log_likelihood(train_data, flows[i])\n",
    "    print(\"Mean loglikelihood for \" + names[i] + \":\" + str(mean))"
   ]
  },
  {
   "cell_type": "code",
   "execution_count": null,
   "metadata": {},
   "outputs": [],
   "source": [
    "print('Results based on validation data' + '\\n')\n",
    "\n",
    "valid_data = dataset.get_validation_data()\n",
    "for i in range(len(flows)):           \n",
    "    log_lik, mean = log_likelihood(valid_data, flows[i])\n",
    "    print(\"Mean loglikelihood for \" + names[i] + \":\" + str(mean))"
   ]
  },
  {
   "cell_type": "code",
   "execution_count": null,
   "metadata": {},
   "outputs": [],
   "source": [
    "print('Results based on test data' + '\\n')\n",
    "\n",
    "test_data = dataset.get_test_data()\n",
    "for i in range(len(flows)):           \n",
    "    log_lik, mean = log_likelihood(test_data, flows[i])\n",
    "    print(\"Mean loglikelihood for \" + names[i] + \":\" + str(mean))"
   ]
  },
  {
   "cell_type": "code",
   "execution_count": null,
   "metadata": {},
   "outputs": [],
   "source": []
  }
 ],
 "metadata": {
  "kernelspec": {
   "display_name": "Python 3",
   "language": "python",
   "name": "python3"
  },
  "language_info": {
   "codemirror_mode": {
    "name": "ipython",
    "version": 3
   },
   "file_extension": ".py",
   "mimetype": "text/x-python",
   "name": "python",
   "nbconvert_exporter": "python",
   "pygments_lexer": "ipython3",
   "version": "3.7.9"
  }
 },
 "nbformat": 4,
 "nbformat_minor": 4
}
