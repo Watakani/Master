{
 "cells": [
  {
   "cell_type": "code",
   "execution_count": 1,
   "metadata": {},
   "outputs": [],
   "source": [
    "%load_ext autoreload\n",
    "%autoreload 2"
   ]
  },
  {
   "cell_type": "code",
   "execution_count": 2,
   "metadata": {},
   "outputs": [],
   "source": [
    "import torch\n",
    "import torch.nn as nn\n",
    "import numpy as np\n",
    "import matplotlib.pyplot as plt\n",
    "\n",
    "from made import MADE\n",
    "from data.toydata import ToyDataset\n",
    "\n",
    "from train import train_forward\n",
    "from scores import log_likelihood\n",
    "from scores import difference_loglik\n",
    "\n",
    "from utils import update_device"
   ]
  },
  {
   "cell_type": "code",
   "execution_count": 5,
   "metadata": {},
   "outputs": [],
   "source": [
    "from flows import create_iaf\n",
    "from flows import create_maf\n",
    "from flows import create_paf\n",
    "from flows import create_realnvp\n",
    "from flows import create_flows"
   ]
  },
  {
   "cell_type": "code",
   "execution_count": 7,
   "metadata": {},
   "outputs": [],
   "source": [
    "from structure.ar import AR\n",
    "from structure.iar import IAR\n",
    "from structure.twoblock import TwoBlock\n",
    "\n",
    "from transforms.affine import Affine\n",
    "from transforms.piecewise import PiecewiseAffine"
   ]
  },
  {
   "cell_type": "code",
   "execution_count": null,
   "metadata": {},
   "outputs": [],
   "source": [
    "device = torch.device(\"cuda\") if torch.cuda.is_available() else torch.device(\"cpu\")\n",
    "device_cpu = torch.device(\"cpu\")"
   ]
  },
  {
   "cell_type": "code",
   "execution_count": null,
   "metadata": {},
   "outputs": [],
   "source": [
    "dataset = ToyDataset()"
   ]
  },
  {
   "cell_type": "code",
   "execution_count": 8,
   "metadata": {},
   "outputs": [],
   "source": [
    "dim_input = 2\n",
    "dim_hidden = [10,10,10]\n",
    "num_trans = 8\n",
    "perm_type = 'alternate'"
   ]
  },
  {
   "cell_type": "code",
   "execution_count": 10,
   "metadata": {},
   "outputs": [],
   "source": [
    "transformations = [Affine, Affine, PiecewiseAffine, PiecewiseAffine, Affine, Affine, PiecewiseAffine, PiecewiseAffine]\n",
    "structures = IAR"
   ]
  },
  {
   "cell_type": "code",
   "execution_count": 42,
   "metadata": {},
   "outputs": [],
   "source": [
    "flow = create_iaf(dim_input, dim_hidden, num_trans, perm_type)\n",
    "#flow = create_maf(dim_input, dim_hidden, num_trans, perm_type)\n",
    "#flow = create_paf(dim_input, dim_hidden, num_trans, perm_type)\n",
    "#flow = create_realnvp(dim_input, dim_hidden, num_trans, perm_type)\n",
    "#flow = create_flows(dim_input, dim_hidden, num_trans, perm_type, structure=structures, transformation=transformations)"
   ]
  },
  {
   "cell_type": "code",
   "execution_count": 46,
   "metadata": {},
   "outputs": [
    {
     "name": "stdout",
     "output_type": "stream",
     "text": [
      "     2.35195\n"
     ]
    }
   ],
   "source": [
    "update_device(device, flow, dataset)\n",
    "\n",
    "#optimizer = torch.optim.AdamW(flow.parameters(), lr=1e-3)\n",
    "optimizer = torch.optim.SGD(flow.parameters(), lr=1e-3)\n",
    "\n",
    "loss = train_forward(flow, flow.get_base_distr(), dataset.get_training_data(), optimizer, epochs=200, batch_size=16,print_n=10)\n",
    "\n",
    "update_device(device_cpu, flow, dataset)"
   ]
  },
  {
   "cell_type": "code",
   "execution_count": 47,
   "metadata": {},
   "outputs": [
    {
     "data": {
      "text/plain": [
       "[<matplotlib.lines.Line2D at 0x7ff393d7b050>]"
      ]
     },
     "execution_count": 47,
     "metadata": {},
     "output_type": "execute_result"
    },
    {
     "data": {
      "image/png": "[encoded data removed]",
      "text/plain": [
       "<Figure size 432x288 with 2 Axes>"
      ]
     },
     "metadata": {
      "needs_background": "light"
     },
     "output_type": "display_data"
    }
   ],
   "source": [
    "plt.subplot(1,2,1)\n",
    "plt.plot(loss)\n",
    "\n",
    "plt.subplot(1,2,2)\n",
    "plt.plot(loss[20:])"
   ]
  },
  {
   "cell_type": "code",
   "execution_count": 48,
   "metadata": {},
   "outputs": [],
   "source": [
    "train_data = dataset.get_training_data()"
   ]
  },
  {
   "cell_type": "code",
   "execution_count": 50,
   "metadata": {},
   "outputs": [],
   "source": [
    "with torch.no_grad():\n",
    "    sample, log_prob = flow.sample(800)\n",
    "    sample_last = sample[-1].detach().numpy()"
   ]
  },
  {
   "cell_type": "raw",
   "metadata": {
    "jupyter": {
     "outputs_hidden": true
    }
   },
   "source": [
    "sample_0 = sample[0].detach().cpu().numpy()\n",
    "plt.scatter(sample_0[:,0], sample_0[:,1])\n",
    "\n",
    "sample_1 = sample[1].detach().cpu().numpy()\n",
    "plt.scatter(sample_1[:,0], sample_1[:,1])\n",
    "\n",
    "sample_2 = sample[2].detach().cpu().numpy()\n",
    "plt.scatter(sample_2[:,0], sample_2[:,1])\n",
    "\n",
    "sample_3 = sample[3].detach().cpu().numpy()\n",
    "plt.scatter(sample_3[:,0], sample_3[:,1])"
   ]
  },
  {
   "cell_type": "code",
   "execution_count": 51,
   "metadata": {},
   "outputs": [
    {
     "data": {
      "text/plain": [
       "(-1.1439754962921143, 5.53448486328125)"
      ]
     },
     "execution_count": 51,
     "metadata": {},
     "output_type": "execute_result"
    },
    {
     "data": {
      "image/png": "[encoded data removed]",
      "text/plain": [
       "<Figure size 432x288 with 2 Axes>"
      ]
     },
     "metadata": {
      "needs_background": "light"
     },
     "output_type": "display_data"
    }
   ],
   "source": [
    "xlims = (min(sample_last[:,0].min(), train_data[:,0].min())), max(sample_last[:,0].max(), train_data[:,0].max())\n",
    "ylims = (min(sample_last[:,1].min(), train_data[:,1].min())), max(sample_last[:,1].max(), train_data[:,1].max())\n",
    "\n",
    "plt.subplot(1,2,1)\n",
    "plt.scatter(sample_last[:,0], sample_last[:,1])\n",
    "plt.xlim(xlims)\n",
    "plt.ylim(ylims)\n",
    "\n",
    "plt.subplot(1,2,2)\n",
    "plt.scatter(train_data[:,0].to('cpu'), train_data[:,1].to('cpu'))\n",
    "plt.xlim(xlims)\n",
    "plt.ylim(ylims)"
   ]
  },
  {
   "cell_type": "code",
   "execution_count": 52,
   "metadata": {},
   "outputs": [
    {
     "data": {
      "text/plain": [
       "tensor(0.2597)"
      ]
     },
     "execution_count": 52,
     "metadata": {},
     "output_type": "execute_result"
    }
   ],
   "source": [
    "log_prob_target = dataset.evaluate(sample[-1])\n",
    "torch.mean(torch.abs(log_prob_target - log_prob))"
   ]
  },
  {
   "cell_type": "code",
   "execution_count": 53,
   "metadata": {},
   "outputs": [],
   "source": [
    "with torch.no_grad():\n",
    "    z_train, log_prob_train = flow.evaluate(train_data)"
   ]
  },
  {
   "cell_type": "code",
   "execution_count": 54,
   "metadata": {},
   "outputs": [],
   "source": [
    "log_prob_train_target = dataset.evaluate(train_data)"
   ]
  },
  {
   "cell_type": "code",
   "execution_count": 55,
   "metadata": {},
   "outputs": [
    {
     "data": {
      "text/plain": [
       "tensor(0.0647)"
      ]
     },
     "execution_count": 55,
     "metadata": {},
     "output_type": "execute_result"
    }
   ],
   "source": [
    "torch.mean(torch.abs(log_prob_train_target-log_prob_train))"
   ]
  },
  {
   "cell_type": "code",
   "execution_count": 56,
   "metadata": {},
   "outputs": [
    {
     "data": {
      "text/plain": [
       "(tensor(-2.3530), tensor(-2.3488))"
      ]
     },
     "execution_count": 56,
     "metadata": {},
     "output_type": "execute_result"
    }
   ],
   "source": [
    "torch.mean(log_prob_train), torch.mean(log_prob_train_target)"
   ]
  },
  {
   "cell_type": "code",
   "execution_count": 57,
   "metadata": {},
   "outputs": [],
   "source": [
    "test_data = dataset.get_test_data()"
   ]
  },
  {
   "cell_type": "code",
   "execution_count": 58,
   "metadata": {},
   "outputs": [],
   "source": [
    "with torch.no_grad():\n",
    "    z_train, log_prob_test = flow.evaluate(test_data)"
   ]
  },
  {
   "cell_type": "code",
   "execution_count": 59,
   "metadata": {},
   "outputs": [],
   "source": [
    "log_prob_test_target = dataset.evaluate(test_data)"
   ]
  },
  {
   "cell_type": "code",
   "execution_count": 60,
   "metadata": {},
   "outputs": [
    {
     "data": {
      "text/plain": [
       "tensor(0.0654)"
      ]
     },
     "execution_count": 60,
     "metadata": {},
     "output_type": "execute_result"
    }
   ],
   "source": [
    "torch.mean(torch.abs(log_prob_test_target-log_prob_test))"
   ]
  },
  {
   "cell_type": "code",
   "execution_count": 61,
   "metadata": {},
   "outputs": [
    {
     "data": {
      "text/plain": [
       "(tensor(-2.4280), tensor(-2.4195))"
      ]
     },
     "execution_count": 61,
     "metadata": {},
     "output_type": "execute_result"
    }
   ],
   "source": [
    "torch.mean(log_prob_test), torch.mean(log_prob_test_target)"
   ]
  },
  {
   "cell_type": "code",
   "execution_count": 62,
   "metadata": {},
   "outputs": [],
   "source": [
    "log_lik, mean = log_likelihood(train_data, flow)"
   ]
  },
  {
   "cell_type": "code",
   "execution_count": 63,
   "metadata": {},
   "outputs": [],
   "source": [
    "log_lik_diff, mean_diff = difference_loglik(train_data, dataset, flow)"
   ]
  },
  {
   "cell_type": "code",
   "execution_count": 64,
   "metadata": {},
   "outputs": [
    {
     "data": {
      "text/plain": [
       "([array([3.19885015e-02, 5.64792156e-02, 6.85176849e-02, 4.28910255e-02,\n",
       "         1.51097775e-02, 1.38054132e-01, 2.73430347e-02, 1.15182400e-01,\n",
       "         9.20367241e-02, 1.30307674e-02, 7.47289658e-02, 8.74371529e-02,\n",
       "         8.63635540e-02, 7.38842487e-02, 5.73741198e-02, 6.74335957e-02,\n",
       "         5.51334620e-02, 6.81686401e-02, 1.60226822e-02, 8.48221779e-02,\n",
       "         6.42895699e-02, 3.43749523e-02, 1.14140511e-02, 1.72661781e-01,\n",
       "         4.02742624e-02, 8.12022686e-02, 4.13935184e-02, 1.16336346e-02,\n",
       "         5.68797588e-02, 1.93017721e-01, 3.06320190e-03, 1.28374100e-02,\n",
       "         2.16243267e-01, 3.49617004e-03, 1.61379576e-02, 4.44283485e-02,\n",
       "         5.10077477e-02, 4.06432152e-02, 7.20212460e-02, 8.10930729e-02,\n",
       "         1.78129673e-01, 4.63955402e-02, 6.43777847e-02, 1.21457577e-02,\n",
       "         9.91749763e-02, 5.00082970e-02, 4.35349941e-02, 1.19362116e-01,\n",
       "         5.08301258e-02, 3.68421078e-02, 3.53832245e-02, 6.20968342e-02,\n",
       "         4.50477600e-02, 4.42833900e-02, 2.43056774e-01, 2.16794014e-03,\n",
       "         7.33356476e-02, 6.41765594e-02, 1.64490223e-01, 3.61530781e-02,\n",
       "         7.28252411e-01, 3.91507149e-02, 6.38587475e-02, 1.14861965e-01,\n",
       "         3.47335339e-02, 2.49207020e-02, 1.83073044e-01, 5.35526276e-02,\n",
       "         4.87470627e-03, 5.39152622e-02, 6.09557629e-02, 1.77717209e-02,\n",
       "         5.79977036e-03, 6.13517761e-02, 1.46853924e-02, 2.32868195e-02,\n",
       "         1.13990307e-01, 1.05736256e-02, 2.80519724e-02, 5.09634018e-02,\n",
       "         6.14849329e-02, 4.69055176e-02, 7.65573978e-02, 5.95676899e-02,\n",
       "         2.14258432e-02, 8.87866020e-02, 6.25622272e-02, 6.43188953e-02,\n",
       "         2.60978937e-02, 3.68781090e-02, 5.40218353e-02, 4.57795858e-02,\n",
       "         5.55372238e-03, 6.11956120e-02, 1.76066160e-01, 1.02793694e-01,\n",
       "         4.34352875e-01, 8.14063549e-02, 3.64086628e-02, 5.51441908e-02,\n",
       "         9.35466290e-02, 1.38852596e-02, 5.57603836e-02, 7.94994831e-03,\n",
       "         3.31408978e-02, 6.49049282e-02, 4.64372635e-02, 2.25061655e-01,\n",
       "         3.63948345e-02, 5.70666790e-02, 1.33346796e-01, 8.52084160e-03,\n",
       "         9.03835297e-02, 5.20281792e-02, 1.20882511e-01, 9.16430950e-02,\n",
       "         6.59477711e-02, 1.04355812e-01, 2.07829475e-03, 3.30798626e-02,\n",
       "         3.52919102e-03, 1.38306379e-01, 4.22607660e-02, 2.18873024e-01,\n",
       "         4.31632996e-03, 5.24790287e-02, 6.12857342e-02, 5.30074835e-02,\n",
       "         1.66184902e-02, 5.80792427e-02, 7.54039288e-02, 6.06641769e-02,\n",
       "         9.96358395e-02, 4.62772846e-02, 7.18166828e-02, 6.46190643e-02,\n",
       "         2.05049515e-02, 4.90119457e-02, 5.17048836e-02, 2.32083797e-02,\n",
       "         8.88183117e-02, 5.62036037e-02, 1.34298563e-01, 3.19874287e-02,\n",
       "         8.33272934e-03, 1.04156017e-01, 4.46159840e-02, 2.10696459e-02,\n",
       "         6.57920837e-02, 2.52616405e-03, 8.05397034e-02, 7.02543259e-02,\n",
       "         9.47928429e-02, 8.39700699e-02, 2.07983255e-02, 4.93574142e-03,\n",
       "         2.82344818e-02, 2.26595402e-02, 6.92429543e-02, 8.50605965e-02,\n",
       "         2.91943550e-02, 6.96730614e-03, 9.23800468e-03, 4.54603434e-02,\n",
       "         5.59496880e-02, 4.15134430e-02, 2.67319679e-02, 4.14731503e-02,\n",
       "         6.27497435e-02, 3.20529938e-03, 1.91674232e-02, 1.31007671e-01,\n",
       "         6.46483898e-02, 6.75511360e-03, 3.64941359e-02, 6.19661808e-02,\n",
       "         4.91654873e-03, 1.11222267e-02, 1.55820608e-01, 7.18617439e-03,\n",
       "         2.72521973e-02, 2.16586590e-02, 2.20723152e-02, 2.81233788e-01,\n",
       "         4.58941460e-02, 7.48825073e-03, 5.68031073e-02, 6.38847351e-02,\n",
       "         1.30152702e-03, 1.91452503e-02, 4.42841053e-02, 6.68683052e-02,\n",
       "         2.61240482e-01, 8.62956047e-03, 7.71055222e-02, 2.77690411e-01,\n",
       "         3.25646400e-02, 9.02218819e-02, 6.59496784e-02, 1.45173073e-03,\n",
       "         1.05783463e-01, 2.12478638e-03, 9.60967541e-02, 1.85027122e-02,\n",
       "         3.00333500e-02, 2.82390118e-02, 2.45496035e-02, 4.09817696e-02,\n",
       "         5.34009933e-02, 8.00132751e-04, 6.03270531e-02, 1.97768211e-04,\n",
       "         2.24595070e-02, 1.09872818e-02, 2.11365223e-02, 3.50804329e-02,\n",
       "         8.27171803e-02, 2.02131271e-03, 5.25809526e-02, 1.68688297e-02,\n",
       "         1.28534794e-01, 5.25140762e-02, 8.45885277e-03, 5.51700592e-03,\n",
       "         7.55078793e-02, 5.01127243e-02, 4.79428768e-02, 1.29305124e-01,\n",
       "         3.51231098e-02, 5.89458942e-02, 5.05659580e-02, 5.87604046e-02,\n",
       "         3.17130089e-02, 1.90345049e-02, 3.99041176e-02, 3.00934315e-02,\n",
       "         6.43301010e-02, 4.86907959e-02, 6.06164932e-02, 4.94878292e-02,\n",
       "         1.99127197e-03, 1.98796988e-02, 9.43198204e-02, 1.36157036e-01,\n",
       "         6.17852211e-02, 2.83157825e-03, 3.07784796e-01, 1.30878210e-01,\n",
       "         1.53937340e-02, 1.06303692e-01, 1.60496235e-02, 1.20496750e-02,\n",
       "         1.73231363e-02, 1.29172802e-02, 6.51340485e-02, 3.92951965e-02,\n",
       "         5.75757027e-03, 1.44424438e-02, 9.60626602e-02, 1.95550919e-03,\n",
       "         5.20033836e-02, 3.76551151e-02, 3.00667286e-02, 1.30867958e-02,\n",
       "         2.63714790e-03, 8.59050751e-02, 2.40442753e-02, 9.08887386e-02,\n",
       "         1.66896582e-02, 8.62748623e-02, 9.58132744e-03, 1.48883820e-01,\n",
       "         1.12371445e-01, 1.11953259e-01, 3.59101295e-02, 3.47373486e-02,\n",
       "         5.41360855e-01, 1.39050961e-01, 1.11064911e-02, 4.04312611e-02,\n",
       "         5.21609783e-02, 1.66943073e-02, 4.57920551e-01, 5.76667786e-02,\n",
       "         1.36446238e-01, 2.69026756e-02, 1.49265528e-01, 2.11145878e-02,\n",
       "         8.99267197e-03, 3.19538116e-02, 2.44025230e-01, 2.68869400e-02,\n",
       "         4.61816788e-04, 5.19669056e-02, 1.54280663e-02, 8.12280178e-02,\n",
       "         8.11781883e-02, 1.25532150e-01, 1.07676983e-02, 1.00037098e-01,\n",
       "         9.11719799e-02, 2.17632055e-02, 5.52701950e-02, 3.10642719e-02,\n",
       "         4.03637886e-02, 4.57549095e-02, 1.05311871e-02, 5.92784882e-02,\n",
       "         5.28924465e-02, 3.41917276e-02, 2.00657845e-02, 3.20315361e-04,\n",
       "         1.16425753e-01, 6.85071945e-02, 2.84428596e-02, 2.30620384e-01,\n",
       "         6.13956451e-02, 1.45084858e-02, 3.27260494e-02, 5.86245060e-02,\n",
       "         1.39796734e-02, 7.58910179e-03, 2.24241018e-02, 6.29372597e-02,\n",
       "         1.14726067e-01, 1.43620968e-01, 3.02557945e-02, 1.89018250e-03,\n",
       "         6.15973473e-02, 7.67078400e-02, 8.23140144e-04, 6.91983700e-02,\n",
       "         5.06606102e-02, 3.80369663e-01, 5.16099930e-02, 4.93297577e-02,\n",
       "         9.02438164e-02, 3.40318680e-03, 1.34565830e-02, 6.27691746e-02,\n",
       "         1.42724514e-01, 3.78022194e-02, 6.79202080e-02, 9.36269760e-03,\n",
       "         7.29417801e-03, 1.92732573e-01, 1.27956390e-01, 2.15492249e-02,\n",
       "         1.61908388e-01, 1.95813179e-02, 3.75925303e-02, 6.15406036e-02,\n",
       "         6.17194176e-03, 9.03813839e-02, 3.71484756e-02, 6.36181831e-02,\n",
       "         1.11795902e-01, 7.56659508e-02, 8.70721340e-02, 2.25543976e-04,\n",
       "         5.18096685e-02, 4.99234200e-02, 8.63885880e-02, 1.36599541e-01,\n",
       "         1.87070370e-02, 5.19018173e-02, 1.75640583e-02, 6.57148361e-02,\n",
       "         3.42044830e-02, 3.06272507e-02, 7.21621513e-03, 3.16088200e-02,\n",
       "         8.17029476e-02, 5.60989380e-02, 5.42640686e-04, 3.31511497e-02,\n",
       "         1.02045774e-01, 5.26688099e-02, 8.07259083e-02, 3.10316086e-02,\n",
       "         2.29222775e-02, 3.81244421e-02, 4.38334942e-02, 9.20264721e-02,\n",
       "         1.42444134e-01, 4.57656384e-02, 1.51400566e-01, 5.96890450e-02,\n",
       "         1.37462616e-02, 7.10177422e-02, 1.97802782e-02, 6.94184303e-02,\n",
       "         2.97741890e-02, 2.06032276e-01, 2.35934973e-01, 4.45088148e-02,\n",
       "         3.37505341e-03, 8.09662342e-02, 4.98129129e-02, 8.38353634e-02,\n",
       "         1.21826649e-01, 3.10144424e-02, 2.53000259e-02, 6.67235851e-02,\n",
       "         4.94265556e-03, 1.16209984e-01, 6.24413490e-02, 1.52809143e-01,\n",
       "         5.60834408e-02, 1.20170116e-02, 1.72266960e-02, 2.27755308e-02,\n",
       "         2.19309330e-02, 5.70349693e-02, 1.62637234e-03, 2.35419273e-02,\n",
       "         7.36031532e-02, 3.01980972e-03, 4.92267609e-02, 1.37598515e-02,\n",
       "         1.14824772e-02, 2.41243839e-02, 1.81832314e-02, 3.36647034e-04,\n",
       "         1.76502466e-02, 6.52260780e-02, 1.26440287e+00, 7.59131908e-02,\n",
       "         7.10439682e-03, 7.23950863e-02, 6.56950474e-02, 1.44330263e-02,\n",
       "         4.44560051e-02, 5.35643578e-01, 4.34947014e-02, 7.43315220e-02,\n",
       "         6.15749359e-02, 2.59738445e-01, 6.73818588e-02, 1.52823925e-02,\n",
       "         3.49142551e-01, 2.70556211e-02, 1.09305382e-01, 1.12693310e-02,\n",
       "         6.05645180e-02, 4.19825315e-02, 6.14571571e-02, 5.20431995e-02,\n",
       "         9.47055817e-02, 3.92541885e-02, 1.32832527e-02, 8.76843929e-02,\n",
       "         1.68054581e-01, 6.85203075e-03, 3.01718712e-04, 6.55663013e-02,\n",
       "         2.15063095e-01, 1.62076950e-02, 5.88359833e-02, 8.74564648e-02,\n",
       "         3.87096405e-03, 5.03332615e-02, 2.54588127e-02, 1.33796930e-02,\n",
       "         4.57115173e-02, 3.20079327e-02, 2.69651413e-03, 6.77332878e-02,\n",
       "         3.87377739e-02, 1.67503357e-02, 2.81943083e-02, 7.67738819e-02,\n",
       "         5.49809933e-02, 1.12434626e-01, 7.45353699e-02, 2.90272236e-02,\n",
       "         1.16348267e-04, 4.44136858e-02, 2.38521099e-02, 1.95670128e-02,\n",
       "         3.45911980e-02, 6.96232319e-02, 3.97715569e-02, 6.72473907e-02,\n",
       "         6.91530704e-02, 3.82223129e-02, 3.92320156e-02, 8.09788704e-04,\n",
       "         3.99997234e-02, 7.19778538e-02, 6.59036636e-02, 5.61125278e-02,\n",
       "         1.02389812e-01, 2.86036730e-02, 5.69729805e-02, 5.91199398e-02,\n",
       "         9.61606503e-02, 1.34800434e-01, 2.87680626e-02, 4.17582989e-02,\n",
       "         3.38749886e-02, 8.46934319e-03, 8.32009315e-03, 1.71769857e-02,\n",
       "         1.78752899e-01, 1.24304295e-02, 1.50647163e-02, 6.01449013e-02,\n",
       "         1.34049416e-01, 1.18493795e-01, 1.07964277e-02, 1.52574778e-01,\n",
       "         1.39539242e-02, 3.52392197e-02, 2.48529911e-02, 6.14757538e-02,\n",
       "         6.41188622e-02, 5.99634647e-03, 1.17027283e-01, 5.94317913e-02,\n",
       "         6.58113956e-02, 3.83853912e-03, 4.36048508e-02, 2.30904102e-01,\n",
       "         1.38577223e-02, 8.97524357e-02, 5.21206856e-03, 8.83197784e-03,\n",
       "         1.32090569e-01, 8.86564255e-02, 1.88280344e-01, 2.60171890e-02,\n",
       "         5.08179665e-02, 5.49297333e-02, 4.33397293e-03, 3.02100182e-02,\n",
       "         3.12608480e-02, 3.64136696e-03, 8.16297531e-03, 3.53143215e-02,\n",
       "         4.75957394e-02, 2.90664434e-02, 1.86694384e-01, 3.63295078e-02,\n",
       "         7.10377693e-02, 2.56333351e-02, 6.35535717e-02, 1.63660049e-02,\n",
       "         2.11822987e-02, 6.22582436e-03, 3.45585346e-02, 2.73449421e-02,\n",
       "         4.92379665e-02, 5.76052666e-02, 6.03878498e-02, 3.40938568e-04,\n",
       "         9.13920403e-02, 4.58490849e-02, 1.05862379e-01, 4.38094139e-03,\n",
       "         1.44065619e-02, 1.21420383e-01, 5.68289757e-02, 1.12687826e-01,\n",
       "         1.99162960e-02, 7.50899315e-03, 1.81219578e-02, 1.15202427e-01,\n",
       "         6.40568733e-02, 2.67527103e-02, 3.57576609e-02, 1.05841398e-01,\n",
       "         3.91634703e-02, 1.77902222e-01, 6.40206337e-02, 1.75232887e-02,\n",
       "         4.95414734e-02, 1.17368698e-02, 2.21481323e-02, 9.39190388e-03,\n",
       "         8.30299854e-02, 7.44175911e-03, 2.00265646e-02, 1.06962919e-01,\n",
       "         5.89857101e-02, 9.80949402e-03, 3.11732292e-02, 8.28409195e-02,\n",
       "         1.27219200e-01, 1.36160135e-01, 1.04003906e-01, 5.68749905e-02,\n",
       "         3.52201462e-02, 5.27997017e-02, 3.17422152e-02, 5.71670532e-02,\n",
       "         8.58271122e-03, 2.10454464e-02, 9.92257595e-02, 1.65912151e-01,\n",
       "         2.40232944e-02, 2.31051445e-02, 2.76023149e-02, 1.02233410e-01,\n",
       "         5.25289774e-02, 1.12396717e-01, 6.54301643e-02, 1.16758585e-01,\n",
       "         1.96681738e-01, 2.93809175e-02, 3.24685574e-02, 3.25360298e-02,\n",
       "         5.48620224e-02, 5.23834229e-02, 2.87744999e-02, 1.83969736e-02,\n",
       "         1.28836155e-01, 4.37469482e-02, 4.73504066e-02, 9.41767693e-02,\n",
       "         5.26976585e-03, 3.18398476e-02, 1.57890558e-01, 1.44293785e-01,\n",
       "         5.61881065e-03, 2.39467621e-03, 3.47423553e-03, 5.18283844e-02,\n",
       "         1.11402988e-01, 3.32205296e-02, 5.89659214e-02, 3.56070995e-02,\n",
       "         2.19654799e-01, 2.25499630e-01, 5.80744743e-02, 7.43548870e-02,\n",
       "         3.27658653e-02, 1.73384666e-01, 1.21747255e-01, 6.12044334e-02,\n",
       "         4.95517254e-02, 2.95120716e-01, 6.48593903e-03, 2.35905647e-02,\n",
       "         3.35913897e-02, 4.83840704e-02, 2.61681557e-01, 4.99217510e-02,\n",
       "         7.66620636e-02, 1.36368275e-02, 7.28521347e-02, 2.88897753e-02,\n",
       "         6.03873730e-02, 1.31280422e-02, 9.10325050e-02, 1.24657154e-02,\n",
       "         8.69512558e-03, 1.65230513e-01, 3.87072563e-03, 5.52129745e-03,\n",
       "         1.82064056e-01, 1.34634972e-02, 8.99991989e-02, 1.71825886e-01,\n",
       "         9.84883308e-03, 1.03186369e-02, 6.00552559e-03, 2.75004864e-01,\n",
       "         4.40999269e-02, 8.25254917e-02, 1.54905319e-02, 3.18682194e-02,\n",
       "         2.01487064e-01, 4.47189808e-03, 1.36772871e-01, 8.52239132e-02,\n",
       "         6.81877136e-04, 1.93616152e-02, 5.77116013e-03, 8.02016258e-03,\n",
       "         2.65598297e-04, 2.95124054e-02, 8.00414085e-02, 9.32197571e-02,\n",
       "         3.10838223e-03, 5.71733713e-02, 6.38251305e-02, 1.66293383e-02,\n",
       "         9.36090946e-02, 3.23259830e-02, 9.85097885e-03, 1.05866432e-01,\n",
       "         6.46233559e-03, 1.17717743e-01, 6.12187386e-02, 1.88112259e-04,\n",
       "         1.80994034e-01, 3.67047787e-02, 4.63104248e-03, 9.34581757e-02,\n",
       "         6.69407845e-03, 6.68017864e-02, 6.07252121e-03, 3.64037752e-02,\n",
       "         2.82335281e-03, 1.74729347e-01, 8.70409012e-02, 2.49571800e-02,\n",
       "         2.56659985e-02, 6.41095638e-02, 1.07239246e-01, 7.41028786e-03,\n",
       "         4.99320030e-02, 1.61623955e-03, 4.96091843e-02, 6.58321381e-02,\n",
       "         3.61337662e-02, 2.33939886e-02, 1.05206966e-02, 4.46908474e-02,\n",
       "         1.04424715e-01, 8.03866386e-02, 8.54330063e-02, 9.62066650e-03,\n",
       "         9.01241302e-02, 5.68447113e-02, 7.20102787e-02, 7.57334232e-02,\n",
       "         2.16017246e-01, 1.85587406e-02, 2.23636627e-03, 7.25007057e-03,\n",
       "         1.04585886e-02, 1.81632042e-02, 9.38334465e-02, 7.26888180e-02,\n",
       "         4.53610420e-02, 1.53598309e-01, 2.51176357e-02, 4.10838127e-02,\n",
       "         1.53090477e-01, 2.39324570e-02, 1.49385452e-01, 1.71384811e-02,\n",
       "         6.90081120e-02, 1.40168667e-02, 6.34171963e-02, 6.65116310e-02,\n",
       "         1.83815718e-01, 8.88669491e-03, 1.97110415e-01, 3.21649313e-02,\n",
       "         1.99653864e-01, 1.07467175e-02, 1.31061316e-01, 6.53473139e-02,\n",
       "         8.35714340e-02, 7.60173798e-03, 9.76679325e-02, 1.25631809e-01,\n",
       "         5.64191341e-02, 8.05569887e-02, 2.61778831e-02, 5.38656712e-02,\n",
       "         2.14514732e-02, 1.27460957e-02, 4.72874641e-02, 6.78124428e-02,\n",
       "         7.08103180e-02, 7.29990005e-03, 6.94167614e-03, 2.69410610e-02,\n",
       "         4.97536659e-02, 9.03587341e-02, 9.62560177e-02, 2.40730286e-01,\n",
       "         1.59439564e-01, 1.17187500e-02, 5.59110641e-02, 2.71365643e-02,\n",
       "         1.94613934e-02, 4.37450409e-02, 5.45852184e-02, 1.85923576e-01,\n",
       "         3.33740711e-02, 1.07425928e-01, 8.41996670e-02, 1.40011311e-02,\n",
       "         7.85753727e-02, 6.74302578e-02, 3.12154293e-02, 4.81097698e-02,\n",
       "         2.32007504e-01, 1.95679188e-01, 4.09753323e-02, 7.51852989e-03,\n",
       "         4.37374115e-02, 1.00242615e-01, 1.01136684e-01, 1.35936737e-02],\n",
       "        dtype=float32)],\n",
       " [0.06470601])"
      ]
     },
     "execution_count": 64,
     "metadata": {},
     "output_type": "execute_result"
    }
   ],
   "source": [
    "log_lik_diff, mean_diff"
   ]
  },
  {
   "cell_type": "code",
   "execution_count": null,
   "metadata": {},
   "outputs": [],
   "source": []
  },
  {
   "cell_type": "code",
   "execution_count": null,
   "metadata": {},
   "outputs": [],
   "source": []
  }
 ],
 "metadata": {
  "kernelspec": {
   "display_name": "Python 3",
   "language": "python",
   "name": "python3"
  },
  "language_info": {
   "codemirror_mode": {
    "name": "ipython",
    "version": 3
   },
   "file_extension": ".py",
   "mimetype": "text/x-python",
   "name": "python",
   "nbconvert_exporter": "python",
   "pygments_lexer": "ipython3",
   "version": "3.7.9"
  }
 },
 "nbformat": 4,
 "nbformat_minor": 4
}
