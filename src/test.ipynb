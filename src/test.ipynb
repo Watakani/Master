{
 "cells": [
  {
   "cell_type": "code",
   "execution_count": 1,
   "metadata": {},
   "outputs": [],
   "source": [
    "%load_ext autoreload\n",
    "%autoreload 2"
   ]
  },
  {
   "cell_type": "code",
   "execution_count": 2,
   "metadata": {},
   "outputs": [],
   "source": [
    "import torch\n",
    "import torch.nn as nn\n",
    "import numpy as np\n",
    "\n",
    "from made import MADE"
   ]
  },
  {
   "cell_type": "code",
   "execution_count": 3,
   "metadata": {},
   "outputs": [],
   "source": [
    "import matplotlib.pyplot as plt"
   ]
  },
  {
   "cell_type": "code",
   "execution_count": 4,
   "metadata": {},
   "outputs": [],
   "source": [
    "from data.toydata import ToyDataset"
   ]
  },
  {
   "cell_type": "code",
   "execution_count": 5,
   "metadata": {},
   "outputs": [],
   "source": [
    "from flows import create_iaf\n",
    "from flows import create_maf\n",
    "from flows import create_paf\n",
    "from flows import create_realnvp\n",
    "from flows import create_flows"
   ]
  },
  {
   "cell_type": "code",
   "execution_count": 6,
   "metadata": {},
   "outputs": [],
   "source": [
    "from train import train_forward\n",
    "from scores import log_likelihood\n",
    "from scores import difference_loglik"
   ]
  },
  {
   "cell_type": "code",
   "execution_count": 7,
   "metadata": {},
   "outputs": [],
   "source": [
    "from structure.ar import AR\n",
    "from structure.iar import IAR\n",
    "from structure.twoblock import TwoBlock\n",
    "\n",
    "from transforms.affine import Affine\n",
    "from transforms.piecewise import PiecewiseAffine"
   ]
  },
  {
   "cell_type": "code",
   "execution_count": 8,
   "metadata": {},
   "outputs": [],
   "source": [
    "dim_input = 2\n",
    "dim_hidden = [10,10,10]\n",
    "num_trans = 8\n",
    "perm_type = 'alternate'"
   ]
  },
  {
   "cell_type": "code",
   "execution_count": 9,
   "metadata": {},
   "outputs": [],
   "source": [
    "dataset = ToyDataset()"
   ]
  },
  {
   "cell_type": "code",
   "execution_count": 10,
   "metadata": {},
   "outputs": [],
   "source": [
    "transformations = [Affine, Affine, PiecewiseAffine, PiecewiseAffine, Affine, Affine, PiecewiseAffine, PiecewiseAffine]\n",
    "structures = IAR"
   ]
  },
  {
   "cell_type": "code",
   "execution_count": 11,
   "metadata": {},
   "outputs": [],
   "source": [
    "#flow = create_iaf(dim_input, dim_hidden, num_trans, perm_type)\n",
    "#flow = create_maf(dim_input, dim_hidden, num_trans, perm_type)\n",
    "#flow = create_paf(dim_input, dim_hidden, num_trans, perm_type)\n",
    "#flow = create_realnvp(dim_input, dim_hidden, num_trans, perm_type)\n",
    "flow = create_flows(dim_input, dim_hidden, num_trans, perm_type, structure=structures, transformation=transformations)"
   ]
  },
  {
   "cell_type": "code",
   "execution_count": 12,
   "metadata": {},
   "outputs": [],
   "source": [
    "optimizer = torch.optim.AdamW(flow.parameters(), lr=1e-3)"
   ]
  },
  {
   "cell_type": "code",
   "execution_count": 13,
   "metadata": {},
   "outputs": [],
   "source": [
    "base_distr = flow.get_base_distr()"
   ]
  },
  {
   "cell_type": "code",
   "execution_count": 15,
   "metadata": {},
   "outputs": [
    {
     "name": "stdout",
     "output_type": "stream",
     "text": [
      "     2.32807\n"
     ]
    }
   ],
   "source": [
    "loss = train_forward(flow, base_distr, dataset.get_training_data(), optimizer, epochs=200, batch_size=16,print_n=10)"
   ]
  },
  {
   "cell_type": "code",
   "execution_count": 16,
   "metadata": {},
   "outputs": [
    {
     "data": {
      "text/plain": [
       "[<matplotlib.lines.Line2D at 0x7fe0abf5f3d0>]"
      ]
     },
     "execution_count": 16,
     "metadata": {},
     "output_type": "execute_result"
    },
    {
     "data": {
      "image/png": "[encoded data removed]",
      "text/plain": [
       "<Figure size 432x288 with 2 Axes>"
      ]
     },
     "metadata": {
      "needs_background": "light"
     },
     "output_type": "display_data"
    }
   ],
   "source": [
    "plt.subplot(1,2,1)\n",
    "plt.plot(loss)\n",
    "\n",
    "plt.subplot(1,2,2)\n",
    "plt.plot(loss[20:])"
   ]
  },
  {
   "cell_type": "code",
   "execution_count": 17,
   "metadata": {},
   "outputs": [],
   "source": [
    "train_data = dataset.get_training_data()"
   ]
  },
  {
   "cell_type": "code",
   "execution_count": 18,
   "metadata": {},
   "outputs": [],
   "source": [
    "with torch.no_grad():\n",
    "    sample, log_prob = flow.sample(800)\n",
    "    sample_last = sample[-1].detach().cpu().numpy()"
   ]
  },
  {
   "cell_type": "raw",
   "metadata": {
    "jupyter": {
     "outputs_hidden": true
    }
   },
   "source": [
    "sample_0 = sample[0].detach().cpu().numpy()\n",
    "plt.scatter(sample_0[:,0], sample_0[:,1])\n",
    "\n",
    "sample_1 = sample[1].detach().cpu().numpy()\n",
    "plt.scatter(sample_1[:,0], sample_1[:,1])\n",
    "\n",
    "sample_2 = sample[2].detach().cpu().numpy()\n",
    "plt.scatter(sample_2[:,0], sample_2[:,1])\n",
    "\n",
    "sample_3 = sample[3].detach().cpu().numpy()\n",
    "plt.scatter(sample_3[:,0], sample_3[:,1])"
   ]
  },
  {
   "cell_type": "code",
   "execution_count": 20,
   "metadata": {},
   "outputs": [
    {
     "data": {
      "text/plain": [
       "<matplotlib.collections.PathCollection at 0x7fe0ac1670d0>"
      ]
     },
     "execution_count": 20,
     "metadata": {},
     "output_type": "execute_result"
    },
    {
     "data": {
      "image/png": "[encoded data removed]",
      "text/plain": [
       "<Figure size 432x288 with 2 Axes>"
      ]
     },
     "metadata": {
      "needs_background": "light"
     },
     "output_type": "display_data"
    }
   ],
   "source": [
    "#xlims = (np.min(sample_last[:,0], train_data[:,0]), np.max(sample_last[:,0], train_data[:,0]))\n",
    "\n",
    "plt.subplot(1,2,1)\n",
    "plt.scatter(sample_last[:,0], sample_last[:,1])\n",
    "#plt.xlim(-1,9)\n",
    "#plt.ylim(-1,9)\n",
    "\n",
    "plt.subplot(1,2,2)\n",
    "plt.scatter(train_data[:,0], train_data[:,1])\n",
    "#plt.xlim(-1,9)\n",
    "#plt.ylim(-1,9)"
   ]
  },
  {
   "cell_type": "code",
   "execution_count": 21,
   "metadata": {},
   "outputs": [
    {
     "data": {
      "text/plain": [
       "tensor(0.3279)"
      ]
     },
     "execution_count": 21,
     "metadata": {},
     "output_type": "execute_result"
    }
   ],
   "source": [
    "log_prob_target = dataset.evaluate(sample[-1])\n",
    "torch.mean(torch.abs(log_prob_target - log_prob))"
   ]
  },
  {
   "cell_type": "code",
   "execution_count": 22,
   "metadata": {},
   "outputs": [],
   "source": [
    "with torch.no_grad():\n",
    "    z_train, log_prob_train = flow.evaluate(train_data)"
   ]
  },
  {
   "cell_type": "code",
   "execution_count": 23,
   "metadata": {},
   "outputs": [],
   "source": [
    "log_prob_train_target = dataset.evaluate(train_data)"
   ]
  },
  {
   "cell_type": "code",
   "execution_count": 24,
   "metadata": {},
   "outputs": [
    {
     "data": {
      "text/plain": [
       "tensor(0.1411)"
      ]
     },
     "execution_count": 24,
     "metadata": {},
     "output_type": "execute_result"
    }
   ],
   "source": [
    "torch.mean(torch.abs(log_prob_train_target-log_prob_train))"
   ]
  },
  {
   "cell_type": "code",
   "execution_count": 25,
   "metadata": {},
   "outputs": [
    {
     "data": {
      "text/plain": [
       "(tensor(-2.3065), tensor(-2.3199))"
      ]
     },
     "execution_count": 25,
     "metadata": {},
     "output_type": "execute_result"
    }
   ],
   "source": [
    "torch.mean(log_prob_train), torch.mean(log_prob_train_target)"
   ]
  },
  {
   "cell_type": "code",
   "execution_count": 26,
   "metadata": {},
   "outputs": [],
   "source": [
    "test_data = dataset.get_test_data()"
   ]
  },
  {
   "cell_type": "code",
   "execution_count": 27,
   "metadata": {},
   "outputs": [],
   "source": [
    "with torch.no_grad():\n",
    "    z_train, log_prob_test = flow.evaluate(test_data)"
   ]
  },
  {
   "cell_type": "code",
   "execution_count": 28,
   "metadata": {},
   "outputs": [],
   "source": [
    "log_prob_test_target = dataset.evaluate(test_data)"
   ]
  },
  {
   "cell_type": "code",
   "execution_count": 29,
   "metadata": {},
   "outputs": [
    {
     "data": {
      "text/plain": [
       "tensor(0.1466)"
      ]
     },
     "execution_count": 29,
     "metadata": {},
     "output_type": "execute_result"
    }
   ],
   "source": [
    "torch.mean(torch.abs(log_prob_test_target-log_prob_test))"
   ]
  },
  {
   "cell_type": "code",
   "execution_count": 30,
   "metadata": {},
   "outputs": [
    {
     "data": {
      "text/plain": [
       "(tensor(-2.3726), tensor(-2.3536))"
      ]
     },
     "execution_count": 30,
     "metadata": {},
     "output_type": "execute_result"
    }
   ],
   "source": [
    "torch.mean(log_prob_test), torch.mean(log_prob_test_target)"
   ]
  },
  {
   "cell_type": "code",
   "execution_count": 31,
   "metadata": {},
   "outputs": [],
   "source": [
    "log_lik, mean = log_likelihood(train_data, flow)"
   ]
  },
  {
   "cell_type": "code",
   "execution_count": 32,
   "metadata": {},
   "outputs": [],
   "source": [
    "log_lik_diff, mean_diff = difference_loglik(train_data, dataset, flow)"
   ]
  },
  {
   "cell_type": "code",
   "execution_count": 33,
   "metadata": {},
   "outputs": [
    {
     "data": {
      "text/plain": [
       "([array([9.08951759e-02, 8.76883984e-01, 1.64170027e-01, 1.52239561e-01,\n",
       "         1.45742893e-02, 3.18956375e-03, 8.14557076e-03, 2.85224915e-02,\n",
       "         3.37977409e-02, 1.30442977e-01, 1.38920307e-01, 2.51942635e-01,\n",
       "         3.96106243e-02, 3.06208134e-02, 1.26931667e-02, 5.81073761e-03,\n",
       "         1.53660774e-02, 2.49399662e-01, 1.14476681e-01, 3.98430824e-02,\n",
       "         1.54422760e-01, 1.93402767e-02, 4.90939617e-03, 1.36116982e-01,\n",
       "         1.36224747e-01, 2.50711203e-01, 1.37756109e-01, 1.68788433e-03,\n",
       "         2.31783867e-01, 8.04684162e-01, 3.77255917e-01, 1.21406317e-01,\n",
       "         6.90796375e-02, 3.78674030e-01, 1.54779911e-01, 1.49735928e-01,\n",
       "         1.35419369e-02, 1.15914345e-02, 1.04376554e-01, 7.57102966e-02,\n",
       "         1.71780109e-01, 1.87077522e-02, 1.37126684e-01, 1.37186050e-03,\n",
       "         4.23929453e-01, 4.75192070e-03, 1.58579350e-01, 5.87985516e-02,\n",
       "         7.75504112e-03, 1.22489095e-01, 2.82895565e-02, 9.23616886e-02,\n",
       "         9.89882946e-02, 5.96978664e-02, 4.39033508e-02, 1.87718868e-01,\n",
       "         3.70161533e-02, 3.17454338e-02, 6.86063766e-02, 1.72798395e-01,\n",
       "         2.15750933e-01, 9.33206081e-02, 1.43882990e-01, 8.52286816e-02,\n",
       "         2.29096889e-01, 6.28380775e-02, 8.42058659e-02, 1.40137911e-01,\n",
       "         3.47433090e-02, 2.87408829e-02, 1.44960165e-01, 1.47099257e-01,\n",
       "         1.08048677e-01, 1.77569389e-02, 4.58219051e-02, 1.27553940e-05,\n",
       "         2.72154808e-03, 1.93372488e-01, 3.90141010e-02, 6.76426888e-02,\n",
       "         7.95342922e-02, 5.03993034e-03, 4.01026726e-01, 1.53209686e-01,\n",
       "         6.49609566e-02, 2.60393143e-01, 3.24754715e-01, 2.46155977e-01,\n",
       "         9.03085470e-01, 1.44175529e-01, 4.84249592e-02, 9.07056332e-02,\n",
       "         7.84364223e-01, 7.15255737e-04, 1.50449514e-01, 5.47401905e-02,\n",
       "         4.91921902e-02, 8.35061073e-03, 4.88865376e-01, 1.41154766e-01,\n",
       "         1.67107821e-01, 4.42914486e-01, 8.47759247e-02, 2.19321251e-03,\n",
       "         2.54437923e-02, 2.80392170e-02, 2.89845467e-02, 2.92539597e-03,\n",
       "         1.19380474e-01, 1.99559689e-01, 1.05172634e-01, 1.53434515e-01,\n",
       "         1.21593952e-01, 2.89353609e-01, 1.30167007e-02, 9.92031097e-02,\n",
       "         5.08666039e-03, 2.32545376e-01, 1.34963989e-02, 2.43367672e-01,\n",
       "         1.61359072e-01, 1.38307810e-01, 1.40836239e-01, 2.91480541e-01,\n",
       "         1.05893135e-01, 5.30884266e-02, 2.96723366e-01, 4.42504883e-03,\n",
       "         4.47487831e-03, 5.94205856e-02, 5.23226261e-02, 1.19700909e-01,\n",
       "         2.08418369e-02, 2.54366398e-02, 3.09998512e-01, 1.83079481e-01,\n",
       "         1.64130211e-01, 3.77855301e-02, 1.54627323e-01, 1.27195597e-01,\n",
       "         1.62399769e-01, 1.30386591e-01, 1.26832724e-01, 1.95431232e-01,\n",
       "         2.04805374e-01, 4.93295193e-02, 2.57289410e-02, 8.00993443e-02,\n",
       "         2.79794693e-01, 1.07386112e-02, 1.50400639e-01, 4.88648415e-02,\n",
       "         3.73482704e-02, 9.02142525e-02, 1.03999615e-01, 3.35094690e-01,\n",
       "         1.39212847e-01, 1.65032148e-01, 1.34717464e-01, 2.16910362e-01,\n",
       "         1.72727108e-02, 6.86143637e-02, 1.26980782e-01, 8.52763653e-03,\n",
       "         1.46355391e-01, 5.43352365e-02, 8.61675739e-02, 2.99949646e-01,\n",
       "         2.49342918e-02, 1.72190666e-01, 6.93473816e-02, 1.70004368e-02,\n",
       "         1.37419939e-01, 1.15551233e-01, 1.52448416e-01, 1.47643089e-02,\n",
       "         4.75400686e-02, 1.60162687e-01, 2.81989813e-01, 6.71546459e-02,\n",
       "         1.19498491e-01, 3.44558716e-01, 4.18596029e-01, 1.13441944e-02,\n",
       "         1.29178524e-01, 1.84376717e-01, 4.01186943e-03, 1.37328148e-01,\n",
       "         1.63061619e-02, 1.06018662e-01, 4.84600067e-02, 2.00929642e-02,\n",
       "         2.05059528e-01, 1.79938078e-01, 4.71596718e-01, 3.86574268e-02,\n",
       "         1.37227535e-01, 1.44625783e-01, 3.47887278e-02, 5.82337379e-03,\n",
       "         2.06535101e-01, 1.75561905e-02, 7.84676075e-02, 3.20613384e-02,\n",
       "         5.03201485e-02, 5.24437428e-02, 5.71560860e-02, 2.10261345e-02,\n",
       "         1.41097546e-01, 2.89640665e-01, 6.88099861e-03, 1.80705190e-01,\n",
       "         1.34936571e-01, 5.10773659e-02, 1.68892980e-01, 3.01577568e-01,\n",
       "         6.59432411e-02, 7.73264885e-01, 3.68289471e-01, 3.56778383e-01,\n",
       "         1.97440147e-01, 2.06938982e-02, 1.29950523e-01, 1.36221886e-01,\n",
       "         1.59618139e-01, 2.44398117e-02, 5.91683865e-01, 1.60718203e-01,\n",
       "         1.36545420e-01, 4.80175018e-04, 1.52021885e-01, 4.76682186e-02,\n",
       "         1.38894796e-01, 1.39892101e-02, 7.12966919e-03, 3.93914461e-01,\n",
       "         5.95753193e-02, 2.64700174e-01, 5.90019226e-02, 1.86692476e-01,\n",
       "         1.30264759e-01, 7.92045593e-02, 3.37196350e-01, 5.06389141e-02,\n",
       "         1.51401043e-01, 2.17133522e-01, 1.01042747e-01, 1.77421451e-01,\n",
       "         1.23635292e-01, 2.96436310e-01, 7.40261078e-02, 4.24391747e-01,\n",
       "         3.83564472e-01, 5.26652336e-02, 1.58123016e-01, 1.32418156e-01,\n",
       "         1.24926567e-02, 9.34672356e-03, 1.39269829e-02, 1.85884953e-01,\n",
       "         7.91013241e-02, 2.03875303e-01, 5.95495224e-01, 8.15050602e-02,\n",
       "         2.25584507e-02, 7.07200766e-02, 1.09233856e-01, 1.97062492e-02,\n",
       "         1.12706423e-01, 1.53525352e-01, 1.49428844e-01, 1.35111809e-03,\n",
       "         1.06419659e+00, 1.12637639e-01, 2.39645958e-01, 1.50232077e-01,\n",
       "         9.01229382e-02, 2.85933256e-01, 6.61158562e-03, 6.12978935e-02,\n",
       "         1.33335590e-01, 6.94539547e-02, 1.01281643e-01, 6.39797449e-02,\n",
       "         1.28348589e-01, 1.47005320e-01, 1.53246164e-01, 1.33962154e-01,\n",
       "         6.97064400e-02, 3.37965488e-02, 4.03335094e-01, 3.18877459e-01,\n",
       "         1.58010960e-01, 1.76398277e-01, 1.60862684e-01, 2.52409697e-01,\n",
       "         2.75405645e-02, 1.54766083e-01, 8.62259865e-02, 9.39562321e-02,\n",
       "         2.66742468e-01, 6.86442852e-02, 3.03989410e-01, 2.27663517e-01,\n",
       "         1.38733149e-01, 2.52676010e-03, 9.03313160e-02, 1.55325413e-01,\n",
       "         8.20169449e-01, 1.67735577e-01, 1.35014772e-01, 1.56174183e-01,\n",
       "         8.36658478e-03, 1.21442318e-01, 1.94432735e-01, 1.48554564e-01,\n",
       "         1.34252310e-01, 1.42782211e-01, 2.36420155e-01, 4.09321785e-02,\n",
       "         8.23473930e-02, 3.97858620e-02, 4.46255207e-02, 1.04141474e-01,\n",
       "         1.84257984e-01, 1.30710483e-01, 1.27386570e-01, 3.36394310e-02,\n",
       "         4.31444645e-02, 6.56692982e-02, 4.86016273e-03, 1.11458778e-01,\n",
       "         2.62742519e-01, 1.54318094e-01, 1.12341881e-01, 2.07836151e-01,\n",
       "         1.86948299e-01, 2.77500153e-01, 5.09130955e-02, 1.09871626e-01,\n",
       "         7.30292797e-02, 2.98401594e-01, 1.44010425e-01, 1.19179010e-01,\n",
       "         6.29127026e-03, 2.64063835e-01, 5.61585426e-02, 4.21679020e-02,\n",
       "         2.65467167e-03, 7.28743076e-02, 1.45528555e-01, 2.96592712e-01,\n",
       "         1.64758205e-01, 4.02412415e-01, 1.46641731e-01, 2.51460075e-02,\n",
       "         1.78340912e-01, 1.13348722e-01, 2.54104137e-01, 3.46810818e-02,\n",
       "         1.00300312e-01, 4.33714390e-02, 1.37691498e-02, 2.17784405e-01,\n",
       "         2.32308865e-01, 1.45679474e-01, 8.18758011e-02, 1.60811663e-01,\n",
       "         1.20569229e-01, 2.34325886e-01, 9.86998081e-02, 4.97500181e-01,\n",
       "         2.23704576e-01, 5.15110493e-02, 1.66804075e-01, 1.52921677e-01,\n",
       "         1.17623806e-02, 1.31413937e-02, 6.27372265e-02, 1.45197153e-01,\n",
       "         6.28750324e-02, 1.94747448e-02, 7.50722885e-02, 1.19861603e-01,\n",
       "         8.37813139e-01, 1.64845467e-01, 1.19654894e-01, 8.11634064e-02,\n",
       "         3.36979389e-01, 9.08799171e-02, 1.36540651e-01, 4.61297989e-01,\n",
       "         1.02355003e-01, 3.50492001e-02, 1.36171341e-01, 7.24480152e-02,\n",
       "         2.66036034e-01, 2.35888958e-02, 6.44605160e-02, 4.47170734e-02,\n",
       "         2.94880867e-02, 1.45223141e-01, 7.57255554e-02, 4.71189022e-01,\n",
       "         1.75914764e-02, 7.82086849e-02, 1.28288984e-01, 1.58662319e-01,\n",
       "         2.19025373e-01, 1.11275434e-01, 4.33480263e-01, 6.62970543e-03,\n",
       "         6.00116253e-02, 3.03058863e-01, 3.15008163e-02, 1.29316568e-01,\n",
       "         1.25525713e-01, 2.11675167e-02, 2.19915867e-01, 5.44219017e-02,\n",
       "         1.51172876e-01, 5.47361374e-03, 1.14641905e-01, 3.75866890e-03,\n",
       "         5.37097454e-03, 2.23618269e-01, 1.57585144e-02, 3.18681240e-01,\n",
       "         1.75440311e-01, 3.67503166e-02, 2.02841520e-01, 5.26189804e-04,\n",
       "         5.24997711e-03, 1.06621981e-01, 4.91387844e-01, 2.79344320e-01,\n",
       "         7.46035576e-02, 1.55714512e-01, 3.17785740e-02, 1.45919085e-01,\n",
       "         2.18694210e-01, 3.63352418e-01, 2.30346918e-02, 4.18291092e-02,\n",
       "         3.53200436e-02, 6.06548786e-03, 1.57943487e-01, 2.60691643e-02,\n",
       "         2.64872551e-01, 2.67118216e-01, 3.15185905e-01, 1.27153397e-01,\n",
       "         4.78593349e-01, 5.83529472e-02, 1.40272856e-01, 1.07209444e-01,\n",
       "         9.14068222e-02, 9.34295654e-02, 5.89389801e-02, 1.51986599e-01,\n",
       "         4.04137611e-01, 7.15827942e-03, 2.52575159e-01, 3.65654945e-01,\n",
       "         2.27450848e-01, 5.59244156e-02, 1.09877348e-01, 1.27110958e-01,\n",
       "         5.50627708e-03, 1.12552643e-02, 1.25860691e-01, 7.20930099e-03,\n",
       "         3.00004482e-02, 4.73802090e-02, 2.45933533e-02, 9.26601887e-02,\n",
       "         1.69751644e-01, 2.00138569e-01, 1.14657164e-01, 1.74300671e-02,\n",
       "         1.08698606e-01, 1.12813234e-01, 3.82125378e-03, 2.50432968e-01,\n",
       "         1.10753059e-01, 6.23738766e-02, 4.85110283e-03, 1.13923073e-01,\n",
       "         1.22191668e-01, 3.28521729e-02, 2.49984264e-01, 2.99608707e-01,\n",
       "         4.09355164e-02, 3.62412214e-01, 1.21259689e-02, 4.20190573e-01,\n",
       "         1.24120712e-02, 3.18970680e-02, 4.90069389e-03, 1.54005289e-02,\n",
       "         3.35035324e-02, 1.07034922e-01, 4.94921207e-02, 1.07401609e-01,\n",
       "         1.52251244e-01, 3.78087997e-01, 6.10446930e-03, 2.14863300e-01,\n",
       "         1.19376898e-01, 5.51462173e-04, 4.51995850e-01, 1.99375629e-01,\n",
       "         3.67641449e-03, 1.36896491e-01, 1.95136070e-02, 1.00631237e-01,\n",
       "         1.43212318e-01, 2.75006294e-02, 2.64294147e-02, 1.35722637e-01,\n",
       "         5.17117977e-02, 4.09000635e-01, 5.02545834e-02, 2.61588097e-02,\n",
       "         2.44025230e-01, 1.49447918e-02, 1.30921125e-01, 3.48669291e-02,\n",
       "         2.23322153e-01, 1.98769569e-01, 2.63508558e-01, 8.59625340e-02,\n",
       "         1.69101238e-01, 1.69131041e-01, 2.06454277e-01, 1.23553514e-01,\n",
       "         1.45869970e-01, 2.41256475e-01, 1.15437508e-02, 2.91101933e-02,\n",
       "         2.55520344e-02, 3.90940905e-02, 2.67759562e-02, 1.18426323e-01,\n",
       "         8.99651051e-02, 4.21907902e-02, 2.88105726e-01, 3.04417610e-02,\n",
       "         1.93711758e-01, 4.70516682e-02, 1.50821447e-01, 2.64363050e-01,\n",
       "         1.20705843e-01, 1.54698610e-01, 1.27178907e-01, 2.00288296e-02,\n",
       "         6.39828205e-01, 9.90505219e-02, 1.92498207e-01, 1.15065098e-01,\n",
       "         9.71555710e-02, 5.75852394e-03, 9.20350552e-02, 3.21788549e-01,\n",
       "         6.96611404e-03, 1.35751247e-01, 3.14016581e-01, 1.28236294e-01,\n",
       "         1.37171745e-01, 1.01132393e-02, 2.68905163e-01, 2.82294750e-02,\n",
       "         2.11596489e-03, 1.66077375e-01, 1.05195999e-01, 1.51654720e-01,\n",
       "         1.36586428e-01, 2.72965431e-02, 1.44039392e-01, 1.70215368e-01,\n",
       "         2.13459015e-01, 3.25064659e-02, 7.73506165e-02, 2.22032070e-02,\n",
       "         1.91810608e-01, 1.18275166e-01, 1.96926117e-01, 4.13868427e-02,\n",
       "         4.94308472e-01, 2.67935753e-01, 2.28352547e-01, 9.45067406e-03,\n",
       "         7.87433624e-01, 6.27263546e-01, 5.66217899e-02, 9.70888138e-03,\n",
       "         8.91613960e-02, 1.22735500e-01, 1.58639669e-01, 1.59959793e-02,\n",
       "         1.12061262e-01, 4.21538353e-02, 1.57351017e-01, 2.19939470e-01,\n",
       "         4.34240103e-02, 2.10117102e-02, 1.33180022e-01, 1.49888992e-02,\n",
       "         4.08723354e-02, 8.51128101e-02, 1.55924320e-01, 4.97920036e-01,\n",
       "         1.74971819e-01, 1.24938488e-01, 6.44035339e-02, 1.33600235e-01,\n",
       "         1.22853041e-01, 6.77019596e-01, 8.49797726e-02, 3.43995094e-02,\n",
       "         2.83331871e-02, 1.02382183e-01, 1.34919167e-01, 4.03606892e-02,\n",
       "         5.73606491e-02, 1.99239016e-01, 1.52996063e-01, 1.61669254e-02,\n",
       "         2.35920429e-01, 3.98381948e-01, 4.01095390e-01, 7.94479847e-02,\n",
       "         1.07526779e-04, 7.27460384e-02, 9.51409340e-03, 1.21590137e-01,\n",
       "         1.29970551e-01, 6.75368309e-03, 2.52223015e-03, 1.05878592e-01,\n",
       "         1.20873928e-01, 8.05766582e-02, 9.02128220e-03, 3.20626497e-01,\n",
       "         9.28925514e-01, 2.05098867e-01, 2.63989449e-01, 1.77742958e-01,\n",
       "         8.73517990e-03, 1.61371708e-01, 1.03605628e-01, 1.30883932e-01,\n",
       "         2.01055527e-01, 1.61765099e-01, 1.11539364e-01, 2.10747719e-01,\n",
       "         8.74496460e-01, 2.34572172e-01, 1.62426233e-01, 2.95634270e-02,\n",
       "         2.89728642e-02, 8.11958313e-03, 1.69544220e-01, 1.04440451e-01,\n",
       "         1.41535521e-01, 1.14853144e-01, 1.40105247e-01, 1.85782909e-02,\n",
       "         1.76967621e-01, 8.73064995e-03, 1.64520741e-02, 9.41846371e-02,\n",
       "         5.80496788e-02, 2.18077660e-01, 1.24721646e-01, 1.01974964e-01,\n",
       "         2.75613785e-01, 4.39218283e-01, 1.57886028e-01, 7.30099678e-02,\n",
       "         1.65847540e-01, 2.09627867e-01, 2.54807711e-01, 5.50937653e-02,\n",
       "         1.09131336e-02, 1.63581848e-01, 8.23259354e-03, 1.56338692e-01,\n",
       "         9.41332579e-02, 1.17463589e-01, 6.01458549e-03, 1.70756340e-01,\n",
       "         5.21972179e-02, 1.66657686e-01, 1.46765709e-02, 4.67808247e-02,\n",
       "         2.70172358e-01, 1.77518606e-01, 1.36707544e-01, 3.40608358e-02,\n",
       "         7.90722370e-02, 1.95909739e-01, 2.36098766e-02, 1.61293745e-02,\n",
       "         3.11536789e-02, 6.62529469e-02, 1.60827160e-01, 6.64114952e-04,\n",
       "         1.63618088e-01, 3.21860313e-02, 1.30772591e-03, 1.61574364e-01,\n",
       "         1.50097847e-01, 2.09781170e-01, 1.17999077e-01, 1.05075359e-01,\n",
       "         1.16719484e-01, 3.69122028e-01, 1.55748367e-01, 1.92458868e-01,\n",
       "         3.48962307e-01, 3.36511135e-01, 1.14505768e-01, 1.71411753e-01,\n",
       "         1.18633032e-01, 1.67628050e-01, 7.31670856e-02, 6.57925606e-02,\n",
       "         2.74145842e-01, 2.29501724e-02, 1.33096218e-01, 3.94426584e-01,\n",
       "         1.04613066e-01, 6.79244995e-02, 1.60372734e-01, 2.02767849e-01,\n",
       "         1.10012770e-01, 9.76221561e-02, 3.39231491e-02, 1.36003256e-01,\n",
       "         4.15470600e-02, 3.30193043e-02, 1.65341616e-01, 1.43351555e-01,\n",
       "         7.10835457e-02, 3.64186764e-02, 8.88261795e-02, 1.93342924e-01,\n",
       "         4.54125404e-02, 7.15644360e-02, 5.61881065e-03, 2.10486650e-01,\n",
       "         1.09527230e-01, 1.02313757e-01, 9.95438099e-02, 1.44677401e-01,\n",
       "         2.04190016e-01, 2.52795458e-01, 1.36927605e-01, 2.22828388e-02,\n",
       "         1.71403885e-02, 1.56060219e-01, 4.85730171e-02, 8.77665997e-01,\n",
       "         2.51569748e-02, 1.76986456e-01, 1.29024744e-01, 1.69371605e-01,\n",
       "         9.70015526e-02, 2.39181519e-02, 1.53097630e-01, 1.74057245e-01,\n",
       "         3.74502659e-01, 3.56635332e-01, 4.61316109e-03, 1.28386259e-01,\n",
       "         6.04971647e-02, 1.54085636e-01, 1.38137102e-01, 3.76214981e-02,\n",
       "         1.70262098e-01, 1.09444499e-01, 4.19616699e-03, 2.08836079e-01,\n",
       "         1.50965691e-01, 4.94496346e-01, 8.95078182e-02, 1.63417816e-01,\n",
       "         1.42450333e-02, 2.12595463e-02, 3.28931808e-01, 8.52093697e-02,\n",
       "         6.23631477e-02, 9.99839306e-02, 1.14440680e-01, 3.93497944e-02,\n",
       "         1.15087271e-01, 1.62771940e-01, 4.56790447e-01, 1.98096991e-01],\n",
       "        dtype=float32)],\n",
       " [0.1410542])"
      ]
     },
     "execution_count": 33,
     "metadata": {},
     "output_type": "execute_result"
    }
   ],
   "source": [
    "log_lik_diff, mean_diff"
   ]
  },
  {
   "cell_type": "code",
   "execution_count": null,
   "metadata": {},
   "outputs": [],
   "source": []
  }
 ],
 "metadata": {
  "kernelspec": {
   "display_name": "Python 3",
   "language": "python",
   "name": "python3"
  },
  "language_info": {
   "codemirror_mode": {
    "name": "ipython",
    "version": 3
   },
   "file_extension": ".py",
   "mimetype": "text/x-python",
   "name": "python",
   "nbconvert_exporter": "python",
   "pygments_lexer": "ipython3",
   "version": "3.7.9"
  }
 },
 "nbformat": 4,
 "nbformat_minor": 4
}
