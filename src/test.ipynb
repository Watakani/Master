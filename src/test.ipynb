{
 "cells": [
  {
   "cell_type": "code",
   "execution_count": 1,
   "metadata": {},
   "outputs": [],
   "source": [
    "%load_ext autoreload\n",
    "%autoreload 2"
   ]
  },
  {
   "cell_type": "code",
   "execution_count": 2,
   "metadata": {},
   "outputs": [],
   "source": [
    "import torch\n",
    "import torch.nn as nn\n",
    "import numpy as np\n",
    "import matplotlib.pyplot as plt\n",
    "\n",
    "from made import MADE\n",
    "from data.bsds300 import BSDS300\n",
    "\n",
    "from train import train_forward\n",
    "from scores import log_likelihood\n",
    "from scores import difference_loglik\n",
    "\n",
    "from utils import update_device"
   ]
  },
  {
   "cell_type": "code",
   "execution_count": 3,
   "metadata": {},
   "outputs": [],
   "source": [
    "from flows import create_iaf\n",
    "from flows import create_maf\n",
    "from flows import create_paf\n",
    "from flows import create_realnvp\n",
    "from flows import create_flows"
   ]
  },
  {
   "cell_type": "code",
   "execution_count": 4,
   "metadata": {},
   "outputs": [],
   "source": [
    "from structure.ar import AR\n",
    "from structure.iar import IAR\n",
    "from structure.twoblock import TwoBlock\n",
    "\n",
    "from transforms.affine import Affine\n",
    "from transforms.piecewise import PiecewiseAffine"
   ]
  },
  {
   "cell_type": "code",
   "execution_count": 5,
   "metadata": {},
   "outputs": [],
   "source": [
    "device = torch.device(\"cuda\") if torch.cuda.is_available() else torch.device(\"cpu\")\n",
    "device_cpu = torch.device(\"cpu\")"
   ]
  },
  {
   "cell_type": "code",
   "execution_count": null,
   "metadata": {},
   "outputs": [],
   "source": [
    "dataset = ToyDataset()"
   ]
  },
  {
   "cell_type": "code",
   "execution_count": null,
   "metadata": {},
   "outputs": [],
   "source": [
    "dim_input = 2\n",
    "dim_hidden = [10,10,10]\n",
    "num_trans = 8\n",
    "perm_type = 'alternate'"
   ]
  },
  {
   "cell_type": "code",
   "execution_count": null,
   "metadata": {},
   "outputs": [],
   "source": [
    "transformations = [Affine, Affine, PiecewiseAffine, PiecewiseAffine, Affine, Affine, PiecewiseAffine, PiecewiseAffine]\n",
    "structures = IAR"
   ]
  },
  {
   "cell_type": "code",
   "execution_count": null,
   "metadata": {},
   "outputs": [],
   "source": [
    "flow = create_iaf(dim_input, dim_hidden, num_trans, perm_type)\n",
    "#flow = create_maf(dim_input, dim_hidden, num_trans, perm_type)\n",
    "#flow = create_paf(dim_input, dim_hidden, num_trans, perm_type)\n",
    "#flow = create_realnvp(dim_input, dim_hidden, num_trans, perm_type)\n",
    "#flow = create_flows(dim_input, dim_hidden, num_trans, perm_type, structure=structures, transformation=transformations)"
   ]
  },
  {
   "cell_type": "code",
   "execution_count": null,
   "metadata": {},
   "outputs": [],
   "source": [
    "update_device(device, flow, dataset)\n",
    "\n",
    "#optimizer = torch.optim.AdamW(flow.parameters(), lr=1e-3)\n",
    "optimizer = torch.optim.SGD(flow.parameters(), lr=1e-3)\n",
    "\n",
    "loss = train_forward(flow, flow.get_base_distr(), dataset.get_training_data(), optimizer, epochs=200, batch_size=16,print_n=10)\n",
    "\n",
    "update_device(device_cpu, flow, dataset)"
   ]
  },
  {
   "cell_type": "code",
   "execution_count": null,
   "metadata": {},
   "outputs": [],
   "source": [
    "plt.subplot(1,2,1)\n",
    "plt.plot(loss)\n",
    "\n",
    "plt.subplot(1,2,2)\n",
    "plt.plot(loss[20:])"
   ]
  },
  {
   "cell_type": "code",
   "execution_count": null,
   "metadata": {},
   "outputs": [],
   "source": [
    "train_data = dataset.get_training_data()"
   ]
  },
  {
   "cell_type": "code",
   "execution_count": null,
   "metadata": {},
   "outputs": [],
   "source": [
    "with torch.no_grad():\n",
    "    sample, log_prob = flow.sample(800)\n",
    "    sample_last = sample[-1].detach().numpy()"
   ]
  },
  {
   "cell_type": "raw",
   "metadata": {
    "jupyter": {
     "outputs_hidden": true
    }
   },
   "source": [
    "sample_0 = sample[0].detach().cpu().numpy()\n",
    "plt.scatter(sample_0[:,0], sample_0[:,1])\n",
    "\n",
    "sample_1 = sample[1].detach().cpu().numpy()\n",
    "plt.scatter(sample_1[:,0], sample_1[:,1])\n",
    "\n",
    "sample_2 = sample[2].detach().cpu().numpy()\n",
    "plt.scatter(sample_2[:,0], sample_2[:,1])\n",
    "\n",
    "sample_3 = sample[3].detach().cpu().numpy()\n",
    "plt.scatter(sample_3[:,0], sample_3[:,1])"
   ]
  },
  {
   "cell_type": "code",
   "execution_count": null,
   "metadata": {},
   "outputs": [],
   "source": [
    "xlims = (min(sample_last[:,0].min(), train_data[:,0].min())), max(sample_last[:,0].max(), train_data[:,0].max())\n",
    "ylims = (min(sample_last[:,1].min(), train_data[:,1].min())), max(sample_last[:,1].max(), train_data[:,1].max())\n",
    "\n",
    "plt.subplot(1,2,1)\n",
    "plt.scatter(sample_last[:,0], sample_last[:,1])\n",
    "plt.xlim(xlims)\n",
    "plt.ylim(ylims)\n",
    "\n",
    "plt.subplot(1,2,2)\n",
    "plt.scatter(train_data[:,0].to('cpu'), train_data[:,1].to('cpu'))\n",
    "plt.xlim(xlims)\n",
    "plt.ylim(ylims)"
   ]
  },
  {
   "cell_type": "code",
   "execution_count": null,
   "metadata": {},
   "outputs": [],
   "source": [
    "log_prob_target = dataset.evaluate(sample[-1])\n",
    "torch.mean(torch.abs(log_prob_target - log_prob))"
   ]
  },
  {
   "cell_type": "code",
   "execution_count": null,
   "metadata": {},
   "outputs": [],
   "source": [
    "with torch.no_grad():\n",
    "    z_train, log_prob_train = flow.evaluate(train_data)"
   ]
  },
  {
   "cell_type": "code",
   "execution_count": null,
   "metadata": {},
   "outputs": [],
   "source": [
    "log_prob_train_target = dataset.evaluate(train_data)"
   ]
  },
  {
   "cell_type": "code",
   "execution_count": null,
   "metadata": {},
   "outputs": [],
   "source": [
    "torch.mean(torch.abs(log_prob_train_target-log_prob_train))"
   ]
  },
  {
   "cell_type": "code",
   "execution_count": null,
   "metadata": {},
   "outputs": [],
   "source": [
    "torch.mean(log_prob_train), torch.mean(log_prob_train_target)"
   ]
  },
  {
   "cell_type": "code",
   "execution_count": null,
   "metadata": {},
   "outputs": [],
   "source": [
    "test_data = dataset.get_test_data()"
   ]
  },
  {
   "cell_type": "code",
   "execution_count": null,
   "metadata": {},
   "outputs": [],
   "source": [
    "with torch.no_grad():\n",
    "    z_train, log_prob_test = flow.evaluate(test_data)"
   ]
  },
  {
   "cell_type": "code",
   "execution_count": null,
   "metadata": {},
   "outputs": [],
   "source": [
    "log_prob_test_target = dataset.evaluate(test_data)"
   ]
  },
  {
   "cell_type": "code",
   "execution_count": null,
   "metadata": {},
   "outputs": [],
   "source": [
    "torch.mean(torch.abs(log_prob_test_target-log_prob_test))"
   ]
  },
  {
   "cell_type": "code",
   "execution_count": null,
   "metadata": {},
   "outputs": [],
   "source": [
    "torch.mean(log_prob_test), torch.mean(log_prob_test_target)"
   ]
  },
  {
   "cell_type": "code",
   "execution_count": null,
   "metadata": {},
   "outputs": [],
   "source": [
    "log_lik, mean = log_likelihood(train_data, flow)"
   ]
  },
  {
   "cell_type": "code",
   "execution_count": null,
   "metadata": {},
   "outputs": [],
   "source": [
    "log_lik_diff, mean_diff = difference_loglik(train_data, dataset, flow)"
   ]
  },
  {
   "cell_type": "code",
   "execution_count": null,
   "metadata": {},
   "outputs": [],
   "source": [
    "log_lik_diff, mean_diff"
   ]
  },
  {
   "cell_type": "code",
   "execution_count": null,
   "metadata": {},
   "outputs": [],
   "source": []
  },
  {
   "cell_type": "code",
   "execution_count": 7,
   "metadata": {},
   "outputs": [],
   "source": [
    "dataset = BSDS300()"
   ]
  },
  {
   "cell_type": "code",
   "execution_count": null,
   "metadata": {},
   "outputs": [],
   "source": []
  }
 ],
 "metadata": {
  "kernelspec": {
   "display_name": "Python 3",
   "language": "python",
   "name": "python3"
  },
  "language_info": {
   "codemirror_mode": {
    "name": "ipython",
    "version": 3
   },
   "file_extension": ".py",
   "mimetype": "text/x-python",
   "name": "python",
   "nbconvert_exporter": "python",
   "pygments_lexer": "ipython3",
   "version": "3.7.9"
  }
 },
 "nbformat": 4,
 "nbformat_minor": 4
}
