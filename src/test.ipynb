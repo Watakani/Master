{
 "cells": [
  {
   "cell_type": "code",
   "execution_count": 1,
   "metadata": {},
   "outputs": [],
   "source": [
    "%load_ext autoreload\n",
    "%autoreload 2"
   ]
  },
  {
   "cell_type": "code",
   "execution_count": 2,
   "metadata": {},
   "outputs": [],
   "source": [
    "import torch\n",
    "import torch.nn as nn\n",
    "import numpy as np\n",
    "\n",
    "from made import MADE\n"
   ]
  },
  {
   "cell_type": "code",
   "execution_count": 3,
   "metadata": {},
   "outputs": [],
   "source": [
    "import matplotlib.pyplot as plt\n"
   ]
  },
  {
   "cell_type": "code",
   "execution_count": 4,
   "metadata": {},
   "outputs": [],
   "source": [
    "from data.toydata import ToyDataset\n"
   ]
  },
  {
   "cell_type": "code",
   "execution_count": 5,
   "metadata": {},
   "outputs": [],
   "source": [
    "from flows import create_iaf\n",
    "from flows import create_paf\n"
   ]
  },
  {
   "cell_type": "code",
   "execution_count": 6,
   "metadata": {},
   "outputs": [],
   "source": [
    "from train import train_forward\n"
   ]
  },
  {
   "cell_type": "code",
   "execution_count": 85,
   "metadata": {},
   "outputs": [],
   "source": [
    "dim_input = 2\n",
    "dim_hidden = [10,10,10]\n",
    "num_trans = 5\n",
    "perm_type = 'identity'\n"
   ]
  },
  {
   "cell_type": "code",
   "execution_count": 86,
   "metadata": {},
   "outputs": [],
   "source": [
    "dataset = ToyDataset()\n"
   ]
  },
  {
   "cell_type": "code",
   "execution_count": 87,
   "metadata": {},
   "outputs": [],
   "source": [
    "base = dataset.data_distr\n"
   ]
  },
  {
   "cell_type": "code",
   "execution_count": 88,
   "metadata": {},
   "outputs": [],
   "source": [
    "iaf_flow = create_iaf(dim_input, dim_hidden, num_trans, perm_type)\n"
   ]
  },
  {
   "cell_type": "code",
   "execution_count": 89,
   "metadata": {},
   "outputs": [],
   "source": [
    "base_distr = iaf_flow.get_base_distr()\n"
   ]
  },
  {
   "cell_type": "code",
   "execution_count": 90,
   "metadata": {},
   "outputs": [],
   "source": [
    "optimizer = torch.optim.Adam(iaf_flow.parameters())\n"
   ]
  },
  {
   "cell_type": "code",
   "execution_count": 92,
   "metadata": {},
   "outputs": [
    {
     "name": "stdout",
     "output_type": "stream",
     "text": [
      "tensor(4.5434, grad_fn=<AddBackward0>)\n",
      "tensor(4.6954, grad_fn=<AddBackward0>)\n",
      "tensor(4.6939, grad_fn=<AddBackward0>)\n",
      "tensor(4.8195, grad_fn=<AddBackward0>)\n",
      "tensor(4.0068, grad_fn=<AddBackward0>)\n",
      "tensor(5.0773, grad_fn=<AddBackward0>)\n",
      "tensor(4.5806, grad_fn=<AddBackward0>)\n",
      "tensor(5.2960, grad_fn=<AddBackward0>)\n",
      "tensor(4.8285, grad_fn=<AddBackward0>)\n",
      "tensor(5.6690, grad_fn=<AddBackward0>)\n",
      "tensor(4.6435, grad_fn=<AddBackward0>)\n",
      "tensor(5.1117, grad_fn=<AddBackward0>)\n",
      "tensor(4.5242, grad_fn=<AddBackward0>)\n",
      "tensor(4.9317, grad_fn=<AddBackward0>)\n",
      "tensor(4.8306, grad_fn=<AddBackward0>)\n",
      "tensor(4.2710, grad_fn=<AddBackward0>)\n",
      "tensor(5.0181, grad_fn=<AddBackward0>)\n",
      "tensor(4.6543, grad_fn=<AddBackward0>)\n",
      "tensor(3.9336, grad_fn=<AddBackward0>)\n",
      "tensor(4.2761, grad_fn=<AddBackward0>)\n"
     ]
    }
   ],
   "source": [
    "train_forward(iaf_flow, base_distr, dataset.get_training_data(), optimizer, epochs=200, print_n=10)\n"
   ]
  },
  {
   "cell_type": "code",
   "execution_count": 93,
   "metadata": {},
   "outputs": [],
   "source": [
    "test_data = dataset.get_test_data()"
   ]
  },
  {
   "cell_type": "code",
   "execution_count": 94,
   "metadata": {},
   "outputs": [
    {
     "data": {
      "text/plain": [
       "torch.Size([1, 2])"
      ]
     },
     "execution_count": 94,
     "metadata": {},
     "output_type": "execute_result"
    }
   ],
   "source": [
    "test_data[1:2,:].size()"
   ]
  },
  {
   "cell_type": "code",
   "execution_count": 95,
   "metadata": {},
   "outputs": [],
   "source": [
    "z,log_det = iaf_flow.evaluate(dataset.get_training_data())"
   ]
  },
  {
   "cell_type": "code",
   "execution_count": 96,
   "metadata": {},
   "outputs": [
    {
     "data": {
      "text/plain": [
       "tensor([4.2358e+00, 2.8012e+00, 1.0459e-01, 3.0619e-01, 2.8680e-02, 1.8671e-01,\n",
       "        1.9901e+00, 1.2870e+00, 2.1436e-01, 5.6743e-01, 3.6661e-01, 2.4906e-01,\n",
       "        1.0837e-01, 5.4322e-01, 5.7665e-01, 2.2817e+00, 5.9719e-01, 3.1826e-01,\n",
       "        3.3357e-01, 2.1547e-01, 1.0231e+00, 1.0189e-01, 1.6225e-01, 6.0467e-01,\n",
       "        1.5843e-01, 7.8160e+00, 4.6538e-02, 6.0500e-02, 3.0013e+00, 3.0784e-01,\n",
       "        9.0325e-02, 3.3121e-02, 7.4146e-02, 3.2264e-01, 1.1895e+00, 7.0299e-01,\n",
       "        8.9732e-02, 6.8961e-01, 3.4797e+00, 2.4469e-01, 4.2227e-01, 5.3253e-02,\n",
       "        1.9230e-01, 1.6894e-01, 5.7414e-01, 3.3075e-02, 9.6881e-02, 6.0020e-02,\n",
       "        7.4651e-01, 3.3628e-01, 3.1440e-02, 2.7238e-02, 1.3957e+00, 3.9081e-01,\n",
       "        2.0685e-01, 9.1602e-01, 2.9317e-01, 5.2108e-01, 1.5983e-01, 7.9295e-02,\n",
       "        9.2443e-01, 2.7837e-02, 2.6755e-01, 1.6868e+00, 3.7540e+00, 6.8091e-02,\n",
       "        6.1817e-01, 1.9741e-02, 2.9584e-02, 4.9192e+00, 1.0742e+00, 6.6446e-01,\n",
       "        1.8030e+00, 2.1372e-01, 1.3144e+00, 7.2338e-01, 7.7923e-02, 1.1706e+00,\n",
       "        3.0981e-01, 1.0359e+00, 1.3759e+00, 2.7488e-01, 1.1984e-01, 1.3115e-01,\n",
       "        3.7330e-01, 1.3551e-01, 1.9884e-01, 1.8570e-01, 1.0026e-02, 1.2375e+00,\n",
       "        2.7862e-01, 2.3043e-01, 1.3537e+00, 4.3359e-01, 9.6200e-01, 4.7690e-01,\n",
       "        8.1198e-01, 1.6568e+00, 6.9062e-01, 4.2920e-01, 3.7388e-02, 2.1201e-01,\n",
       "        2.9905e-01, 3.3616e-02, 1.0173e-02, 9.3637e-02, 7.2640e+00, 4.8118e-01,\n",
       "        1.1553e-01, 2.7966e-01, 2.3971e-01, 7.7024e-01, 1.2200e+00, 3.0086e-01,\n",
       "        5.6726e-01, 6.1441e-01, 2.2004e-02, 1.9970e-01, 8.1135e-02, 2.8515e-01,\n",
       "        5.1608e-01, 1.4430e+00, 4.3190e-01, 3.4584e+00, 8.4244e-01, 1.2861e+00,\n",
       "        2.5544e+00, 1.1896e+00, 2.1946e-01, 5.4609e-01, 8.9869e-03, 2.6866e+00,\n",
       "        5.7536e-02, 6.6124e-01, 3.7140e-01, 3.2825e-02, 2.5982e-01, 5.4829e-01,\n",
       "        2.2439e-01, 1.5684e+00, 4.8522e-01, 3.0123e-02, 3.1652e-01, 1.5564e+00,\n",
       "        2.2090e-01, 5.7556e-02, 6.9940e-01, 1.9446e-01, 8.5761e-01, 2.4616e-01,\n",
       "        1.0760e+00, 5.9312e-01, 3.2481e-01, 9.1210e-01, 7.8858e-01, 1.2851e-01,\n",
       "        1.8647e-01, 2.9535e-01, 8.9946e-01, 2.3233e-01, 3.3218e-01, 5.4795e-01,\n",
       "        1.7411e+00, 2.9221e-01, 2.1049e+00, 2.2191e-02, 7.1127e-03, 5.8298e-02,\n",
       "        1.9085e+00, 3.7871e-01, 3.3439e-01, 2.9158e-01, 6.0478e-01, 3.4969e-01,\n",
       "        6.7074e-01, 4.7848e-03, 2.8922e-02, 5.9125e-02, 2.1167e+00, 6.9302e-01,\n",
       "        1.5112e-01, 2.4847e-01, 1.4300e-01, 3.1902e-02, 1.1734e-01, 6.3183e-01,\n",
       "        2.5604e-01, 1.1382e-01, 4.3725e-01, 1.4412e-01, 2.1328e-01, 2.8146e-01,\n",
       "        4.4805e-01, 3.7860e+00, 6.5238e-02, 1.5483e-01, 9.1027e-01, 2.1492e-01,\n",
       "        8.4181e-02, 4.4039e-01, 1.4669e-01, 3.9101e-01, 8.8487e-02, 1.4958e-02,\n",
       "        3.1212e-01, 6.7351e-02, 7.6877e-01, 3.6448e-01, 1.2715e-01, 1.3775e+00,\n",
       "        5.6679e-01, 3.9320e-01, 1.1603e-01, 2.3884e-01, 9.2181e-01, 2.0096e-01,\n",
       "        1.3531e-01, 1.5461e-01, 2.1137e-02, 2.9755e-01, 9.0817e-01, 1.0041e+00,\n",
       "        1.7958e-01, 5.8632e-01, 5.5518e-01, 1.1436e+00, 1.1366e-02, 3.0164e-01,\n",
       "        2.5127e-01, 7.5280e-01, 1.4569e+00, 1.5241e-01, 1.0871e-01, 4.6421e-02,\n",
       "        4.7619e-01, 2.4175e+00, 2.8434e-01, 2.4854e+00, 3.5558e+00, 3.5813e-03,\n",
       "        4.2296e-01, 3.5856e-02, 3.3045e-01, 4.0231e+00, 5.1024e-01, 2.8464e-01,\n",
       "        2.6357e+00, 1.0639e-01, 5.0163e+00, 1.2212e+00, 3.1643e-02, 2.8637e-01,\n",
       "        3.5911e-01, 1.5058e-01, 1.2463e-01, 3.4788e-01, 3.5858e-02, 7.1273e-01,\n",
       "        1.4715e-01, 3.9247e-01, 3.6771e-01, 4.0110e-02, 9.8374e-01, 1.2502e-01,\n",
       "        3.2942e+00, 2.7645e-01, 2.6549e-01, 2.0755e-01, 9.7507e-01, 8.4817e-01,\n",
       "        3.4745e-01, 2.8253e-01, 1.3061e+00, 2.1886e-01, 1.8720e+00, 8.0157e-01,\n",
       "        6.3035e-01, 1.4946e-01, 7.7466e-01, 2.6660e-02, 3.7587e-01, 1.7924e-01,\n",
       "        1.1795e-01, 1.5283e-01, 4.2721e-02, 1.4231e-01, 4.7174e-01, 2.0135e-01,\n",
       "        2.7510e-02, 2.9990e-01, 1.1289e+00, 1.3953e-01, 9.2758e-01, 1.1445e+00,\n",
       "        6.9810e-01, 2.8802e-01, 1.7718e-01, 2.4814e-02, 1.1841e+00, 1.6714e+00,\n",
       "        8.9244e-01, 2.2999e+00, 1.9876e-01, 3.6790e+00, 7.9089e-02, 4.5409e+00,\n",
       "        1.0737e-01, 1.8947e-01, 4.0113e-01, 2.0210e-01, 1.5380e+00, 1.1734e+00,\n",
       "        1.3121e+00, 4.7807e-01, 4.0482e-02, 4.4859e-01, 8.3192e-01, 1.0939e-01,\n",
       "        2.3264e+00, 1.0856e+00, 3.9728e-03, 1.2337e+00, 1.8826e-01, 7.4418e-03,\n",
       "        1.9083e-01, 1.3644e-01, 4.2777e-01, 7.3106e-03, 5.5521e-01, 4.3277e-02,\n",
       "        1.4754e+00, 1.4531e-01, 1.0814e+00, 6.5502e-01, 4.0891e-01, 1.3716e+00,\n",
       "        9.2424e-01, 4.6492e+00, 7.2763e-01, 2.9001e-01, 4.3395e-02, 5.3520e-02,\n",
       "        1.5855e-01, 7.0646e-03, 8.6268e-02, 1.8032e-01, 4.0437e-01, 8.9560e-01,\n",
       "        6.5604e-01, 7.7176e-01, 6.5223e-01, 1.5315e-02, 5.0808e-01, 1.7442e+00,\n",
       "        3.7803e-01, 8.8838e-01, 1.5458e-01, 1.5332e-01, 6.3617e-01, 4.5679e-01,\n",
       "        4.8491e-01, 1.5088e-01, 1.0766e-01, 5.3493e-01, 2.3826e+00, 1.4322e-02,\n",
       "        2.5209e-01, 1.2385e+00, 8.0581e-01, 3.9411e-01, 4.4337e-01, 2.5342e-01,\n",
       "        2.5934e-02, 1.7565e+00, 1.4392e+00, 1.0047e-01, 1.5701e+00, 4.2077e-01,\n",
       "        1.8485e-01, 1.3100e-01, 5.1029e-01, 3.2767e-01, 2.5789e+00, 3.1404e-01,\n",
       "        9.7225e-02, 1.5936e-01, 9.6659e-02, 3.0696e-02, 4.0873e-01, 3.6009e-01,\n",
       "        3.2845e-01, 5.7025e-01, 1.3418e+00, 2.5875e-01, 2.1416e+00, 3.8657e-02,\n",
       "        9.9630e-01, 1.9368e-02, 8.4586e-02, 3.7178e-02, 1.3999e+00, 4.9586e-01,\n",
       "        2.5956e+00, 1.5962e+00, 3.9410e+00, 1.2758e+00, 3.0623e-01, 7.7534e-01,\n",
       "        8.6434e-02, 7.9241e-01, 5.1561e-02, 7.2411e-01, 1.1873e+00, 5.6691e-01,\n",
       "        1.3436e+00, 5.9710e-02, 6.2723e-01, 2.6853e-02, 1.2939e-02, 9.6820e-02,\n",
       "        4.4644e-01, 3.3867e-02, 9.1473e-01, 1.8711e+00, 2.2605e+00, 5.8820e-02,\n",
       "        2.4224e-01, 9.0609e-01, 7.6509e-04, 1.8531e-01, 4.4712e-01, 1.3450e+00,\n",
       "        3.3035e-02, 1.4230e-01, 1.3653e-01, 2.4519e-01, 9.2201e-01, 3.8705e-01,\n",
       "        2.2526e-01, 8.0235e-01, 6.3968e-01, 2.2818e-02, 1.9937e-01, 4.5620e-01,\n",
       "        2.3902e-01, 5.1011e-02, 7.4027e-02, 1.7842e+00, 2.9157e-01, 2.4949e-01,\n",
       "        3.6517e-01, 4.2835e-01, 6.1515e-01, 9.2613e-01, 4.3658e-02, 2.8395e-01,\n",
       "        3.8524e-02, 3.1298e-01, 6.8717e-01, 4.6024e-01, 1.1423e-02, 8.5510e-01,\n",
       "        2.1034e-02, 3.2123e+00, 1.3107e+00, 1.5372e-01, 6.9033e-01, 1.1348e+00,\n",
       "        1.8721e-01, 2.7381e+00, 1.0221e+00, 1.7032e+00, 6.5372e-01, 3.7801e+00,\n",
       "        9.4319e-01, 1.9434e-01, 1.6552e-02, 3.4003e-01, 9.4285e-01, 8.2510e-01,\n",
       "        7.3271e-01, 2.9199e-01, 3.3191e-01, 1.1621e-02, 1.0889e-01, 3.3785e-01,\n",
       "        3.0964e-01, 4.0848e-01, 2.2839e-01, 1.1391e+00, 2.9010e+00, 1.1100e-01,\n",
       "        8.4906e-01, 1.0707e+00, 8.6476e-02, 2.9500e-01, 1.8121e+00, 2.0817e-01,\n",
       "        4.4214e-01, 2.0426e-01, 1.6176e-02, 2.9932e-01, 4.6378e-01, 3.1914e-01,\n",
       "        9.3003e-02, 3.7402e-01, 1.3073e-01, 3.4468e-02, 2.5362e-01, 2.4400e+00,\n",
       "        1.4529e+00, 1.4805e-01, 2.8070e-02, 5.6414e-02, 1.6140e+00, 1.1633e+00,\n",
       "        1.3649e-01, 3.2037e-01, 3.1555e+00, 1.4268e-01, 8.0531e-01, 9.6625e-02,\n",
       "        7.3900e-02, 1.8524e-01, 1.1006e+00, 1.1060e+00, 4.5316e-02, 1.9174e+00,\n",
       "        1.7432e-01, 2.4472e-02, 6.2240e-01, 2.2275e+00, 1.7812e-01, 5.7659e-01,\n",
       "        5.3417e-01, 2.3847e-01, 4.0995e-01, 8.1714e-02, 4.4519e-02, 1.6466e-01,\n",
       "        2.3977e+00, 1.6289e+00, 1.9126e+00, 1.9007e-01, 2.0987e+00, 2.8805e-01,\n",
       "        3.1928e-01, 2.4475e+00, 8.5151e-04, 2.6170e-01, 4.1916e-01, 3.1028e-01,\n",
       "        8.2908e-03, 2.1524e-01, 5.4657e-03, 1.2638e-01, 6.8858e-03, 1.5478e-01,\n",
       "        9.3081e-01, 1.9893e+00, 1.3820e-02, 2.2782e-01, 3.0779e-01, 4.0642e-01,\n",
       "        3.3914e-02, 1.3179e-01, 7.5367e-01, 6.0750e-01, 6.3477e-02, 3.1670e-01,\n",
       "        2.5250e-01, 1.3561e+00, 2.4906e+00, 5.0105e+00, 3.3630e-01, 9.0130e-01,\n",
       "        1.8840e-03, 7.1381e-02, 2.4878e-01, 1.2243e-01, 2.0946e-02, 2.5327e+00,\n",
       "        2.1974e-01, 1.1347e+00, 1.2135e+00, 9.8488e-01, 3.3829e-02, 9.4645e-01,\n",
       "        3.3456e-01, 2.6553e-01, 7.3428e-01, 5.9553e-01, 4.0200e-01, 5.4738e-01,\n",
       "        1.0913e-01, 5.6914e-01, 2.7356e-01, 5.1464e+00, 8.0371e-02, 1.5166e+00,\n",
       "        2.5663e-01, 1.3337e+00, 1.0470e-01, 3.0885e-01, 9.8529e-01, 2.7086e-01,\n",
       "        9.9212e-01, 9.6016e-03, 1.5384e-02, 5.7229e-01, 3.5446e-01, 6.9393e-02,\n",
       "        6.6316e-01, 2.2361e-01, 2.3214e-01, 1.8812e+00, 4.0033e+00, 8.2043e-01,\n",
       "        8.4437e-02, 1.7778e-01, 2.7696e-01, 2.6423e-01, 3.6947e-02, 3.4076e-01,\n",
       "        4.4265e-01, 4.0802e-02, 8.9355e-01, 2.4513e-01, 1.6361e+00, 2.2050e-01,\n",
       "        8.4388e-02, 1.7140e+00, 3.8890e-01, 1.2123e+00, 6.3235e-01, 4.4104e-02,\n",
       "        4.9854e-01, 6.2590e-01, 2.7413e-02, 8.2509e-01, 3.8468e-01, 1.2904e+00,\n",
       "        1.3217e-01, 6.1183e+00, 7.3772e-01, 1.9295e-01, 2.4916e+00, 3.0319e+00,\n",
       "        1.0385e+00, 7.7921e-01, 9.4815e-01, 3.4322e-01, 3.0359e-01, 1.6448e-01,\n",
       "        5.3488e-03, 6.9932e-02, 1.9465e-01, 3.2913e-01, 9.9206e-02, 1.4795e+00,\n",
       "        1.0750e+00, 1.5848e+00, 6.6185e-01, 5.7839e-02, 5.4156e-01, 3.2713e-01,\n",
       "        5.3211e+00, 3.3789e-02, 3.3373e-01, 3.5715e-02, 2.1780e-01, 1.2807e-01,\n",
       "        4.4372e-01, 3.3082e-01, 1.7665e-01, 4.5704e-01, 6.4281e-02, 2.9240e-02,\n",
       "        1.0759e+00, 3.5218e-02, 9.8704e-01, 1.8096e-01, 2.2084e-01, 2.4382e-02,\n",
       "        1.0117e-01, 3.4301e+00, 5.4493e-01, 2.3186e-01, 5.8509e-01, 2.2877e-01,\n",
       "        4.5836e-01, 3.8603e-01, 3.9133e-01, 1.1998e+00, 4.5674e-01, 5.5611e-01,\n",
       "        1.0978e+00, 3.3148e-02, 2.5628e-01, 2.7829e+00, 4.5068e-01, 2.8896e-02,\n",
       "        1.1215e-01, 7.9700e-01, 4.4640e-02, 1.3158e-01, 8.1710e-01, 7.5613e-02,\n",
       "        3.5785e-01, 1.0277e-01, 1.9923e+00, 6.6964e-01, 1.9428e-01, 5.9485e-01,\n",
       "        7.0150e-01, 4.7447e-02, 2.3680e-01, 1.9183e+00, 5.3985e-01, 1.2331e+00,\n",
       "        3.1941e+00, 8.4918e-01, 5.3281e-01, 3.0813e+00, 5.3228e-02, 2.5492e-01,\n",
       "        9.0531e-01, 2.5023e-01, 1.6340e+00, 8.0856e-01, 4.6223e-01, 2.9545e-02,\n",
       "        4.3238e-01, 1.1827e-01, 2.0757e-01, 4.8959e-01, 1.0844e-01, 1.8211e+00,\n",
       "        1.6266e+00, 2.5624e-02, 1.5615e-01, 1.0501e-01, 3.4851e-01, 1.7672e-01,\n",
       "        2.7302e-01, 8.0149e-01, 6.5278e-01, 1.1941e+00, 1.7627e-01, 3.7040e-01,\n",
       "        5.8162e-01, 6.5656e-01, 1.2371e+00, 2.3980e+00, 9.8808e-02, 2.5572e-02,\n",
       "        2.0213e-01, 2.8453e+00, 1.9195e-02, 3.3613e-01, 2.1205e-01, 2.5843e-01,\n",
       "        1.0488e+00, 2.7540e-01, 2.0575e-01, 2.1166e-01, 6.5471e-01, 8.2224e-02,\n",
       "        8.0524e-02, 1.0505e-02, 4.5756e-01, 1.4404e+00, 1.0921e-01, 1.8134e-01,\n",
       "        2.3740e+00, 1.1334e-01, 1.3342e-01, 4.0887e-01, 1.0877e-01, 1.1531e-01,\n",
       "        3.8710e-01, 5.6192e-01, 4.6372e-01, 2.2914e-01, 4.4641e-01, 2.7642e+00,\n",
       "        1.1824e-01, 2.7964e-02, 4.1695e-01, 2.2500e-01, 6.2023e-02, 1.9952e-01,\n",
       "        1.4424e-01, 8.3571e-01, 9.5813e-01, 3.2931e+00, 2.1715e+00, 2.4697e-01,\n",
       "        4.9168e-01, 9.2648e-01], grad_fn=<AbsBackward>)"
      ]
     },
     "execution_count": 96,
     "metadata": {},
     "output_type": "execute_result"
    }
   ],
   "source": [
    "torch.abs(log_det - dataset.evaluate(dataset.get_training_data()))"
   ]
  },
  {
   "cell_type": "code",
   "execution_count": 97,
   "metadata": {},
   "outputs": [],
   "source": [
    "z,log_det = iaf_flow.evaluate(dataset.get_test_data())"
   ]
  },
  {
   "cell_type": "code",
   "execution_count": 98,
   "metadata": {},
   "outputs": [
    {
     "data": {
      "text/plain": [
       "tensor([-1.5149, -1.5171, -1.7359, -2.0207, -2.1356, -1.8504, -2.1769, -2.7919,\n",
       "        -1.4658, -2.2219, -4.7504, -1.9412, -1.6090, -3.0453, -2.2939, -1.4929,\n",
       "        -1.7156, -3.3933, -3.0508, -1.7157, -1.5311, -6.6092, -1.5508, -1.4070,\n",
       "        -1.7654, -1.5439, -3.0699, -2.6828, -3.2872, -2.5699, -3.3004, -2.4357,\n",
       "        -1.6240, -4.0140, -2.2043, -1.9927, -2.0161, -3.1101, -2.8112, -1.5048,\n",
       "        -2.4909, -3.8815, -1.9726, -2.3693, -4.1256, -2.2613, -1.9850, -1.6199,\n",
       "        -3.7882, -2.2894, -5.4773, -3.3782, -2.2416, -1.4324, -1.6473, -4.6021,\n",
       "        -1.8008, -1.7904, -4.8595, -1.7431, -2.8544, -7.1733, -1.4305, -1.4068,\n",
       "        -1.7187, -1.9848, -2.8992, -1.3324, -1.9346, -1.7453, -2.8965, -3.1196,\n",
       "        -2.4805, -1.9470, -1.5976, -1.6936, -2.7738, -1.6647, -1.4016, -3.0775,\n",
       "        -3.7930, -1.9758, -2.5652, -2.5182, -2.3677, -1.7940, -1.8495, -1.4494,\n",
       "        -2.3990, -3.3546, -2.0064, -1.3708, -9.1077, -1.6194, -2.5052, -1.3760,\n",
       "        -2.1404, -3.4373, -1.7424, -2.4959, -1.5233, -1.5541, -1.6015, -2.1632,\n",
       "        -1.9408, -2.8847, -1.8782, -1.7942, -2.8940, -2.8310, -2.4997, -3.4883,\n",
       "        -2.2841, -1.3895, -1.8832, -1.5239, -1.9457, -4.3231, -3.7720, -2.0241,\n",
       "        -2.2232, -1.8518, -2.7759, -2.8539, -2.1294, -1.5279, -1.4756, -1.6438,\n",
       "        -3.1898, -4.5972, -1.5636, -1.6301, -1.3541, -1.4669, -1.4767, -1.7261,\n",
       "        -2.5276, -1.5383, -3.7945, -1.9593, -3.1423, -1.4811, -2.8879, -1.8557,\n",
       "        -5.8654, -1.4804, -1.8995, -5.0690, -2.9863, -1.8892, -1.9296, -2.9857,\n",
       "        -1.5023, -2.0073, -1.6930, -1.7343, -1.9034, -3.9872, -5.3566, -2.4763,\n",
       "        -1.8656, -2.2115, -1.6200, -1.5717, -2.4301, -4.2374, -1.8766, -1.7071,\n",
       "        -1.5635, -5.0943, -2.3991, -1.8242, -1.4977, -2.0184, -2.2090, -2.3297,\n",
       "        -3.1096, -2.3547, -2.4396, -1.5459, -2.1946, -1.4690, -1.9023, -2.9161,\n",
       "        -1.5452, -2.8050, -1.5300, -2.5191, -3.0768, -1.4005, -6.2850, -1.5995,\n",
       "        -1.8641, -3.2551, -5.3381, -4.1165, -2.3906, -3.3287, -1.3553, -2.3962])"
      ]
     },
     "execution_count": 98,
     "metadata": {},
     "output_type": "execute_result"
    }
   ],
   "source": [
    "dataset.evaluate(dataset.get_test_data())"
   ]
  },
  {
   "cell_type": "code",
   "execution_count": 99,
   "metadata": {},
   "outputs": [
    {
     "data": {
      "text/plain": [
       "tensor([ -1.5157,  -1.3771,  -1.3766,  -1.6170,  -3.1653,  -2.9352,  -2.9137,\n",
       "         -3.3411,  -1.3773,  -2.2091,  -6.5627,  -1.4729,  -1.3852,  -5.3702,\n",
       "         -1.9282,  -1.4523,  -1.7007,  -2.5116,  -3.5962,  -2.3021,  -2.1116,\n",
       "         -7.4554,  -1.3394,  -1.6681,  -1.7766,  -1.5729,  -3.9239,  -2.6175,\n",
       "         -6.7707,  -3.6637,  -2.9981,  -2.0748,  -1.6364,  -4.8920,  -2.8187,\n",
       "         -3.2105,  -1.9606,  -3.2316,  -2.7150,  -1.3662,  -1.6206,  -3.6987,\n",
       "         -1.7468,  -2.2036,  -8.0587,  -2.2148,  -3.4038,  -1.6166,  -4.1950,\n",
       "         -1.5510,  -5.9698,  -3.0902,  -2.4103,  -1.4848,  -1.6441,  -3.3170,\n",
       "         -1.7716,  -2.2988,  -6.9526,  -2.4416,  -5.3254, -10.7142,  -1.5998,\n",
       "         -1.8319,  -1.3760,  -1.8989,  -3.6235,  -1.4211,  -2.3391,  -1.5442,\n",
       "         -2.9178,  -2.7735,  -2.5066,  -2.2329,  -2.3216,  -2.0736,  -3.7122,\n",
       "         -1.4210,  -1.3435,  -3.4095,  -3.4083,  -2.1219,  -3.1289,  -1.6161,\n",
       "         -2.5221,  -2.0222,  -1.8020,  -1.4580,  -3.3992,  -2.8560,  -1.9206,\n",
       "         -1.4086, -10.4296,  -1.8868,  -4.4970,  -1.5916,  -2.2450,  -3.4689,\n",
       "         -2.3361,  -2.8226,  -1.8297,  -2.2136,  -1.6409,  -2.0868,  -1.8878,\n",
       "         -1.8410,  -2.3653,  -1.7907,  -5.7098,  -4.5286,  -3.1081,  -3.3291,\n",
       "         -3.6126,  -1.5259,  -1.8610,  -1.7390,  -2.1599,  -3.2917,  -3.3334,\n",
       "         -1.9966,  -1.9360,  -1.8255,  -3.0468,  -2.5573,  -3.6478,  -1.4464,\n",
       "         -1.3362,  -2.4983,  -2.3402,  -6.3504,  -2.0194,  -1.4940,  -1.6316,\n",
       "         -1.3488,  -1.8383,  -2.4745,  -2.4582,  -2.0344,  -4.8426,  -2.8179,\n",
       "         -2.0933,  -1.6125,  -2.7646,  -2.4145, -14.7763,  -1.4520,  -3.1841,\n",
       "         -3.1714,  -1.9605,  -1.8682,  -2.0997,  -5.1759,  -1.4158,  -1.9563,\n",
       "         -1.6302,  -2.0572,  -2.6017,  -3.9177,  -2.7927,  -2.3350,  -1.5004,\n",
       "         -3.4695,  -1.5854,  -1.8252,  -1.6364,  -5.0813,  -3.1087,  -1.7234,\n",
       "         -2.2335,  -6.7157,  -2.1011,  -1.7318,  -1.7567,  -1.4937,  -3.1649,\n",
       "         -2.5180,  -4.9045,  -2.4454,  -4.5379,  -1.6849,  -2.2622,  -1.8319,\n",
       "         -1.5810,  -2.1788,  -2.1582,  -2.5813,  -2.1911,  -2.3566,  -3.6669,\n",
       "         -1.7374,  -4.6888,  -1.7566,  -1.9000,  -1.9091,  -6.6006,  -3.4050,\n",
       "         -2.2847,  -6.0135,  -1.5552,  -3.2654], grad_fn=<AddBackward0>)"
      ]
     },
     "execution_count": 99,
     "metadata": {},
     "output_type": "execute_result"
    }
   ],
   "source": [
    "log_det"
   ]
  },
  {
   "cell_type": "code",
   "execution_count": 100,
   "metadata": {},
   "outputs": [],
   "source": [
    "test_data = dataset.get_test_data()"
   ]
  },
  {
   "cell_type": "code",
   "execution_count": 101,
   "metadata": {},
   "outputs": [
    {
     "data": {
      "text/plain": [
       "<matplotlib.collections.PathCollection at 0x7f9eb545f650>"
      ]
     },
     "execution_count": 101,
     "metadata": {},
     "output_type": "execute_result"
    },
    {
     "data": {
      "image/png": "[encoded data removed]",
      "text/plain": [
       "<Figure size 432x288 with 1 Axes>"
      ]
     },
     "metadata": {
      "needs_background": "light"
     },
     "output_type": "display_data"
    }
   ],
   "source": [
    "plt.scatter(test_data[:, 0], test_data[:, 1])"
   ]
  },
  {
   "cell_type": "code",
   "execution_count": 102,
   "metadata": {},
   "outputs": [],
   "source": [
    "sample_data, _ = iaf_flow.sample(200)\n",
    "sample_data = sample_data[-1]\n",
    "sample_data = sample_data.detach().numpy()"
   ]
  },
  {
   "cell_type": "code",
   "execution_count": 103,
   "metadata": {},
   "outputs": [
    {
     "data": {
      "text/plain": [
       "<matplotlib.collections.PathCollection at 0x7f9eb54db190>"
      ]
     },
     "execution_count": 103,
     "metadata": {},
     "output_type": "execute_result"
    },
    {
     "data": {
      "image/png": "[encoded data removed]",
      "text/plain": [
       "<Figure size 432x288 with 1 Axes>"
      ]
     },
     "metadata": {
      "needs_background": "light"
     },
     "output_type": "display_data"
    }
   ],
   "source": [
    "plt.scatter(sample_data[:, 0], sample_data[:, 1])"
   ]
  },
  {
   "cell_type": "code",
   "execution_count": null,
   "metadata": {},
   "outputs": [],
   "source": []
  }
 ],
 "metadata": {
  "kernelspec": {
   "display_name": "Python 3",
   "language": "python",
   "name": "python3"
  },
  "language_info": {
   "codemirror_mode": {
    "name": "ipython",
    "version": 3
   },
   "file_extension": ".py",
   "mimetype": "text/x-python",
   "name": "python",
   "nbconvert_exporter": "python",
   "pygments_lexer": "ipython3",
   "version": "3.7.9"
  }
 },
 "nbformat": 4,
 "nbformat_minor": 4
}
