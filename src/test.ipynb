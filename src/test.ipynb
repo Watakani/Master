{
 "cells": [
  {
   "cell_type": "code",
   "execution_count": 1,
   "metadata": {},
   "outputs": [],
   "source": [
    "%load_ext autoreload\n",
    "%autoreload 2"
   ]
  },
  {
   "cell_type": "code",
   "execution_count": 2,
   "metadata": {},
   "outputs": [],
   "source": [
    "import torch\n",
    "import torch.nn as nn\n",
    "import numpy as np\n",
    "\n",
    "from made import MADE"
   ]
  },
  {
   "cell_type": "code",
   "execution_count": 3,
   "metadata": {},
   "outputs": [],
   "source": [
    "import matplotlib.pyplot as plt"
   ]
  },
  {
   "cell_type": "code",
   "execution_count": 4,
   "metadata": {},
   "outputs": [],
   "source": [
    "from data.toydata import ToyDataset"
   ]
  },
  {
   "cell_type": "code",
   "execution_count": 5,
   "metadata": {},
   "outputs": [],
   "source": [
    "from flows import create_iaf\n",
    "from flows import create_maf\n",
    "from flows import create_paf\n",
    "from flows import create_realnvp\n",
    "from flows import create_flows"
   ]
  },
  {
   "cell_type": "code",
   "execution_count": 6,
   "metadata": {},
   "outputs": [],
   "source": [
    "from train import train_forward\n",
    "from scores import log_likelihood\n",
    "from scores import difference_loglik"
   ]
  },
  {
   "cell_type": "code",
   "execution_count": 7,
   "metadata": {},
   "outputs": [],
   "source": [
    "from structure.ar import AR\n",
    "from structure.iar import IAR\n",
    "from structure.twoblock import TwoBlock\n",
    "\n",
    "from transforms.affine import Affine\n",
    "from transforms.piecewise import PiecewiseAffine"
   ]
  },
  {
   "cell_type": "code",
   "execution_count": 8,
   "metadata": {},
   "outputs": [],
   "source": [
    "dim_input = 2\n",
    "dim_hidden = [10,10,10]\n",
    "num_trans = 8\n",
    "perm_type = 'alternate'"
   ]
  },
  {
   "cell_type": "code",
   "execution_count": 9,
   "metadata": {},
   "outputs": [
    {
     "name": "stderr",
     "output_type": "stream",
     "text": [
      "/storage/software/PyTorch-bundle/1.7.0/lib/python3.8/site-packages/torch/cuda/__init__.py:52: UserWarning: CUDA initialization: Found no NVIDIA driver on your system. Please check that you have an NVIDIA GPU and installed a driver from http://www.nvidia.com/Download/index.aspx (Triggered internally at  /opt/conda/conda-bld/pytorch_1603729062494/work/c10/cuda/CUDAFunctions.cpp:100.)\n",
      "  return torch._C._cuda_getDeviceCount() > 0\n"
     ]
    }
   ],
   "source": [
    "dataset = ToyDataset()"
   ]
  },
  {
   "cell_type": "code",
   "execution_count": 10,
   "metadata": {},
   "outputs": [],
   "source": [
    "transformations = [Affine, Affine, PiecewiseAffine, PiecewiseAffine, Affine, Affine, PiecewiseAffine, PiecewiseAffine]\n",
    "structures = IAR"
   ]
  },
  {
   "cell_type": "code",
   "execution_count": 33,
   "metadata": {},
   "outputs": [],
   "source": [
    "#flow = create_iaf(dim_input, dim_hidden, num_trans, perm_type)\n",
    "#flow = create_maf(dim_input, dim_hidden, num_trans, perm_type)\n",
    "#flow = create_paf(dim_input, dim_hidden, num_trans, perm_type)\n",
    "#flow = create_realnvp(dim_input, dim_hidden, num_trans, perm_type)\n",
    "flow = create_flows(dim_input, dim_hidden, num_trans, perm_type, structure=structures, transformation=transformations)"
   ]
  },
  {
   "cell_type": "code",
   "execution_count": 34,
   "metadata": {
    "tags": []
   },
   "outputs": [],
   "source": [
    "device = torch.device(\"cuda\") if torch.cuda.is_available() else torch.device(\"cpu\")\n",
    "\n",
    "flow.to(device)\n",
    "None"
   ]
  },
  {
   "cell_type": "code",
   "execution_count": 35,
   "metadata": {},
   "outputs": [],
   "source": [
    "#optimizer = torch.optim.AdamW(flow.parameters(), lr=1e-3)\n",
    "optimizer = torch.optim.SGD(flow.parameters(), lr=1e-3)"
   ]
  },
  {
   "cell_type": "code",
   "execution_count": 36,
   "metadata": {},
   "outputs": [],
   "source": [
    "base_distr = flow.get_base_distr()"
   ]
  },
  {
   "cell_type": "code",
   "execution_count": 37,
   "metadata": {},
   "outputs": [
    {
     "name": "stdout",
     "output_type": "stream",
     "text": [
      "     2.37408\n"
     ]
    }
   ],
   "source": [
    "loss = train_forward(flow, base_distr, dataset.get_training_data(), optimizer, epochs=200, batch_size=16,print_n=10)"
   ]
  },
  {
   "cell_type": "code",
   "execution_count": 38,
   "metadata": {},
   "outputs": [
    {
     "data": {
      "text/plain": [
       "[<matplotlib.lines.Line2D at 0x7f05f9ce44c0>]"
      ]
     },
     "execution_count": 38,
     "metadata": {},
     "output_type": "execute_result"
    },
    {
     "data": {
      "image/png": "[encoded data removed]",
      "text/plain": [
       "<Figure size 432x288 with 2 Axes>"
      ]
     },
     "metadata": {
      "needs_background": "light"
     },
     "output_type": "display_data"
    }
   ],
   "source": [
    "plt.subplot(1,2,1)\n",
    "plt.plot(loss)\n",
    "\n",
    "plt.subplot(1,2,2)\n",
    "plt.plot(loss[20:])"
   ]
  },
  {
   "cell_type": "code",
   "execution_count": 39,
   "metadata": {},
   "outputs": [],
   "source": [
    "train_data = dataset.get_training_data()"
   ]
  },
  {
   "cell_type": "code",
   "execution_count": 40,
   "metadata": {},
   "outputs": [],
   "source": [
    "with torch.no_grad():\n",
    "    sample, log_prob = flow.sample(800)\n",
    "    sample_last = sample[-1].detach().cpu().numpy()"
   ]
  },
  {
   "cell_type": "raw",
   "metadata": {
    "jupyter": {
     "outputs_hidden": true
    }
   },
   "source": [
    "sample_0 = sample[0].detach().cpu().numpy()\n",
    "plt.scatter(sample_0[:,0], sample_0[:,1])\n",
    "\n",
    "sample_1 = sample[1].detach().cpu().numpy()\n",
    "plt.scatter(sample_1[:,0], sample_1[:,1])\n",
    "\n",
    "sample_2 = sample[2].detach().cpu().numpy()\n",
    "plt.scatter(sample_2[:,0], sample_2[:,1])\n",
    "\n",
    "sample_3 = sample[3].detach().cpu().numpy()\n",
    "plt.scatter(sample_3[:,0], sample_3[:,1])"
   ]
  },
  {
   "cell_type": "code",
   "execution_count": 41,
   "metadata": {},
   "outputs": [
    {
     "data": {
      "text/plain": [
       "<matplotlib.collections.PathCollection at 0x7f05e9947640>"
      ]
     },
     "execution_count": 41,
     "metadata": {},
     "output_type": "execute_result"
    },
    {
     "data": {
      "image/png": "[encoded data removed]",
      "text/plain": [
       "<Figure size 432x288 with 2 Axes>"
      ]
     },
     "metadata": {
      "needs_background": "light"
     },
     "output_type": "display_data"
    }
   ],
   "source": [
    "#xlims = (np.min(sample_last[:,0], train_data[:,0]), np.max(sample_last[:,0], train_data[:,0]))\n",
    "\n",
    "plt.subplot(1,2,1)\n",
    "plt.scatter(sample_last[:,0], sample_last[:,1])\n",
    "#plt.xlim(-1,9)\n",
    "#plt.ylim(-1,9)\n",
    "\n",
    "plt.subplot(1,2,2)\n",
    "plt.scatter(train_data[:,0].to('cpu'), train_data[:,1].to('cpu'))\n",
    "#plt.xlim(-1,9)\n",
    "#plt.ylim(-1,9)"
   ]
  },
  {
   "cell_type": "code",
   "execution_count": 20,
   "metadata": {},
   "outputs": [
    {
     "data": {
      "text/plain": [
       "tensor(0.2667)"
      ]
     },
     "execution_count": 20,
     "metadata": {},
     "output_type": "execute_result"
    }
   ],
   "source": [
    "log_prob_target = dataset.evaluate(sample[-1])\n",
    "torch.mean(torch.abs(log_prob_target - log_prob))"
   ]
  },
  {
   "cell_type": "code",
   "execution_count": 21,
   "metadata": {},
   "outputs": [],
   "source": [
    "with torch.no_grad():\n",
    "    z_train, log_prob_train = flow.evaluate(train_data)"
   ]
  },
  {
   "cell_type": "code",
   "execution_count": 22,
   "metadata": {},
   "outputs": [],
   "source": [
    "log_prob_train_target = dataset.evaluate(train_data)"
   ]
  },
  {
   "cell_type": "code",
   "execution_count": 23,
   "metadata": {},
   "outputs": [
    {
     "data": {
      "text/plain": [
       "tensor(0.1339)"
      ]
     },
     "execution_count": 23,
     "metadata": {},
     "output_type": "execute_result"
    }
   ],
   "source": [
    "torch.mean(torch.abs(log_prob_train_target-log_prob_train))"
   ]
  },
  {
   "cell_type": "code",
   "execution_count": 24,
   "metadata": {},
   "outputs": [
    {
     "data": {
      "text/plain": [
       "(tensor(-2.3501), tensor(-2.3620))"
      ]
     },
     "execution_count": 24,
     "metadata": {},
     "output_type": "execute_result"
    }
   ],
   "source": [
    "torch.mean(log_prob_train), torch.mean(log_prob_train_target)"
   ]
  },
  {
   "cell_type": "code",
   "execution_count": 25,
   "metadata": {},
   "outputs": [],
   "source": [
    "test_data = dataset.get_test_data()"
   ]
  },
  {
   "cell_type": "code",
   "execution_count": 26,
   "metadata": {},
   "outputs": [],
   "source": [
    "with torch.no_grad():\n",
    "    z_train, log_prob_test = flow.evaluate(test_data)"
   ]
  },
  {
   "cell_type": "code",
   "execution_count": 27,
   "metadata": {},
   "outputs": [],
   "source": [
    "log_prob_test_target = dataset.evaluate(test_data)"
   ]
  },
  {
   "cell_type": "code",
   "execution_count": 28,
   "metadata": {},
   "outputs": [
    {
     "data": {
      "text/plain": [
       "tensor(0.1367)"
      ]
     },
     "execution_count": 28,
     "metadata": {},
     "output_type": "execute_result"
    }
   ],
   "source": [
    "torch.mean(torch.abs(log_prob_test_target-log_prob_test))"
   ]
  },
  {
   "cell_type": "code",
   "execution_count": 29,
   "metadata": {},
   "outputs": [
    {
     "data": {
      "text/plain": [
       "(tensor(-2.3331), tensor(-2.2952))"
      ]
     },
     "execution_count": 29,
     "metadata": {},
     "output_type": "execute_result"
    }
   ],
   "source": [
    "torch.mean(log_prob_test), torch.mean(log_prob_test_target)"
   ]
  },
  {
   "cell_type": "code",
   "execution_count": 30,
   "metadata": {},
   "outputs": [],
   "source": [
    "log_lik, mean = log_likelihood(train_data, flow)"
   ]
  },
  {
   "cell_type": "code",
   "execution_count": 31,
   "metadata": {},
   "outputs": [],
   "source": [
    "log_lik_diff, mean_diff = difference_loglik(train_data, dataset, flow)"
   ]
  },
  {
   "cell_type": "code",
   "execution_count": 32,
   "metadata": {},
   "outputs": [
    {
     "data": {
      "text/plain": [
       "([array([1.93197727e-02, 6.81638718e-02, 1.37102604e-01, 6.51311874e-02,\n",
       "         1.41811848e-01, 2.81937122e-02, 3.38554382e-05, 1.17423296e-01,\n",
       "         2.16991663e-01, 1.63226724e-01, 5.63650131e-02, 2.69254684e-01,\n",
       "         3.07576656e-01, 1.51898384e-01, 2.53986597e-01, 1.26336098e-01,\n",
       "         1.20088577e-01, 9.36086178e-02, 1.08457327e-01, 7.41723776e-02,\n",
       "         1.44184589e-01, 1.93501711e-01, 8.37447643e-02, 1.66826010e-01,\n",
       "         6.39510155e-02, 1.33521795e-01, 6.89706802e-02, 7.40666389e-02,\n",
       "         1.22871399e-01, 1.44305468e-01, 9.83502865e-02, 1.10455275e-01,\n",
       "         5.86650372e-02, 1.51747704e-01, 7.03356266e-02, 1.16959572e-01,\n",
       "         2.52813101e-01, 7.85374641e-02, 4.65154648e-03, 3.73702049e-02,\n",
       "         5.49738884e-01, 1.02028847e-02, 1.11760139e-01, 2.98669100e-01,\n",
       "         2.19763279e-01, 1.64870262e-01, 7.84955025e-02, 4.06521320e-01,\n",
       "         6.60061836e-02, 7.70874023e-02, 5.58245182e-03, 7.40921497e-02,\n",
       "         7.86788464e-02, 3.34315300e-02, 2.67458677e-01, 7.66210556e-02,\n",
       "         9.85023975e-02, 1.33118153e-01, 1.26925588e-01, 9.19284821e-02,\n",
       "         7.32874870e-01, 2.53950357e-01, 3.35505009e-02, 1.40218735e-01,\n",
       "         4.92918491e-02, 2.90048122e-02, 1.37403011e-01, 1.77032232e-01,\n",
       "         2.55284786e-01, 1.19125128e-01, 3.67269516e-02, 2.80019999e-01,\n",
       "         6.35993481e-02, 1.29131556e-01, 1.41735792e-01, 1.30053520e-01,\n",
       "         5.04776239e-02, 2.25679636e-01, 1.67882442e-01, 1.17041111e-01,\n",
       "         8.63718987e-03, 2.23753929e-01, 1.28403664e-01, 1.32052183e-01,\n",
       "         8.92076492e-02, 1.48238182e-01, 4.24786091e-01, 1.22196198e-01,\n",
       "         1.46647573e-01, 6.29527569e-02, 1.60958290e-01, 1.46856308e-02,\n",
       "         1.50008678e-01, 8.39055538e-01, 2.53865004e-01, 1.25503540e-02,\n",
       "         2.24267244e-01, 1.54711843e-01, 2.19307423e-01, 3.07600498e-02,\n",
       "         5.82547188e-02, 5.58335781e-02, 6.16128445e-02, 1.46677971e-01,\n",
       "         1.48528099e-01, 9.65602398e-02, 7.35354424e-03, 2.24213600e-01,\n",
       "         2.18719482e-01, 1.21866894e+00, 1.35818481e-01, 1.93746090e-02,\n",
       "         6.50839806e-02, 2.87230253e-01, 2.40336895e-01, 5.01604080e-02,\n",
       "         1.57963037e-01, 2.40440369e-02, 9.10105705e-02, 1.78093910e-02,\n",
       "         5.36189079e-02, 7.57451057e-02, 1.78045392e-01, 1.54207945e-01,\n",
       "         3.27986956e-01, 1.64219499e-01, 1.24112606e-01, 6.40819073e-02,\n",
       "         1.59075260e-01, 9.12761688e-03, 5.74243069e-02, 1.51836991e-01,\n",
       "         2.01609135e-02, 2.07126379e-01, 2.24373102e-01, 1.29556656e-02,\n",
       "         5.26428223e-02, 1.59778595e-02, 1.89323425e-02, 1.37369394e-01,\n",
       "         1.27565622e-01, 2.06501722e-01, 6.86722994e-02, 1.39715672e-02,\n",
       "         9.35912132e-02, 4.28916216e-02, 1.07641697e-01, 1.33922577e-01,\n",
       "         2.48502493e-02, 1.41181231e-01, 1.85723305e-01, 2.22979784e-01,\n",
       "         1.45491600e-01, 5.02955914e-02, 8.21471214e-02, 1.95820332e-02,\n",
       "         5.29613495e-02, 4.07054663e-01, 9.37511921e-02, 1.96174145e-01,\n",
       "         1.20357275e-01, 2.16115713e-01, 2.78160572e-02, 1.73659563e-01,\n",
       "         1.68298244e-01, 3.51676941e-02, 7.70118237e-02, 3.76164913e-02,\n",
       "         2.10986137e-02, 6.00562096e-02, 7.05473423e-02, 1.84142828e-01,\n",
       "         2.16745853e-01, 4.53727245e-02, 1.42970085e-02, 1.08654022e-01,\n",
       "         1.59729958e-01, 6.21764660e-02, 1.90486193e-01, 3.96945477e-02,\n",
       "         2.36430168e-02, 7.33935833e-02, 1.21271610e-02, 2.00009108e-01,\n",
       "         1.12830639e-01, 9.06343460e-02, 1.70434237e-01, 2.89678574e-04,\n",
       "         1.00617170e-01, 1.95062518e-01, 1.22732639e+00, 1.33595705e-01,\n",
       "         1.71329975e-02, 2.24493742e-01, 1.00270271e-01, 1.54745579e-01,\n",
       "         6.15370274e-02, 1.35754347e-01, 1.08712673e-01, 2.75136232e-02,\n",
       "         1.38462305e-01, 9.47990417e-02, 8.16636086e-02, 2.85526991e-01,\n",
       "         1.65051937e-01, 1.53028965e-01, 1.44220591e-01, 1.30321264e-01,\n",
       "         1.02362156e-01, 1.66897058e-01, 1.08053684e-01, 1.30130291e-01,\n",
       "         1.98480844e-01, 4.97899055e-02, 8.54837894e-02, 6.91723824e-02,\n",
       "         1.67453766e-01, 2.47847080e-01, 1.51405334e-02, 1.67893410e-01,\n",
       "         1.63722038e-02, 3.20291519e-02, 1.45423889e-01, 1.30028486e-01,\n",
       "         1.33401632e-01, 2.06069231e-01, 2.07333803e-01, 1.91120386e-01,\n",
       "         1.72865391e-01, 1.16657257e-01, 6.31878376e-02, 1.14376783e-01,\n",
       "         1.07139587e-01, 7.57863522e-02, 3.84674072e-02, 3.73535156e-02,\n",
       "         6.02684021e-01, 1.60793066e-01, 1.51065350e-01, 8.06956291e-02,\n",
       "         9.30385590e-02, 4.33630943e-02, 1.82490349e-02, 1.37134552e-01,\n",
       "         5.34360409e-02, 1.54314756e-01, 1.19621992e-01, 7.74304867e-02,\n",
       "         2.97013044e-01, 2.05731392e-03, 1.04680777e-01, 2.69217491e-02,\n",
       "         2.07937241e-01, 7.89618492e-02, 1.72587156e-01, 1.58227801e-01,\n",
       "         2.49956369e-01, 1.94303036e-01, 1.67227268e-01, 2.29813576e-01,\n",
       "         1.23277903e-01, 6.66007996e-02, 7.83646107e-02, 3.44915390e-02,\n",
       "         8.27753544e-02, 7.35038519e-02, 6.07689619e-02, 6.48462772e-02,\n",
       "         4.27049637e-01, 1.03985786e-01, 1.34422779e-02, 1.06512070e-01,\n",
       "         2.18879461e-01, 7.22270012e-02, 3.69381905e-02, 8.61988068e-02,\n",
       "         7.28242397e-02, 2.52231836e-01, 5.88996410e-02, 1.76897049e-01,\n",
       "         1.27801466e+00, 7.69202709e-02, 1.34788036e-01, 1.12843990e-01,\n",
       "         5.35969734e-02, 5.59840202e-02, 1.89781189e-03, 1.03602886e-01,\n",
       "         1.06339693e-01, 1.23090506e-01, 7.33358860e-02, 5.48567772e-02,\n",
       "         6.91275597e-02, 2.15772152e-01, 8.42816830e-02, 1.44577384e-01,\n",
       "         1.08113766e-01, 7.02452660e-02, 1.15051746e-01, 6.70866966e-02,\n",
       "         8.33525658e-02, 1.13042831e-01, 1.38985634e-01, 4.24754620e-02,\n",
       "         1.55440092e-01, 8.43305588e-02, 2.28598118e-01, 1.70750856e-01,\n",
       "         1.59597397e-02, 5.11931181e-02, 2.14539528e-01, 6.57770634e-02,\n",
       "         5.94024658e-02, 1.08866215e-01, 1.31234407e-01, 5.14838696e-02,\n",
       "         1.21126890e-01, 1.45611286e-01, 2.46296644e-01, 6.53781414e-01,\n",
       "         6.11097813e-02, 9.57398415e-02, 3.91279697e-01, 1.16490602e-01,\n",
       "         4.84848022e-03, 1.53669953e-01, 1.37014389e-01, 1.68645620e-01,\n",
       "         3.61249447e-02, 3.00055027e-01, 1.19196892e-01, 9.79146957e-02,\n",
       "         7.88435936e-02, 7.41550922e-02, 1.70392990e-02, 2.72502899e-02,\n",
       "         1.09216452e-01, 1.99725628e-02, 9.21554565e-02, 1.20612144e-01,\n",
       "         1.46664381e-01, 1.29846096e-01, 1.34270668e-01, 8.53872299e-02,\n",
       "         3.25202703e-01, 6.57051563e-01, 1.06397152e-01, 1.36835098e-01,\n",
       "         1.45822048e-01, 2.82502651e-01, 1.33090258e-01, 9.19103622e-04,\n",
       "         9.35912132e-03, 1.64171457e-01, 1.60998344e-01, 7.61766434e-02,\n",
       "         4.34867859e-01, 2.54657507e-01, 4.23429012e-02, 7.23195076e-03,\n",
       "         1.32822514e-01, 2.54342556e-01, 1.10229969e-01, 1.52559996e-01,\n",
       "         3.38177681e-02, 2.55155563e-02, 1.60159111e-01, 7.57119656e-02,\n",
       "         8.36124420e-02, 3.72706413e-01, 2.06608772e-02, 3.32758427e-02,\n",
       "         1.37544155e-01, 2.00593948e-01, 5.39551258e-01, 2.70750523e-02,\n",
       "         1.05885029e-01, 5.55355549e-02, 1.58149600e-01, 1.00910902e-01,\n",
       "         2.26049900e-01, 1.56712532e-02, 2.34342813e-01, 1.08902454e-02,\n",
       "         1.50697470e-01, 1.11795187e-01, 9.05762911e-02, 1.50796413e-01,\n",
       "         1.46394014e-01, 2.03788280e-02, 9.23261642e-02, 1.27292395e-01,\n",
       "         2.78236866e-01, 1.38862371e-01, 1.20135069e-01, 8.78977776e-02,\n",
       "         8.93184662e-01, 7.83600807e-02, 5.71899414e-02, 1.22053623e-01,\n",
       "         1.74649954e-01, 6.72204494e-02, 1.20563030e-01, 1.20022774e-01,\n",
       "         6.29183531e-01, 1.12584829e-02, 1.54846668e-01, 4.08024788e-02,\n",
       "         1.90287828e-02, 1.41375065e-01, 1.70917749e-01, 7.92708397e-02,\n",
       "         8.40616226e-03, 1.01219893e-01, 6.39731884e-02, 1.45767689e-01,\n",
       "         1.39688015e-01, 2.82959938e-01, 2.04455853e-01, 1.83889031e-01,\n",
       "         1.18898392e-01, 1.15566969e-01, 1.12460852e-01, 1.00596428e-01,\n",
       "         1.36519432e-01, 6.19971752e-02, 1.03407383e-01, 6.25467300e-02,\n",
       "         8.66565704e-02, 1.26225948e-01, 1.64184093e-01, 9.64930058e-02,\n",
       "         6.16352558e-02, 1.36060715e-01, 1.40873671e-01, 1.80579185e-01,\n",
       "         2.02544689e-01, 1.08793736e-01, 1.56206846e-01, 5.39193153e-02,\n",
       "         1.36621952e-01, 5.09803295e-02, 1.28013611e-01, 9.83119011e-03,\n",
       "         1.08463526e-01, 9.07893181e-02, 1.79178238e-01, 4.42960262e-02,\n",
       "         3.11298370e-02, 1.33072376e-01, 1.41334534e-03, 1.14198089e-01,\n",
       "         6.82220459e-02, 1.59217000e-01, 1.68888092e-01, 1.24346495e-01,\n",
       "         1.43619537e-01, 1.40249014e-01, 8.17203522e-02, 2.76106834e-01,\n",
       "         3.85985374e-02, 1.20141506e-02, 2.32831478e-01, 1.39484882e-01,\n",
       "         1.35851145e-01, 6.32667542e-03, 1.07321262e-01, 7.74896145e-02,\n",
       "         5.78534603e-02, 7.54273415e-01, 2.84354687e-02, 1.12530947e-01,\n",
       "         9.51547623e-02, 1.33539200e-01, 5.21476269e-02, 1.61554337e-01,\n",
       "         2.06511974e-01, 2.57194042e-02, 1.99501514e-02, 1.53381824e-02,\n",
       "         1.53211594e-01, 1.20164633e-01, 9.01694298e-02, 4.37111855e-02,\n",
       "         2.91399717e-01, 1.33010864e-01, 2.05609083e-01, 1.59399033e-01,\n",
       "         1.51240349e-01, 1.49790049e-01, 9.95516777e-02, 5.27005196e-02,\n",
       "         1.75837755e-01, 1.08400822e-01, 1.13296509e-01, 2.22117424e-01,\n",
       "         4.60698605e-02, 9.11803246e-02, 3.07989120e-02, 2.47132778e-02,\n",
       "         4.24296856e-02, 1.61840200e-01, 2.05793619e-01, 1.18092537e-01,\n",
       "         9.21268463e-02, 7.50591755e-02, 1.86055660e-01, 8.24713707e-03,\n",
       "         2.13829517e-01, 9.55097675e-02, 1.25723839e-01, 1.46082163e-01,\n",
       "         4.43813801e-02, 1.62556171e-02, 1.62761092e-01, 9.73107815e-02,\n",
       "         8.19575787e-02, 2.84559727e-02, 1.48735046e-01, 7.42402077e-02,\n",
       "         1.05090380e-01, 1.43985391e-01, 1.35904312e-01, 9.09636021e-02,\n",
       "         1.17794514e-01, 3.71360779e-03, 1.53395176e-01, 9.45544243e-02,\n",
       "         2.77227879e-01, 3.03598404e-01, 3.16603184e-02, 9.23194885e-02,\n",
       "         1.39420986e-01, 1.87097430e-01, 6.41550064e-01, 1.67009592e-01,\n",
       "         6.38239384e-02, 1.78978443e-01, 3.65548134e-02, 8.79535675e-02,\n",
       "         4.78823185e-02, 5.15270233e-02, 9.35838223e-02, 7.07981586e-02,\n",
       "         2.45176315e-01, 1.36834383e-01, 7.32128620e-02, 1.27034903e-01,\n",
       "         2.25424767e-02, 1.69026852e-02, 1.05709791e-01, 1.51536226e-01,\n",
       "         7.18961239e-01, 1.03032112e-01, 1.56975508e-01, 3.69443893e-02,\n",
       "         9.56921577e-02, 2.71040201e-02, 1.47995949e-02, 3.03425074e-01,\n",
       "         5.84487915e-02, 1.07922196e-01, 4.53548431e-02, 3.66449356e-02,\n",
       "         2.12966442e-01, 4.17573452e-02, 3.54301929e-03, 3.13685656e-01,\n",
       "         1.10198975e-01, 1.00808144e-02, 8.88146162e-02, 1.71920300e-01,\n",
       "         5.11462688e-02, 8.72710228e-01, 9.96463299e-02, 6.42201900e-02,\n",
       "         1.05252028e-01, 9.82437134e-02, 3.86463404e-02, 1.88267708e-01,\n",
       "         8.24627876e-02, 1.41883612e-01, 5.89165688e-02, 4.13973331e-02,\n",
       "         9.22751427e-02, 6.92753792e-02, 6.00640774e-02, 9.46648121e-02,\n",
       "         3.10089588e-02, 1.81575060e-01, 4.05697823e-02, 9.59396362e-02,\n",
       "         1.37049913e-01, 9.15858746e-02, 2.56841660e-01, 7.13672638e-02,\n",
       "         5.88757992e-02, 2.76316643e-01, 1.47899151e-01, 1.02384329e-01,\n",
       "         6.19847775e-02, 1.64521456e-01, 6.41307831e-02, 1.52075768e-01,\n",
       "         1.71288252e-01, 1.18383169e-01, 2.40829468e-01, 8.70599747e-02,\n",
       "         6.88111782e-02, 1.92556500e-01, 2.09666252e-01, 2.33127832e-01,\n",
       "         2.96936035e-02, 6.92353249e-02, 4.80483770e-02, 3.84461164e-01,\n",
       "         7.44781494e-02, 1.02376461e-01, 1.38059735e-01, 7.18946457e-02,\n",
       "         1.56742573e-01, 8.41789246e-02, 1.67143822e-01, 1.01553202e-01,\n",
       "         1.07275248e-01, 1.13112688e-01, 8.52909088e-02, 6.20656013e-02,\n",
       "         2.29215622e-03, 1.67993784e-01, 4.50270653e-01, 2.49292850e-02,\n",
       "         7.27648735e-02, 1.85081959e-01, 1.02848530e-01, 3.47068310e-02,\n",
       "         1.08027935e-01, 2.72922993e-01, 9.00692940e-02, 1.06995821e-01,\n",
       "         4.56044674e-02, 3.00920010e-01, 1.02616072e-01, 2.76260376e-02,\n",
       "         1.10834122e-01, 4.64566946e-02, 1.70698285e-01, 6.96301460e-02,\n",
       "         8.73680115e-02, 1.11625195e-01, 8.14583302e-02, 5.60374260e-02,\n",
       "         8.70425701e-02, 1.66794538e-01, 1.96906328e-01, 1.23489380e-01,\n",
       "         3.05078030e-02, 2.41773129e-02, 1.39447212e-01, 4.65237617e-01,\n",
       "         8.47330093e-02, 8.90655518e-02, 6.35871887e-02, 1.24225140e-01,\n",
       "         9.38603878e-02, 6.89333439e-01, 7.81595707e-02, 1.18887424e-01,\n",
       "         6.85453415e-02, 1.35980368e-01, 1.17209435e-01, 2.09410191e-02,\n",
       "         1.37237787e-01, 2.42615700e-01, 2.02095032e-01, 6.92398548e-02,\n",
       "         8.22458267e-02, 4.73845005e-02, 4.35993671e-02, 9.73539352e-02,\n",
       "         1.28347635e-01, 1.31013632e-01, 2.39867687e-01, 1.32886887e-01,\n",
       "         1.62168980e-01, 1.82235241e-02, 4.56893444e-02, 2.84545422e-02,\n",
       "         1.07414484e-01, 3.66930485e-01, 2.39778996e-01, 1.68092489e-01,\n",
       "         1.27897739e-01, 9.77807045e-02, 1.78124905e-02, 1.37312174e-01,\n",
       "         1.49672985e-01, 1.28993273e-01, 1.50966287e-01, 7.51564503e-02,\n",
       "         4.49883223e-01, 4.72798347e-02, 1.06511021e+00, 4.62670803e-01,\n",
       "         1.24755383e-01, 7.66835213e-02, 2.07607031e-01, 4.94686604e-01,\n",
       "         1.23035431e-01, 9.66708660e-02, 7.73935318e-02, 1.51092768e-01,\n",
       "         5.58454990e-02, 3.58419418e-02, 1.57264709e-01, 6.16340160e-01,\n",
       "         3.92236233e-01, 2.54268646e-01, 4.52487469e-01, 1.11129522e-01,\n",
       "         1.32862329e-01, 5.54490089e-02, 7.15553761e-02, 6.03971481e-02,\n",
       "         8.21232796e-02, 6.88314438e-04, 1.52295828e-01, 3.05695534e-02,\n",
       "         1.66461706e-01, 1.49447441e-01, 2.32227564e-01, 1.18530750e-01,\n",
       "         1.07308149e-01, 4.64258194e-02, 1.01850986e-01, 4.52878475e-02,\n",
       "         7.56042004e-02, 6.86359406e-02, 1.37350559e-02, 1.94705725e-01,\n",
       "         7.88114071e-02, 1.22657061e-01, 4.55465317e-02, 5.54313660e-02,\n",
       "         1.44853711e-01, 1.68662071e-01, 9.22722816e-02, 1.07651949e-01,\n",
       "         1.53434873e-01, 3.85520458e-02, 1.35295630e-01, 1.47252083e-01,\n",
       "         2.41530895e-01, 4.36999798e-02, 8.10997486e-02, 6.73463345e-02,\n",
       "         8.37693214e-02, 3.29968452e-01, 3.84977102e-01, 3.20427418e-02,\n",
       "         5.06367683e-02, 1.69964314e-01, 1.51627541e-01, 3.83262634e-02,\n",
       "         1.94804192e-01, 1.22985601e-01, 6.73491955e-02, 6.04596138e-02,\n",
       "         2.22523212e-02, 9.57822800e-03, 4.38303947e-02, 8.03494453e-03,\n",
       "         1.18869781e-01, 1.40940428e-01, 9.02643204e-02, 6.71424866e-02,\n",
       "         1.94764137e-03, 6.23810291e-02, 9.36532021e-02, 2.51354694e-01,\n",
       "         1.92260504e-01, 9.72170830e-02, 1.49189949e-01, 8.33342075e-02,\n",
       "         1.07797146e-01, 6.67166710e-02, 7.04457760e-02, 1.68391585e-01,\n",
       "         1.05352402e-01, 8.27238560e-02, 8.30647945e-02, 1.36197567e-01,\n",
       "         6.70845509e-02, 1.42350674e-01, 2.39168644e-01, 1.59015179e-01,\n",
       "         3.47273350e-02, 1.87668800e-02, 9.36148167e-02, 1.32322550e-01],\n",
       "        dtype=float32)],\n",
       " [0.13388526])"
      ]
     },
     "execution_count": 32,
     "metadata": {},
     "output_type": "execute_result"
    }
   ],
   "source": [
    "log_lik_diff, mean_diff"
   ]
  },
  {
   "cell_type": "code",
   "execution_count": null,
   "metadata": {},
   "outputs": [],
   "source": []
  }
 ],
 "metadata": {
  "kernelspec": {
   "display_name": "Python 3",
   "language": "python",
   "name": "python3"
  },
  "language_info": {
   "codemirror_mode": {
    "name": "ipython",
    "version": 3
   },
   "file_extension": ".py",
   "mimetype": "text/x-python",
   "name": "python",
   "nbconvert_exporter": "python",
   "pygments_lexer": "ipython3",
   "version": "3.8.5"
  }
 },
 "nbformat": 4,
 "nbformat_minor": 4
}
