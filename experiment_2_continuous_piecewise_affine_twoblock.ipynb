{
 "cells": [
  {
   "cell_type": "code",
   "execution_count": 1,
   "metadata": {},
   "outputs": [],
   "source": [
    "%load_ext autoreload\n",
    "%autoreload 2"
   ]
  },
  {
   "cell_type": "code",
   "execution_count": 2,
   "metadata": {},
   "outputs": [],
   "source": [
    "import torch\n",
    "import torch.nn.functional as F\n",
    "import torch.nn as nn\n",
    "import os\n",
    "\n",
    "import numpy as np\n",
    "import matplotlib.pyplot as plt\n",
    "\n",
    "from NormalizingFlows.src.train import train_backward\n",
    "from NormalizingFlows.src.scores import log_likelihood\n",
    "from NormalizingFlows.src.utils import update_device, load_best_model, load_checkpoint_model\n",
    "\n",
    "from NormalizingFlows.src.flows import *\n",
    "from NormalizingFlows.src.data.density.toydata import ToyDataset"
   ]
  },
  {
   "cell_type": "code",
   "execution_count": 3,
   "metadata": {},
   "outputs": [],
   "source": [
    "def set_visible_devices(*devices: int) -> None:\n",
    "    '''Utility to set visible Cuda devices.\n",
    "\n",
    "    Parameters\n",
    "    ----------\n",
    "    devices : List[int]\n",
    "        Index of cuda devices to make available for use.\n",
    "    '''\n",
    "    assert all([d >= 0 for d in devices]), f\"Not all devices are CUDA devices!\"\n",
    "    os.environ['CUDA_VISIBLE_DEVICES'] = \",\".join([str(i) for i in devices])\n",
    "    \n",
    "\n",
    "def set_devices(*devices: int):\n",
    "    '''Utility to set Cuda device(s).\n",
    "\n",
    "    Parameters\n",
    "    ----------\n",
    "    devices : List[int]\n",
    "        Index of cuda devices to make available for use.\n",
    "\n",
    "    Returns\n",
    "    -------\n",
    "    torch.device or List[torch.device] of currently available CUDA devices.\n",
    "    '''\n",
    "    assert len(devices) > 0, f'Device list is empty, no devices set.'\n",
    "    if len(devices) == 1:\n",
    "        if devices[0] >= 0:\n",
    "            set_visible_devices(devices[0])\n",
    "            return torch.device(0)\n",
    "        else:\n",
    "            return torch.device('cpu')\n",
    "\n",
    "    else:\n",
    "        set_visible_devices(*devices)\n",
    "        return [torch.device(i) for i in range(len(devices))]"
   ]
  },
  {
   "cell_type": "code",
   "execution_count": 4,
   "metadata": {},
   "outputs": [],
   "source": [
    "device = set_devices(0) #torch.device(\"cuda\") if torch.cuda.is_available() else torch.device(\"cpu\")\n",
    "device_cpu = torch.device(\"cpu\")"
   ]
  },
  {
   "cell_type": "code",
   "execution_count": 5,
   "metadata": {},
   "outputs": [],
   "source": [
    "np.random.seed(10290)\n",
    "dim_input = 50\n",
    "distr_params = torch.FloatTensor(np.random.uniform(0.5,3,(dim_input,)))\n",
    "target_distr = torch.distributions.independent.Independent(\n",
    "            torch.distributions.exponential.Exponential(distr_params),1)\n",
    "dataset = ToyDataset(dim_input=dim_input,data_distr=target_distr, samples=10000)\n",
    "\n",
    "dim_input = dataset.dim_input\n",
    "num_trans = 8 #Must be even\n",
    "perm_types = ['identity', 'alternate','random']\n",
    "dim_hidden = [200,200,200]\n",
    "flows = {}\n",
    "flow_forward = False\n",
    "\n",
    "\n",
    "epochs = 25\n",
    "batch_size = 32\n",
    "num_exp = 5"
   ]
  },
  {
   "cell_type": "code",
   "execution_count": 6,
   "metadata": {
    "jupyter": {
     "source_hidden": true
    },
    "tags": []
   },
   "outputs": [],
   "source": [
    "# #Linear and mean field\n",
    "\n",
    "# transformations = create_constant_trans(num_trans, dim_input, flow_forward)\n",
    "# mean_field = create_flows_with_identity(dim_input, transformations, flow_forward) \n",
    "# name = 'Mean field'\n",
    "# flows.append(mean_field), names.append(name)\n",
    "\n",
    "# transformations = create_linear_bias_trans(num_trans, dim_input, flow_forward)\n",
    "# linear = create_flows_with_identity(dim_input, transformations, flow_forward)\n",
    "# name = 'Linear'\n",
    "# flows.append(linear), names.append(name);"
   ]
  },
  {
   "cell_type": "code",
   "execution_count": 7,
   "metadata": {
    "jupyter": {
     "source_hidden": true
    },
    "tags": []
   },
   "outputs": [],
   "source": [
    "# #Affine flows with two block\n",
    "\n",
    "# name = 'Affine coupling identity'\n",
    "# flows[name] = []\n",
    "# for i in range(num_exp):\n",
    "#     transformations = create_affine_trans(num_trans, flow_forward, a_param=F.softplus)\n",
    "#     aff_coup_id = create_flows_with_twoblock(dim_input, dim_hidden, transformations, perm_types[0], flow_forward)\n",
    "#     flows[name] += [aff_coup_id]\n",
    "#     flows[name][-1].name = f'{name} {i}'\n",
    "\n",
    "# name = 'Affine coupling alternating'\n",
    "# flows[name] = []\n",
    "# for i in range(num_exp):\n",
    "#     transformations = create_affine_trans(num_trans, flow_forward, a_param=F.softplus)\n",
    "#     aff_coup_alt = create_flows_with_twoblock(dim_input, dim_hidden, transformations, perm_types[1], flow_forward)\n",
    "#     flows[name] += [aff_coup_alt]\n",
    "#     flows[name][-1].name = f'{name} {i}'\n",
    "    \n",
    "# name = 'Affine coupling random'\n",
    "# flows[name] = []\n",
    "# for i in range(num_exp):\n",
    "#     transformations = create_affine_trans(num_trans, flow_forward, a_param=F.softplus)\n",
    "#     aff_coup_rand = create_flows_with_twoblock(dim_input, dim_hidden, transformations, perm_types[2], flow_forward)\n",
    "#     flows[name] += [aff_coup_rand]\n",
    "#     flows[name][-1].name = f'{name} {i}'"
   ]
  },
  {
   "cell_type": "code",
   "execution_count": 8,
   "metadata": {
    "jupyter": {
     "source_hidden": true
    },
    "tags": []
   },
   "outputs": [],
   "source": [
    "# #Affine flows with AR\n",
    "\n",
    "# name = 'Affine AR identity'\n",
    "# flows[name] = []\n",
    "# for i in range(num_exp):\n",
    "#     transformations = create_affine_trans(num_trans, flow_forward)\n",
    "#     aff_ar_id = create_flows_with_AR(dim_input, dim_hidden, transformations, perm_types[0], flow_forward)\n",
    "#     flows[name] += [aff_ar_id]\n",
    "#     flows[name][-1].name = f'{name} {i}'\n",
    "\n",
    "# name = 'Affine AR alternate'\n",
    "# flows[name] = []\n",
    "# for i in range(num_exp):\n",
    "#     transformations = create_affine_trans(num_trans, flow_forward)\n",
    "#     aff_ar_alt = create_flows_with_AR(dim_input, dim_hidden, transformations, perm_types[1], flow_forward)\n",
    "#     flows[name] += [aff_ar_alt]\n",
    "#     flows[name][-1].name = f'{name} {i}'\n",
    "\n",
    "# name = 'Affine AR random'\n",
    "# flows[name] = []\n",
    "# for i in range(num_exp):\n",
    "#     transformations = create_affine_trans(num_trans, flow_forward)\n",
    "#     aff_ar_rand = create_flows_with_AR(dim_input, dim_hidden, transformations, perm_types[2], flow_forward)\n",
    "#     flows[name] += [aff_ar_rand]\n",
    "#     flows[name][-1].name = f'{name} {i}'\n"
   ]
  },
  {
   "cell_type": "code",
   "execution_count": 9,
   "metadata": {
    "jupyter": {
     "source_hidden": true
    },
    "tags": []
   },
   "outputs": [],
   "source": [
    "# #PiecewiseAffine flows with coupling\n",
    "\n",
    "# name = 'PiecewiseAffine coupling identity'\n",
    "# flows[name] = []\n",
    "# for i in range(num_exp):\n",
    "#     transformations = create_piecewise_trans(num_trans, flow_forward)\n",
    "#     piec_coup_id = create_flows_with_twoblock(dim_input, dim_hidden, transformations, perm_types[0], flow_forward)\n",
    "#     flows[name] += [piec_coup_id]\n",
    "#     flows[name][-1].name = f'{name} {i}'\n",
    "    \n",
    "\n",
    "# name = 'PiecewiseAffine coupling alternate'\n",
    "# flows[name] = []\n",
    "# for i in range(num_exp):\n",
    "#     transformations = create_piecewise_trans(num_trans, flow_forward)\n",
    "#     piec_coup_alt = create_flows_with_twoblock(dim_input, dim_hidden, transformations, perm_types[1], flow_forward)\n",
    "#     flows[name] += [piec_coup_alt]\n",
    "#     flows[name][-1].name = f'{name} {i}'\n",
    "\n",
    "# name = 'PiecewiseAffine coupling random'\n",
    "# flows[name] = []\n",
    "# for i in range(num_exp):\n",
    "#     transformations = create_piecewise_trans(num_trans, flow_forward)\n",
    "#     piec_coup_rand = create_flows_with_twoblock(dim_input, dim_hidden, transformations, perm_types[2], flow_forward)\n",
    "#     flows[name] += [piec_coup_rand]\n",
    "#     flows[name][-1].name = f'{name} {i}'\n"
   ]
  },
  {
   "cell_type": "code",
   "execution_count": 10,
   "metadata": {
    "jupyter": {
     "source_hidden": true
    },
    "tags": []
   },
   "outputs": [],
   "source": [
    "# #PiecewiseAffine flows with AR\n",
    "\n",
    "# name = 'PiecewiseAffine AR identity'\n",
    "# flows[name] = []\n",
    "# for i in range(num_exp):\n",
    "#     transformations = create_piecewise_trans(num_trans, flow_forward)\n",
    "#     piec_ar_id = create_flows_with_AR(dim_input, dim_hidden, transformations, perm_types[0], flow_forward)\n",
    "#     flows[name] += [piec_ar_id]\n",
    "#     flows[name][-1].name = f'{name} {i}'\n",
    "\n",
    "\n",
    "# name = 'PiecewiseAffine AR alternate'\n",
    "# flows[name] = []\n",
    "# for i in range(num_exp):\n",
    "#     transformations = create_piecewise_trans(num_trans, flow_forward)\n",
    "#     piec_ar_alt = create_flows_with_AR(dim_input, dim_hidden, transformations, perm_types[1], flow_forward)\n",
    "#     flows[name] += [piec_ar_alt]\n",
    "#     flows[name][-1].name = f'{name} {i}'\n",
    "\n",
    "# name = 'PiecewiseAffine AR random'\n",
    "# flows[name] = []\n",
    "# for i in range(num_exp):\n",
    "#     transformations = create_piecewise_trans(num_trans, flow_forward)\n",
    "#     piec_ar_rand = create_flows_with_AR(dim_input, dim_hidden, transformations, perm_types[2], flow_forward)\n",
    "#     flows[name] += [piec_ar_rand]\n",
    "#     flows[name][-1].name = f'{name} {i}'\n"
   ]
  },
  {
   "cell_type": "code",
   "execution_count": 11,
   "metadata": {
    "jupyter": {
     "source_hidden": true
    },
    "tags": []
   },
   "outputs": [],
   "source": [
    "# #PiecewiseAffineAffine with twoblock\n",
    "\n",
    "# kwargs = {\n",
    "#     'a_param' : F.sigmoid,\n",
    "#     'c_param' : F.sigmoid,\n",
    "# }\n",
    "\n",
    "# name = 'PiecewiseAffineAffine coupling identity'\n",
    "# flows[name] = []\n",
    "# for i in range(num_exp):\n",
    "#     transformations = create_affinepiecewise_trans(num_trans, flow_forward, **kwargs)\n",
    "#     piecaf_coup_id = create_flows_with_twoblock(dim_input, dim_hidden, transformations, perm_types[0], flow_forward)\n",
    "#     flows[name] += [piecaf_coup_id]\n",
    "#     flows[name][-1].name = f'{name} {i}'\n",
    "\n",
    "# name = 'PiecewiseAffineAffine coupling alternate'\n",
    "# flows[name] = []\n",
    "# for i in range(num_exp):\n",
    "#     transformations = create_affinepiecewise_trans(num_trans, flow_forward, **kwargs)\n",
    "#     piecaf_coup_alt = create_flows_with_twoblock(dim_input, dim_hidden, transformations, perm_types[1], flow_forward)\n",
    "#     flows[name] += [piecaf_coup_alt]\n",
    "#     flows[name][-1].name = f'{name} {i}'\n",
    "\n",
    "# name = 'PiecewiseAffineAffine coupling random'\n",
    "# flows[name] = []\n",
    "# for i in range(num_exp):\n",
    "#     transformations = create_affinepiecewise_trans(num_trans, flow_forward, **kwargs)\n",
    "#     piecaf_coup_rand = create_flows_with_twoblock(dim_input, dim_hidden, transformations, perm_types[2], flow_forward)\n",
    "#     flows[name] += [piecaf_coup_rand]\n",
    "#     flows[name][-1].name = f'{name} {i}'\n"
   ]
  },
  {
   "cell_type": "code",
   "execution_count": 12,
   "metadata": {
    "jupyter": {
     "source_hidden": true
    },
    "tags": []
   },
   "outputs": [],
   "source": [
    "# #PiecewiseAffineAffine with AR\n",
    "\n",
    "# kwargs = {\n",
    "#     'a_param' : F.sigmoid,\n",
    "#     'c_param' : F.sigmoid,\n",
    "# }\n",
    "\n",
    "# name = 'PiecewiseAffineAffine AR identity'\n",
    "# flows[name] = []\n",
    "# for i in range(num_exp):\n",
    "#     transformations = create_affinepiecewise_trans(num_trans, flow_forward)\n",
    "#     piecaf_ar_id = create_flows_with_AR(dim_input, dim_hidden, transformations, perm_types[0], flow_forward)\n",
    "#     flows[name] += [piecaf_ar_id]\n",
    "#     flows[name][-1].name = f'{name} {i}'\n",
    "\n",
    "# name = 'PiecewiseAffineAffine AR alternate'\n",
    "# flows[name] = []\n",
    "# for i in range(num_exp):\n",
    "#     transformations = create_affinepiecewise_trans(num_trans, flow_forward)\n",
    "#     piecaf_ar_alt = create_flows_with_AR(dim_input, dim_hidden, transformations, perm_types[1], flow_forward)\n",
    "#     flows[name] += [piecaf_ar_alt]\n",
    "#     flows[name][-1].name = f'{name} {i}'\n",
    "\n",
    "# name = 'PiecewiseAffineAffine AR random'\n",
    "# flows[name] = []\n",
    "# for i in range(num_exp):\n",
    "#     transformations = create_affinepiecewise_trans(num_trans, flow_forward, **kwargs)\n",
    "#     piecaf_ar_rand = create_flows_with_AR(dim_input, dim_hidden, transformations, perm_types[2], flow_forward)\n",
    "#     flows[name] += [piecaf_ar_rand]\n",
    "#     flows[name][-1].name = f'{name} {i}'\n"
   ]
  },
  {
   "cell_type": "code",
   "execution_count": 13,
   "metadata": {
    "jupyter": {
     "source_hidden": true
    },
    "tags": []
   },
   "outputs": [],
   "source": [
    "# #ContinuousPiecewise with twoblock\n",
    "\n",
    "# name = 'ContinuousPiecewiseAffine coupling identity'\n",
    "# flows[name] = []\n",
    "# for i in range(num_exp):\n",
    "#     transformations = create_continuous_piecewise_trans(num_trans, flow_forward)\n",
    "#     conpiec_coup_iden = create_flows_with_twoblock(dim_input, dim_hidden, transformations, perm_types[0], flow_forward)\n",
    "#     flows[name] += [conpiec_coup_iden]\n",
    "#     flows[name][-1].name = f'{name} {i}'\n",
    "\n",
    "# name = 'ContinuousPiecewiseAffine coupling alternate'\n",
    "# flows[name] = []\n",
    "# for i in range(num_exp):\n",
    "#     transformations = create_continuous_piecewise_trans(num_trans, flow_forward)\n",
    "#     conpiec_coup_alt = create_flows_with_twoblock(dim_input, dim_hidden, transformations, perm_types[1], flow_forward)\n",
    "#     flows[name] += [conpiec_coup_alt]\n",
    "#     flows[name][-1].name = f'{name} {i}'\n",
    "\n",
    "# name = 'ContinuousPiecewiseAffine coupling random'\n",
    "# flows[name] = []\n",
    "# for i in range(num_exp):\n",
    "#     transformations = create_continuous_piecewise_trans(num_trans, flow_forward)\n",
    "#     conpiec_coup_rand = create_flows_with_twoblock(dim_input, dim_hidden, transformations, perm_types[2], flow_forward)\n",
    "#     flows[name] += [conpiec_coup_rand]\n",
    "#     flows[name][-1].name = f'{name} {i}'\n"
   ]
  },
  {
   "cell_type": "code",
   "execution_count": 14,
   "metadata": {
    "jupyter": {
     "source_hidden": true
    },
    "tags": []
   },
   "outputs": [],
   "source": [
    "# #ContinuousPiecewise with AR\n",
    "\n",
    "# transformations = create_continuous_piecewise_trans(num_trans, flow_forward)\n",
    "# conpiec_ar_iden = create_flows_with_AR(dim_input, dim_hidden, transformations, perm_types[0], flow_forward)\n",
    "# name = 'ContinuousPiecewiseAffine AR identity'\n",
    "# flows.append(conpiec_ar_iden), names.append(name)\n",
    "\n",
    "# transformations = create_continuous_piecewise_trans(num_trans, flow_forward)\n",
    "# conpiec_ar_alt = create_flows_with_AR(dim_input, dim_hidden, transformations, perm_types[1], flow_forward)\n",
    "# name = 'ContinuousPiecewiseAffine AR alternate'\n",
    "# flows.append(conpiec_ar_alt), names.append(name)\n",
    "\n",
    "# transformations = create_continuous_piecewise_trans(num_trans, flow_forward)\n",
    "# conpiec_ar_rand = create_flows_with_AR(dim_input, dim_hidden, transformations, perm_types[2], flow_forward)\n",
    "# name = 'ContinuousPiecewiseAffine AR random'\n",
    "# flows.append(conpiec_ar_rand), names.append(name);"
   ]
  },
  {
   "cell_type": "code",
   "execution_count": 27,
   "metadata": {
    "tags": []
   },
   "outputs": [
    {
     "data": {
      "image/png": "[encoded data removed]",
      "text/plain": [
       "<Figure size 432x288 with 1 Axes>"
      ]
     },
     "metadata": {
      "needs_background": "light"
     },
     "output_type": "display_data"
    }
   ],
   "source": [
    "#ContinuousPiecewiseAffine with twoblock\n",
    "\n",
    "# To increase stability, we use abs(arcsinh(x)), which saturates mildly, but keeps support over R^+\n",
    "f_a = lambda x: torch.abs(torch.arcsinh(x))\n",
    "\n",
    "two = torch.tensor(2)\n",
    "def softsaturate(a):\n",
    "    neg = 2 * (a < 0) * F.softplus(a)\n",
    "    pos = (a >= 0) * (torch.arcsinh(a) + 2 * torch.log(two))\n",
    "    return neg + pos\n",
    "\n",
    "test_x = torch.linspace(-10, 10, 1000)\n",
    "plt.plot(test_x, softsaturate(test_x))\n",
    "plt.ylim(-1, 5)\n",
    "plt.title('Softsaturate')\n",
    "plt.grid(True)\n",
    "\n",
    "name = 'ContinuousPiecewiseAffineAffine coupling identity'\n",
    "flows[name] = []\n",
    "for i in range(num_exp):\n",
    "    transformations = create_affinecontinuous_trans(num_trans, flow_forward, a_param=f_a, c_param=softsaturate)\n",
    "    affconpiec_coup_iden = create_flows_with_twoblock(dim_input, dim_hidden, transformations, perm_types[0], flow_forward)\n",
    "    flows[name] += [affconpiec_coup_iden]\n",
    "    flows[name][-1].name = f'{name} {i}'\n",
    "    \n",
    "name = 'ContinuousPiecewiseAffineAffine coupling alternate'\n",
    "flows[name] = []\n",
    "for i in range(num_exp):\n",
    "    transformations = create_affinecontinuous_trans(num_trans, flow_forward, a_param=f_a, c_param=softsaturate)\n",
    "    affconpiec_coup_alt = create_flows_with_twoblock(dim_input, dim_hidden, transformations, perm_types[1], flow_forward)\n",
    "    flows[name] += [affconpiec_coup_alt]\n",
    "    flows[name][-1].name = f'{name} {i}'\n",
    "\n",
    "name = 'ContinuousPiecewiseAffineAffine coupling random'\n",
    "flows[name] = []\n",
    "for i in range(num_exp):\n",
    "    transformations = create_affinecontinuous_trans(num_trans, flow_forward, a_param=f_a, c_param=softsaturate)\n",
    "    affconpiec_coup_rand = create_flows_with_twoblock(dim_input, dim_hidden, transformations, perm_types[2], flow_forward)\n",
    "    flows[name] += [affconpiec_coup_rand]\n",
    "    flows[name][-1].name = f'{name} {i}'\n"
   ]
  },
  {
   "cell_type": "code",
   "execution_count": 16,
   "metadata": {
    "jupyter": {
     "source_hidden": true
    },
    "tags": []
   },
   "outputs": [],
   "source": [
    "# #ContinuousPiecewiseAffine with AR\n",
    "\n",
    "# transformations = create_affinecontinuous_trans(num_trans, flow_forward)\n",
    "# affconpiec_ar_iden = create_flows_with_AR(dim_input, dim_hidden, transformations, perm_types[0], flow_forward)\n",
    "# name = 'ContinuousPiecewiseAffineAffine AR identity'\n",
    "# flows.append(affconpiec_ar_iden), names.append(name)\n",
    "\n",
    "# transformations = create_affinecontinuous_trans(num_trans, flow_forward)\n",
    "# affconpiec_ar_alt = create_flows_with_AR(dim_input, dim_hidden, transformations, perm_types[1], flow_forward)\n",
    "# name = 'ContinuousPiecewiseAffineAffine AR alternate'\n",
    "# flows.append(affconpiec_ar_alt), names.append(name)\n",
    "\n",
    "# transformations = create_affinecontinuous_trans(num_trans, flow_forward)\n",
    "# affconpiec_ar_rand = create_flows_with_AR(dim_input, dim_hidden, transformations, perm_types[2], flow_forward)\n",
    "# name = 'ContinuousPiecewiseAffineAffine AR random'\n",
    "# flows.append(affconpiec_ar_rand), names.append(name);"
   ]
  },
  {
   "cell_type": "code",
   "execution_count": 17,
   "metadata": {
    "jupyter": {
     "source_hidden": true
    },
    "tags": []
   },
   "outputs": [],
   "source": [
    "# #Alternating Piecewise Affine with twoblock\n",
    "\n",
    "# transformations = create_alt_piecewise_affine_trans(num_trans, flow_forward)\n",
    "# afpiec_coup_rand = create_flows_with_twoblock(dim_input, dim_hidden, transformations, perm_types[2], flow_forward)\n",
    "# name = 'Alternating Affin_PiecewiseAffine coupling random'\n",
    "# flows.append(afpiec_coup_rand), names.append(name);"
   ]
  },
  {
   "cell_type": "code",
   "execution_count": 18,
   "metadata": {
    "jupyter": {
     "source_hidden": true
    },
    "tags": []
   },
   "outputs": [],
   "source": [
    "# #Alternating Piecewise Affine with AR\n",
    "\n",
    "# transformations = create_alt_piecewise_affine_trans(num_trans, flow_forward)\n",
    "# afpiec_ar_rand = create_flows_with_AR(dim_input, dim_hidden, transformations, perm_types[2], flow_forward)\n",
    "# name = 'Alternating Affin_PiecewiseAffine AR random'\n",
    "# flows.append(afpiec_ar_rand), names.append(name);"
   ]
  },
  {
   "cell_type": "code",
   "execution_count": 19,
   "metadata": {
    "jupyter": {
     "source_hidden": true
    },
    "tags": []
   },
   "outputs": [],
   "source": [
    "# #Alternating with Linear layer and Affine\n",
    "\n",
    "# transformations = create_alt_linear_affine_trans(num_trans, dim_input, flow_forward)\n",
    "# linaff_coup_iden = create_flows_with_twoblock(dim_input, dim_hidden, transformations, perm_types[0], flow_forward)\n",
    "# name = 'Alternating Linear_Affine coupling identity'\n",
    "# flows.append(linaff_coup_iden), names.append(name)\n",
    "\n",
    "# transformations = create_alt_linear_affine_trans(num_trans, dim_input, flow_forward)\n",
    "# linaff_coup_rand = create_flows_with_twoblock(dim_input, dim_hidden, transformations, perm_types[2], flow_forward)\n",
    "# name = 'Alternating Linear_Affine coupling random'\n",
    "# flows.append(linaff_coup_rand), names.append(name)\n",
    "\n",
    "# transformations = create_alt_linear_affine_trans(num_trans, dim_input, flow_forward)\n",
    "# linaff_ar_iden = create_flows_with_AR(dim_input, dim_hidden, transformations, perm_types[0], flow_forward)\n",
    "# name = 'Alternating Linear_Affine AR identity'\n",
    "# flows.append(linaff_ar_iden), names.append(name)\n",
    "\n",
    "# transformations = create_alt_linear_affine_trans(num_trans, dim_input, flow_forward)\n",
    "# linaff_ar_rand = create_flows_with_AR(dim_input, dim_hidden, transformations, perm_types[2], flow_forward)\n",
    "# name = 'Alternating Linear_Affine AR random'\n",
    "# flows.append(linaff_ar_rand), names.append(name);"
   ]
  },
  {
   "cell_type": "code",
   "execution_count": 20,
   "metadata": {
    "jupyter": {
     "source_hidden": true
    },
    "tags": []
   },
   "outputs": [],
   "source": [
    "# #Various Alternating Linear and Conditioner transformation\n",
    "\n",
    "# transformations = create_alt_linear_piecewise_trans(num_trans, dim_input, flow_forward)\n",
    "# linpiece_coup_rand = create_flows_with_twoblock(dim_input, dim_hidden, transformations, perm_types[2], flow_forward)\n",
    "# name = 'Alternating Linear_PiecewiseAffine coupling random'\n",
    "# flows.append(linpiece_coup_rand), names.append(name)\n",
    "\n",
    "# transformations = create_alt_linear_continuous_trans(num_trans, dim_input, flow_forward)\n",
    "# lincont_coup_rand = create_flows_with_twoblock(dim_input, dim_hidden, transformations, perm_types[2], flow_forward)\n",
    "# name = 'Alternating Linear_ContinuousPiece coupling random'\n",
    "# flows.append(lincont_coup_rand), names.append(name)\n",
    "\n",
    "# transformations = create_alt_linear_affinepiecewise_trans(num_trans, dim_input, flow_forward)\n",
    "# linaffpiec_coup_rand = create_flows_with_twoblock(dim_input, dim_hidden, transformations, perm_types[2], flow_forward)\n",
    "# name = 'Alternating Linear_AffinePiece coupling random'\n",
    "# flows.append(linaffpiec_coup_rand), names.append(name)\n",
    "\n",
    "# transformations = create_alt_linear_affinecontinuous_trans(num_trans, dim_input, flow_forward)\n",
    "# linaffcont_coup_rand = create_flows_with_twoblock(dim_input, dim_hidden, transformations, perm_types[2], flow_forward)\n",
    "# name = 'Alternating Linear_AffineContinuous coupling random'\n",
    "# flows.append(linaffcont_coup_rand), names.append(name);"
   ]
  },
  {
   "cell_type": "code",
   "execution_count": 21,
   "metadata": {},
   "outputs": [
    {
     "name": "stdout",
     "output_type": "stream",
     "text": [
      "Finished training. Loss for last epoch ContinuousPiecewiseAffineAffine coupling random 4:     31.46817\n"
     ]
    }
   ],
   "source": [
    "losses = {n: [] for n in flows.keys()}\n",
    "optimizers = {n: [] for n in flows.keys()}\n",
    "\n",
    "for flowname in flows.keys():\n",
    "    for j in range(num_exp):\n",
    "        # Initialize flow\n",
    "        flow = flows[flowname][j]\n",
    "        update_device(device, flow, dataset)\n",
    "\n",
    "        # Initialize optimizer\n",
    "        optimizer = torch.optim.AdamW(flow.parameters(), lr=1e-4, weight_decay=1e-2)\n",
    "        optimizers[flowname].append(optimizer)\n",
    "        \n",
    "        # Train and append losses\n",
    "        losses[flowname].append(\n",
    "            train_backward(\n",
    "                flow, \n",
    "                dataset.get_training_data(), \n",
    "                optimizer, \n",
    "                epochs, \n",
    "                batch_size, \n",
    "                print_n=200, \n",
    "                save_checkpoint=True, \n",
    "                burn_in=-1\n",
    "            )\n",
    "        )\n",
    "\n",
    "        # Move flow to CPU\n",
    "        update_device(device_cpu, flow, dataset)"
   ]
  },
  {
   "cell_type": "code",
   "execution_count": 22,
   "metadata": {},
   "outputs": [],
   "source": [
    "best_flows = {n:[] for n in flows.keys()}\n",
    "for flowname in flows.keys():\n",
    "    for i in range(num_exp):\n",
    "        best_flows[flowname].append(load_best_model(flows[flowname][i]))"
   ]
  },
  {
   "cell_type": "code",
   "execution_count": 26,
   "metadata": {},
   "outputs": [
    {
     "data": {
      "image/png": "[encoded data removed]",
      "text/plain": [
       "<Figure size 864x432 with 6 Axes>"
      ]
     },
     "metadata": {
      "needs_background": "light"
     },
     "output_type": "display_data"
    }
   ],
   "source": [
    "log_scale = True\n",
    "from_iter = 5000\n",
    "\n",
    "fig, ax = plt.subplots(2, len(flows), figsize=(12,6))\n",
    "for j, flowname in enumerate(flows.keys()):\n",
    "    for i in range(num_exp):\n",
    "        ax[0,j].plot(losses[flowname][i], label=f'exp{i}', alpha=0.8)\n",
    "        ax[0,j].set_title(f'{flowname}')\n",
    "        if log_scale:\n",
    "            ax[0, j].set_yscale('log')\n",
    "        ax[0, j].legend()\n",
    "        \n",
    "log_scale = True\n",
    "for j, flowname in enumerate(flows.keys()):\n",
    "    for i in range(num_exp):\n",
    "        x = np.arange(len(losses[flowname][i]))\n",
    "        ax[1,j].plot(x[from_iter:], losses[flowname][i][from_iter:], label=f'exp{i}', alpha=0.8)\n",
    "        if log_scale:\n",
    "            ax[1, j].set_yscale('log')\n",
    "        ax[1, j].legend()\n",
    "    \n",
    "plt.tight_layout()"
   ]
  },
  {
   "cell_type": "code",
   "execution_count": 24,
   "metadata": {},
   "outputs": [
    {
     "name": "stdout",
     "output_type": "stream",
     "text": [
      "Results based on training data:\n",
      "\n",
      "Mean loglikelihood for ContinuousPiecewiseAffineAffine coupling identity 0: [-31.246325]\n",
      "Difference between target and ContinuousPiecewiseAffineAffine coupling identity mean loglikelihood: [0.5644722]\n",
      "\n",
      "Mean loglikelihood for ContinuousPiecewiseAffineAffine coupling identity 1: [-31.532188]\n",
      "Difference between target and ContinuousPiecewiseAffineAffine coupling identity mean loglikelihood: [0.8503361]\n",
      "\n",
      "Mean loglikelihood for ContinuousPiecewiseAffineAffine coupling identity 2: [-31.794476]\n",
      "Difference between target and ContinuousPiecewiseAffineAffine coupling identity mean loglikelihood: [1.1126232]\n",
      "\n",
      "Mean loglikelihood for ContinuousPiecewiseAffineAffine coupling identity 3: [-31.79693]\n",
      "Difference between target and ContinuousPiecewiseAffineAffine coupling identity mean loglikelihood: [1.115078]\n",
      "\n",
      "Mean loglikelihood for ContinuousPiecewiseAffineAffine coupling identity 4: [-31.70077]\n",
      "Difference between target and ContinuousPiecewiseAffineAffine coupling identity mean loglikelihood: [1.0189171]\n",
      "\n",
      "---------------------------------------------------------------------------\n",
      "ContinuousPiecewiseAffineAffine coupling identity -- Mean LogLH Bootstrap: -31.6141 ±  0.2882\n",
      "---------------------------------------------------------------------------\n",
      "\n",
      "Mean loglikelihood for ContinuousPiecewiseAffineAffine coupling alternate 0: [-32.290833]\n",
      "Difference between target and ContinuousPiecewiseAffineAffine coupling alternate mean loglikelihood: [1.6089802]\n",
      "\n",
      "Mean loglikelihood for ContinuousPiecewiseAffineAffine coupling alternate 1: [-31.635933]\n",
      "Difference between target and ContinuousPiecewiseAffineAffine coupling alternate mean loglikelihood: [0.9540806]\n",
      "\n",
      "Mean loglikelihood for ContinuousPiecewiseAffineAffine coupling alternate 2: [-31.748434]\n",
      "Difference between target and ContinuousPiecewiseAffineAffine coupling alternate mean loglikelihood: [1.0665817]\n",
      "\n",
      "Mean loglikelihood for ContinuousPiecewiseAffineAffine coupling alternate 3: [-31.765387]\n",
      "Difference between target and ContinuousPiecewiseAffineAffine coupling alternate mean loglikelihood: [1.0835342]\n",
      "\n",
      "Mean loglikelihood for ContinuousPiecewiseAffineAffine coupling alternate 4: [-31.353]\n",
      "Difference between target and ContinuousPiecewiseAffineAffine coupling alternate mean loglikelihood: [0.6711483]\n",
      "\n",
      "---------------------------------------------------------------------------\n",
      "ContinuousPiecewiseAffineAffine coupling alternate -- Mean LogLH Bootstrap: -31.7587 ±  0.4224\n",
      "---------------------------------------------------------------------------\n",
      "\n",
      "Mean loglikelihood for ContinuousPiecewiseAffineAffine coupling random 0: [-32.32198]\n",
      "Difference between target and ContinuousPiecewiseAffineAffine coupling random mean loglikelihood: [1.6401272]\n",
      "\n",
      "Mean loglikelihood for ContinuousPiecewiseAffineAffine coupling random 1: [-31.094458]\n",
      "Difference between target and ContinuousPiecewiseAffineAffine coupling random mean loglikelihood: [0.4126053]\n",
      "\n",
      "Mean loglikelihood for ContinuousPiecewiseAffineAffine coupling random 2: [-31.311558]\n",
      "Difference between target and ContinuousPiecewiseAffineAffine coupling random mean loglikelihood: [0.6297054]\n",
      "\n",
      "Mean loglikelihood for ContinuousPiecewiseAffineAffine coupling random 3: [-31.525208]\n",
      "Difference between target and ContinuousPiecewiseAffineAffine coupling random mean loglikelihood: [0.8433552]\n",
      "\n",
      "Mean loglikelihood for ContinuousPiecewiseAffineAffine coupling random 4: [-31.001467]\n",
      "Difference between target and ContinuousPiecewiseAffineAffine coupling random mean loglikelihood: [0.3196144]\n",
      "\n",
      "---------------------------------------------------------------------------\n",
      "ContinuousPiecewiseAffineAffine coupling random -- Mean LogLH Bootstrap: -31.4509 ±  0.6549\n",
      "---------------------------------------------------------------------------\n",
      "\n",
      "Mean loglikelihood with actual distribution: -30.681852340698242\n"
     ]
    }
   ],
   "source": [
    "flow_lh_results = {\n",
    "    'train': {n:[] for n in flows}, \n",
    "    'test': {n:[] for n in flows}, \n",
    "    'sample': {n:[] for n in flows},\n",
    "}\n",
    "cur_res = 'train'\n",
    "\n",
    "print('Results based on training data:' + '\\n')\n",
    "\n",
    "# Function for CI\n",
    "def mean_confidence_interval(data, confidence=0.95):\n",
    "    import scipy.stats\n",
    "    a = 1.0 * np.array(data)\n",
    "    n = len(a)\n",
    "    m, se = np.mean(a), scipy.stats.sem(a)\n",
    "    h = se * scipy.stats.t.ppf((1 + confidence) / 2., n-1)\n",
    "    return m, h\n",
    " \n",
    "\n",
    "train_data = dataset.get_training_data()\n",
    "mean_target = torch.mean(dataset.evaluate(train_data.to(device))).detach().numpy()\n",
    "for flow in best_flows:\n",
    "    for i in range(num_exp):\n",
    "        log_lik, mean = log_likelihood(train_data, flows[flow][i])\n",
    "        flow_lh_results[cur_res][flow].append(mean[0])\n",
    "        print(\"Mean loglikelihood for {}: {}\".format(f'{flow} {i}', mean))\n",
    "        print(\"Difference between target and {} mean loglikelihood: {}\".format(str(flow), abs(mean-mean_target)))\n",
    "        print()\n",
    "    \n",
    "    m, h = mean_confidence_interval(flow_lh_results[cur_res][flow])\n",
    "    print('-'*75)\n",
    "    print(f'{flow} -- Mean LogLH Bootstrap: {m:7.4f} ± {h:7.4f}')\n",
    "    print('-'*75)\n",
    "    print()\n",
    "    \n",
    "\n",
    "print(\"Mean loglikelihood with actual distribution: {}\".format(mean_target))"
   ]
  },
  {
   "cell_type": "code",
   "execution_count": 25,
   "metadata": {},
   "outputs": [
    {
     "name": "stdout",
     "output_type": "stream",
     "text": [
      "Results based on test data\n",
      "\n",
      "Mean loglikelihood for ContinuousPiecewiseAffineAffine coupling identity 0: [-34.00943]\n",
      "Difference between target and ContinuousPiecewiseAffineAffine coupling identity mean loglikelihood: [3.238968]\n",
      "\n",
      "Mean loglikelihood for ContinuousPiecewiseAffineAffine coupling identity 1: [-33.640186]\n",
      "Difference between target and ContinuousPiecewiseAffineAffine coupling identity mean loglikelihood: [2.8697243]\n",
      "\n",
      "Mean loglikelihood for ContinuousPiecewiseAffineAffine coupling identity 2: [-33.702938]\n",
      "Difference between target and ContinuousPiecewiseAffineAffine coupling identity mean loglikelihood: [2.932476]\n",
      "\n",
      "Mean loglikelihood for ContinuousPiecewiseAffineAffine coupling identity 3: [-33.676716]\n",
      "Difference between target and ContinuousPiecewiseAffineAffine coupling identity mean loglikelihood: [2.9062538]\n",
      "\n",
      "Mean loglikelihood for ContinuousPiecewiseAffineAffine coupling identity 4: [-33.732273]\n",
      "Difference between target and ContinuousPiecewiseAffineAffine coupling identity mean loglikelihood: [2.961811]\n",
      "\n",
      "---------------------------------------------------------------------------\n",
      "ContinuousPiecewiseAffineAffine coupling identity -- Mean LogLH Bootstrap: -33.7523 ±  0.1834\n",
      "---------------------------------------------------------------------------\n",
      "\n",
      "Mean loglikelihood for ContinuousPiecewiseAffineAffine coupling alternate 0: [-33.89791]\n",
      "Difference between target and ContinuousPiecewiseAffineAffine coupling alternate mean loglikelihood: [3.127449]\n",
      "\n",
      "Mean loglikelihood for ContinuousPiecewiseAffineAffine coupling alternate 1: [-33.62991]\n",
      "Difference between target and ContinuousPiecewiseAffineAffine coupling alternate mean loglikelihood: [2.8594475]\n",
      "\n",
      "Mean loglikelihood for ContinuousPiecewiseAffineAffine coupling alternate 2: [-33.806595]\n",
      "Difference between target and ContinuousPiecewiseAffineAffine coupling alternate mean loglikelihood: [3.0361328]\n",
      "\n",
      "Mean loglikelihood for ContinuousPiecewiseAffineAffine coupling alternate 3: [-33.70647]\n",
      "Difference between target and ContinuousPiecewiseAffineAffine coupling alternate mean loglikelihood: [2.9360085]\n",
      "\n",
      "Mean loglikelihood for ContinuousPiecewiseAffineAffine coupling alternate 4: [-33.679234]\n",
      "Difference between target and ContinuousPiecewiseAffineAffine coupling alternate mean loglikelihood: [2.9087715]\n",
      "\n",
      "---------------------------------------------------------------------------\n",
      "ContinuousPiecewiseAffineAffine coupling alternate -- Mean LogLH Bootstrap: -33.7440 ±  0.1335\n",
      "---------------------------------------------------------------------------\n",
      "\n",
      "Mean loglikelihood for ContinuousPiecewiseAffineAffine coupling random 0: [-34.187084]\n",
      "Difference between target and ContinuousPiecewiseAffineAffine coupling random mean loglikelihood: [3.4166222]\n",
      "\n",
      "Mean loglikelihood for ContinuousPiecewiseAffineAffine coupling random 1: [-33.908676]\n",
      "Difference between target and ContinuousPiecewiseAffineAffine coupling random mean loglikelihood: [3.138214]\n",
      "\n",
      "Mean loglikelihood for ContinuousPiecewiseAffineAffine coupling random 2: [-33.902508]\n",
      "Difference between target and ContinuousPiecewiseAffineAffine coupling random mean loglikelihood: [3.1320457]\n",
      "\n",
      "Mean loglikelihood for ContinuousPiecewiseAffineAffine coupling random 3: [-33.62122]\n",
      "Difference between target and ContinuousPiecewiseAffineAffine coupling random mean loglikelihood: [2.8507576]\n",
      "\n",
      "Mean loglikelihood for ContinuousPiecewiseAffineAffine coupling random 4: [-33.890095]\n",
      "Difference between target and ContinuousPiecewiseAffineAffine coupling random mean loglikelihood: [3.1196327]\n",
      "\n",
      "---------------------------------------------------------------------------\n",
      "ContinuousPiecewiseAffineAffine coupling random -- Mean LogLH Bootstrap: -33.9019 ±  0.2486\n",
      "---------------------------------------------------------------------------\n",
      "\n",
      "Mean loglikelihood with actual distribution: -30.770462036132812\n"
     ]
    }
   ],
   "source": [
    "print('Results based on test data' + '\\n')\n",
    "cur_res = 'test' \n",
    "\n",
    "test_data = dataset.get_test_data()\n",
    "mean_target = torch.mean(dataset.evaluate(test_data)).detach().numpy()\n",
    "for flow in best_flows:\n",
    "    for i in range(num_exp):\n",
    "        log_lik, mean = log_likelihood(test_data, flows[flow][i])\n",
    "        flow_lh_results[cur_res][flow].append(mean[0])\n",
    "        print(\"Mean loglikelihood for {}: {}\".format(f'{flow} {i}', mean))\n",
    "        print(\"Difference between target and {} mean loglikelihood: {}\".format(str(flow), abs(mean-mean_target)))\n",
    "        print()\n",
    "    \n",
    "    m, h = mean_confidence_interval(flow_lh_results[cur_res][flow])\n",
    "    print('-'*75)\n",
    "    print(f'{flow} -- Mean LogLH Bootstrap: {m:7.4f} ± {h:7.4f}')\n",
    "    print('-'*75)\n",
    "    print()\n",
    "    \n",
    "\n",
    "print(\"Mean loglikelihood with actual distribution: {}\".format(mean_target))\n",
    "\n",
    "# for flow in best_flows:\n",
    "#     log_lik, mean = log_likelihood(test_data, flow)\n",
    "#     print(\"Mean loglikelihood for {}: {}\".format(str(flow), mean))\n",
    "#     print(\"Difference between target and {} mean loglikelihood: {}\".format(str(flow), abs(mean-mean_target)))\n",
    "    \n",
    "\n",
    "# print(\"Mean loglikelihood with actual distribution: {}\".format(mean_target))"
   ]
  }
 ],
 "metadata": {
  "kernelspec": {
   "display_name": "Python 3 (ipykernel)",
   "language": "python",
   "name": "python3"
  },
  "language_info": {
   "codemirror_mode": {
    "name": "ipython",
    "version": 3
   },
   "file_extension": ".py",
   "mimetype": "text/x-python",
   "name": "python",
   "nbconvert_exporter": "python",
   "pygments_lexer": "ipython3",
   "version": "3.9.5"
  }
 },
 "nbformat": 4,
 "nbformat_minor": 4
}
