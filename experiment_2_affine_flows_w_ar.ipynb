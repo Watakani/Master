{
 "cells": [
  {
   "cell_type": "code",
   "execution_count": 1,
   "metadata": {},
   "outputs": [],
   "source": [
    "%load_ext autoreload\n",
    "%autoreload 2"
   ]
  },
  {
   "cell_type": "code",
   "execution_count": 2,
   "metadata": {},
   "outputs": [],
   "source": [
    "import torch\n",
    "import torch.nn.functional as F\n",
    "import torch.nn as nn\n",
    "import os\n",
    "\n",
    "import numpy as np\n",
    "import matplotlib.pyplot as plt\n",
    "\n",
    "from NormalizingFlows.src.train import train_backward\n",
    "from NormalizingFlows.src.scores import log_likelihood\n",
    "from NormalizingFlows.src.utils import update_device, load_best_model, load_checkpoint_model\n",
    "\n",
    "from NormalizingFlows.src.flows import *\n",
    "from NormalizingFlows.src.data.density.toydata import ToyDataset"
   ]
  },
  {
   "cell_type": "code",
   "execution_count": 3,
   "metadata": {},
   "outputs": [],
   "source": [
    "def set_visible_devices(*devices: int) -> None:\n",
    "    '''Utility to set visible Cuda devices.\n",
    "\n",
    "    Parameters\n",
    "    ----------\n",
    "    devices : List[int]\n",
    "        Index of cuda devices to make available for use.\n",
    "    '''\n",
    "    assert all([d >= 0 for d in devices]), f\"Not all devices are CUDA devices!\"\n",
    "    os.environ['CUDA_VISIBLE_DEVICES'] = \",\".join([str(i) for i in devices])\n",
    "    \n",
    "\n",
    "def set_devices(*devices: int):\n",
    "    '''Utility to set Cuda device(s).\n",
    "\n",
    "    Parameters\n",
    "    ----------\n",
    "    devices : List[int]\n",
    "        Index of cuda devices to make available for use.\n",
    "\n",
    "    Returns\n",
    "    -------\n",
    "    torch.device or List[torch.device] of currently available CUDA devices.\n",
    "    '''\n",
    "    assert len(devices) > 0, f'Device list is empty, no devices set.'\n",
    "    if len(devices) == 1:\n",
    "        if devices[0] >= 0:\n",
    "            set_visible_devices(devices[0])\n",
    "            return torch.device(0)\n",
    "        else:\n",
    "            return torch.device('cpu')\n",
    "\n",
    "    else:\n",
    "        set_visible_devices(*devices)\n",
    "        return [torch.device(i) for i in range(len(devices))]"
   ]
  },
  {
   "cell_type": "code",
   "execution_count": 4,
   "metadata": {},
   "outputs": [],
   "source": [
    "device = set_devices(3) #torch.device(\"cuda\") if torch.cuda.is_available() else torch.device(\"cpu\")\n",
    "device_cpu = torch.device(\"cpu\")"
   ]
  },
  {
   "cell_type": "code",
   "execution_count": 5,
   "metadata": {},
   "outputs": [],
   "source": [
    "np.random.seed(10290)\n",
    "dim_input = 50\n",
    "distr_params = torch.FloatTensor(np.random.uniform(0.5,3,(dim_input,)))\n",
    "target_distr = torch.distributions.independent.Independent(\n",
    "            torch.distributions.exponential.Exponential(distr_params),1)\n",
    "dataset = ToyDataset(dim_input=dim_input,data_distr=target_distr, samples=10000)\n",
    "\n",
    "dim_input = dataset.dim_input\n",
    "num_trans = 8 #Must be even\n",
    "perm_types = ['identity', 'alternate','random']\n",
    "dim_hidden = [200,200,200]\n",
    "flows = {}\n",
    "flow_forward = False\n",
    "\n",
    "\n",
    "epochs = 25\n",
    "batch_size = 32\n",
    "num_exp = 5"
   ]
  },
  {
   "cell_type": "code",
   "execution_count": 6,
   "metadata": {
    "jupyter": {
     "source_hidden": true
    },
    "tags": []
   },
   "outputs": [],
   "source": [
    "# #Linear and mean field\n",
    "\n",
    "# transformations = create_constant_trans(num_trans, dim_input, flow_forward)\n",
    "# mean_field = create_flows_with_identity(dim_input, transformations, flow_forward) \n",
    "# name = 'Mean field'\n",
    "# flows.append(mean_field), names.append(name)\n",
    "\n",
    "# transformations = create_linear_bias_trans(num_trans, dim_input, flow_forward)\n",
    "# linear = create_flows_with_identity(dim_input, transformations, flow_forward)\n",
    "# name = 'Linear'\n",
    "# flows.append(linear), names.append(name);"
   ]
  },
  {
   "cell_type": "code",
   "execution_count": 7,
   "metadata": {
    "jupyter": {
     "source_hidden": true
    },
    "tags": []
   },
   "outputs": [],
   "source": [
    "# #Affine flows with two block\n",
    "\n",
    "# name = 'Affine coupling identity'\n",
    "# flows[name] = []\n",
    "# for i in range(num_exp):\n",
    "#     transformations = create_affine_trans(num_trans, flow_forward, a_param=F.softplus)\n",
    "#     aff_coup_id = create_flows_with_twoblock(dim_input, dim_hidden, transformations, perm_types[0], flow_forward)\n",
    "#     flows[name] += [aff_coup_id]\n",
    "#     flows[name][-1].name = f'{name} {i}'\n",
    "\n",
    "# name = 'Affine coupling alternating'\n",
    "# flows[name] = []\n",
    "# for i in range(num_exp):\n",
    "#     transformations = create_affine_trans(num_trans, flow_forward, a_param=F.softplus)\n",
    "#     aff_coup_alt = create_flows_with_twoblock(dim_input, dim_hidden, transformations, perm_types[1], flow_forward)\n",
    "#     flows[name] += [aff_coup_alt]\n",
    "#     flows[name][-1].name = f'{name} {i}'\n",
    "    \n",
    "# name = 'Affine coupling random'\n",
    "# flows[name] = []\n",
    "# for i in range(num_exp):\n",
    "#     transformations = create_affine_trans(num_trans, flow_forward, a_param=F.softplus)\n",
    "#     aff_coup_rand = create_flows_with_twoblock(dim_input, dim_hidden, transformations, perm_types[2], flow_forward)\n",
    "#     flows[name] += [aff_coup_rand]\n",
    "#     flows[name][-1].name = f'{name} {i}'"
   ]
  },
  {
   "cell_type": "code",
   "execution_count": 8,
   "metadata": {
    "tags": []
   },
   "outputs": [],
   "source": [
    "#Affine flows with AR\n",
    "\n",
    "name = 'Affine AR identity'\n",
    "flows[name] = []\n",
    "for i in range(num_exp):\n",
    "    transformations = create_affine_trans(num_trans, flow_forward, a_param=F.softplus)\n",
    "    aff_ar_id = create_flows_with_AR(dim_input, dim_hidden, transformations, perm_types[0], flow_forward)\n",
    "    flows[name] += [aff_ar_id]\n",
    "    flows[name][-1].name = f'{name} {i}'\n",
    "\n",
    "name = 'Affine AR alternate'\n",
    "flows[name] = []\n",
    "for i in range(num_exp):\n",
    "    transformations = create_affine_trans(num_trans, flow_forward, a_param=F.softplus)\n",
    "    aff_ar_alt = create_flows_with_AR(dim_input, dim_hidden, transformations, perm_types[1], flow_forward)\n",
    "    flows[name] += [aff_ar_alt]\n",
    "    flows[name][-1].name = f'{name} {i}'\n",
    "\n",
    "name = 'Affine AR random'\n",
    "flows[name] = []\n",
    "for i in range(num_exp):\n",
    "    transformations = create_affine_trans(num_trans, flow_forward, a_param=F.softplus)\n",
    "    aff_ar_rand = create_flows_with_AR(dim_input, dim_hidden, transformations, perm_types[2], flow_forward)\n",
    "    flows[name] += [aff_ar_rand]\n",
    "    flows[name][-1].name = f'{name} {i}'\n"
   ]
  },
  {
   "cell_type": "code",
   "execution_count": 9,
   "metadata": {
    "jupyter": {
     "source_hidden": true
    }
   },
   "outputs": [],
   "source": [
    "# #PiecewiseAffine flows with coupling\n",
    "\n",
    "# transformations = create_piecewise_trans(num_trans, flow_forward)\n",
    "# piec_coup_id = create_flows_with_twoblock(dim_input, dim_hidden, transformations, perm_types[0], flow_forward)\n",
    "# name = 'PiecewiseAffine coupling identity'\n",
    "# flows.append(piec_coup_id), names.append(name)\n",
    "\n",
    "# transformations = create_piecewise_trans(num_trans, flow_forward)\n",
    "# piec_coup_alt = create_flows_with_twoblock(dim_input, dim_hidden, transformations, perm_types[1], flow_forward)\n",
    "# name = 'PiecewiseAffine coupling alternate'\n",
    "# flows.append(piec_coup_alt), names.append(name)\n",
    "\n",
    "# transformations = create_piecewise_trans(num_trans, flow_forward)\n",
    "# piec_coup_rand = create_flows_with_twoblock(dim_input, dim_hidden, transformations, perm_types[2], flow_forward)\n",
    "# name = 'PiecewiseAffine coupling random'\n",
    "# flows.append(piec_coup_rand), names.append(name);"
   ]
  },
  {
   "cell_type": "code",
   "execution_count": 10,
   "metadata": {
    "jupyter": {
     "source_hidden": true
    }
   },
   "outputs": [],
   "source": [
    "# #PiecewiseAffine flows with AR\n",
    "\n",
    "# transformations = create_piecewise_trans(num_trans, flow_forward)\n",
    "# piec_ar_id = create_flows_with_AR(dim_input, dim_hidden, transformations, perm_types[0], flow_forward)\n",
    "# name = 'PiecewiseAffine AR identity'\n",
    "# flows.append(piec_ar_id), names.append(name)\n",
    "\n",
    "# transformations = create_piecewise_trans(num_trans, flow_forward)\n",
    "# piec_ar_alt = create_flows_with_AR(dim_input, dim_hidden, transformations, perm_types[1], flow_forward)\n",
    "# name = 'PiecewiseAffine AR alternate'\n",
    "# flows.append(piec_ar_alt), names.append(name)\n",
    "\n",
    "# transformations = create_piecewise_trans(num_trans, flow_forward)\n",
    "# piec_ar_rand = create_flows_with_AR(dim_input, dim_hidden, transformations, perm_types[2], flow_forward)\n",
    "# name = 'PiecewiseAffine AR random'\n",
    "# flows.append(piec_ar_rand), names.append(name);"
   ]
  },
  {
   "cell_type": "code",
   "execution_count": 11,
   "metadata": {
    "jupyter": {
     "source_hidden": true
    }
   },
   "outputs": [],
   "source": [
    "# #PiecewiseAffineAffine with twoblock\n",
    "\n",
    "# transformations = create_affinepiecewise_trans(num_trans, flow_forward)\n",
    "# piecaf_coup_id = create_flows_with_twoblock(dim_input, dim_hidden, transformations, perm_types[0], flow_forward)\n",
    "# name = 'PiecewiseAffineAffine coupling identity'\n",
    "# flows.append(piecaf_coup_id), names.append(name)\n",
    "\n",
    "# transformations = create_affinepiecewise_trans(num_trans, flow_forward)\n",
    "# piecaf_coup_alt = create_flows_with_twoblock(dim_input, dim_hidden, transformations, perm_types[1], flow_forward)\n",
    "# name = 'PiecewiseAffineAffine coupling alternate'\n",
    "# flows.append(piecaf_coup_alt), names.append(name)\n",
    "\n",
    "# transformations = create_affinepiecewise_trans(num_trans, flow_forward)\n",
    "# piecaf_coup_rand = create_flows_with_twoblock(dim_input, dim_hidden, transformations, perm_types[1], flow_forward)\n",
    "# name = 'PiecewiseAffineAffine coupling random'\n",
    "# flows.append(piecaf_coup_rand), names.append(name);"
   ]
  },
  {
   "cell_type": "code",
   "execution_count": 12,
   "metadata": {
    "jupyter": {
     "source_hidden": true
    }
   },
   "outputs": [],
   "source": [
    "# #PiecewiseAffineAffine with AR\n",
    "\n",
    "# transformations = create_affinepiecewise_trans(num_trans, flow_forward)\n",
    "# piecaf_ar_id = create_flows_with_AR(dim_input, dim_hidden, transformations, perm_types[0], flow_forward)\n",
    "# name = 'PiecewiseAffineAffine AR identity'\n",
    "# flows.append(piecaf_ar_id), names.append(name)\n",
    "\n",
    "# transformations = create_affinepiecewise_trans(num_trans, flow_forward)\n",
    "# piecaf_ar_alt = create_flows_with_AR(dim_input, dim_hidden, transformations, perm_types[1], flow_forward)\n",
    "# name = 'PiecewiseAffineAffine AR alternate'\n",
    "# flows.append(piecaf_ar_alt), names.append(name)\n",
    "\n",
    "# transformations = create_affinepiecewise_trans(num_trans, flow_forward)\n",
    "# piecaf_ar_rand = create_flows_with_AR(dim_input, dim_hidden, transformations, perm_types[2], flow_forward)\n",
    "# name = 'PiecewiseAffineAffine AR random'\n",
    "# flows.append(piecaf_ar_rand), names.append(name);"
   ]
  },
  {
   "cell_type": "code",
   "execution_count": 13,
   "metadata": {
    "jupyter": {
     "source_hidden": true
    }
   },
   "outputs": [],
   "source": [
    "# #ContinuousPiecewise with twoblock\n",
    "\n",
    "# transformations = create_continuous_piecewise_trans(num_trans, flow_forward)\n",
    "# conpiec_coup_iden = create_flows_with_twoblock(dim_input, dim_hidden, transformations, perm_types[0], flow_forward)\n",
    "# name = 'ContinuousPiecewiseAffine coupling identity'\n",
    "# flows.append(conpiec_coup_iden), names.append(name)\n",
    "\n",
    "# transformations = create_continuous_piecewise_trans(num_trans, flow_forward)\n",
    "# conpiec_coup_alt = create_flows_with_twoblock(dim_input, dim_hidden, transformations, perm_types[1], flow_forward)\n",
    "# name = 'ContinuousPiecewiseAffine coupling alternate'\n",
    "# flows.append(conpiec_coup_alt), names.append(name)\n",
    "\n",
    "# transformations = create_continuous_piecewise_trans(num_trans, flow_forward)\n",
    "# conpiec_coup_rand = create_flows_with_twoblock(dim_input, dim_hidden, transformations, perm_types[2], flow_forward)\n",
    "# name = 'ContinuousPiecewiseAffine coupling random'\n",
    "# flows.append(conpiec_coup_rand), names.append(name);"
   ]
  },
  {
   "cell_type": "code",
   "execution_count": 14,
   "metadata": {
    "jupyter": {
     "source_hidden": true
    }
   },
   "outputs": [],
   "source": [
    "# #ContinuousPiecewise with AR\n",
    "\n",
    "# transformations = create_continuous_piecewise_trans(num_trans, flow_forward)\n",
    "# conpiec_ar_iden = create_flows_with_AR(dim_input, dim_hidden, transformations, perm_types[0], flow_forward)\n",
    "# name = 'ContinuousPiecewiseAffine AR identity'\n",
    "# flows.append(conpiec_ar_iden), names.append(name)\n",
    "\n",
    "# transformations = create_continuous_piecewise_trans(num_trans, flow_forward)\n",
    "# conpiec_ar_alt = create_flows_with_AR(dim_input, dim_hidden, transformations, perm_types[1], flow_forward)\n",
    "# name = 'ContinuousPiecewiseAffine AR alternate'\n",
    "# flows.append(conpiec_ar_alt), names.append(name)\n",
    "\n",
    "# transformations = create_continuous_piecewise_trans(num_trans, flow_forward)\n",
    "# conpiec_ar_rand = create_flows_with_AR(dim_input, dim_hidden, transformations, perm_types[2], flow_forward)\n",
    "# name = 'ContinuousPiecewiseAffine AR random'\n",
    "# flows.append(conpiec_ar_rand), names.append(name);"
   ]
  },
  {
   "cell_type": "code",
   "execution_count": 15,
   "metadata": {
    "jupyter": {
     "source_hidden": true
    }
   },
   "outputs": [],
   "source": [
    "# #ContinuousPiecewiseAffine with twoblock\n",
    "\n",
    "# transformations = create_affinecontinuous_trans(num_trans, flow_forward)\n",
    "# affconpiec_coup_iden = create_flows_with_twoblock(dim_input, dim_hidden, transformations, perm_types[0], flow_forward)\n",
    "# name = 'ContinuousPiecewiseAffineAffine coupling identity'\n",
    "# flows.append(affconpiec_coup_iden), names.append(name)\n",
    "\n",
    "# transformations = create_affinecontinuous_trans(num_trans, flow_forward)\n",
    "# affconpiec_coup_alt = create_flows_with_twoblock(dim_input, dim_hidden, transformations, perm_types[1], flow_forward)\n",
    "# name = 'ContinuousPiecewiseAffineAffine coupling alternate'\n",
    "# flows.append(affconpiec_coup_alt), names.append(name)\n",
    "\n",
    "# transformations = create_affinecontinuous_trans(num_trans, flow_forward)\n",
    "# affconpiec_coup_rand = create_flows_with_twoblock(dim_input, dim_hidden, transformations, perm_types[2], flow_forward)\n",
    "# name = 'ContinuousPiecewiseAffineAffine coupling random'\n",
    "# flows.append(affconpiec_coup_rand), names.append(name);"
   ]
  },
  {
   "cell_type": "code",
   "execution_count": 16,
   "metadata": {
    "jupyter": {
     "source_hidden": true
    }
   },
   "outputs": [],
   "source": [
    "# #ContinuousPiecewiseAffine with AR\n",
    "\n",
    "# transformations = create_affinecontinuous_trans(num_trans, flow_forward)\n",
    "# affconpiec_ar_iden = create_flows_with_AR(dim_input, dim_hidden, transformations, perm_types[0], flow_forward)\n",
    "# name = 'ContinuousPiecewiseAffineAffine AR identity'\n",
    "# flows.append(affconpiec_ar_iden), names.append(name)\n",
    "\n",
    "# transformations = create_affinecontinuous_trans(num_trans, flow_forward)\n",
    "# affconpiec_ar_alt = create_flows_with_AR(dim_input, dim_hidden, transformations, perm_types[1], flow_forward)\n",
    "# name = 'ContinuousPiecewiseAffineAffine AR alternate'\n",
    "# flows.append(affconpiec_ar_alt), names.append(name)\n",
    "\n",
    "# transformations = create_affinecontinuous_trans(num_trans, flow_forward)\n",
    "# affconpiec_ar_rand = create_flows_with_AR(dim_input, dim_hidden, transformations, perm_types[2], flow_forward)\n",
    "# name = 'ContinuousPiecewiseAffineAffine AR random'\n",
    "# flows.append(affconpiec_ar_rand), names.append(name);"
   ]
  },
  {
   "cell_type": "code",
   "execution_count": 17,
   "metadata": {
    "jupyter": {
     "source_hidden": true
    }
   },
   "outputs": [],
   "source": [
    "# #Alternating Piecewise Affine with twoblock\n",
    "\n",
    "# transformations = create_alt_piecewise_affine_trans(num_trans, flow_forward)\n",
    "# afpiec_coup_rand = create_flows_with_twoblock(dim_input, dim_hidden, transformations, perm_types[2], flow_forward)\n",
    "# name = 'Alternating Affin_PiecewiseAffine coupling random'\n",
    "# flows.append(afpiec_coup_rand), names.append(name);"
   ]
  },
  {
   "cell_type": "code",
   "execution_count": 18,
   "metadata": {
    "jupyter": {
     "source_hidden": true
    }
   },
   "outputs": [],
   "source": [
    "# #Alternating Piecewise Affine with AR\n",
    "\n",
    "# transformations = create_alt_piecewise_affine_trans(num_trans, flow_forward)\n",
    "# afpiec_ar_rand = create_flows_with_AR(dim_input, dim_hidden, transformations, perm_types[2], flow_forward)\n",
    "# name = 'Alternating Affin_PiecewiseAffine AR random'\n",
    "# flows.append(afpiec_ar_rand), names.append(name);"
   ]
  },
  {
   "cell_type": "code",
   "execution_count": 19,
   "metadata": {
    "jupyter": {
     "source_hidden": true
    }
   },
   "outputs": [],
   "source": [
    "# #Alternating with Linear layer and Affine\n",
    "\n",
    "# transformations = create_alt_linear_affine_trans(num_trans, dim_input, flow_forward)\n",
    "# linaff_coup_iden = create_flows_with_twoblock(dim_input, dim_hidden, transformations, perm_types[0], flow_forward)\n",
    "# name = 'Alternating Linear_Affine coupling identity'\n",
    "# flows.append(linaff_coup_iden), names.append(name)\n",
    "\n",
    "# transformations = create_alt_linear_affine_trans(num_trans, dim_input, flow_forward)\n",
    "# linaff_coup_rand = create_flows_with_twoblock(dim_input, dim_hidden, transformations, perm_types[2], flow_forward)\n",
    "# name = 'Alternating Linear_Affine coupling random'\n",
    "# flows.append(linaff_coup_rand), names.append(name)\n",
    "\n",
    "# transformations = create_alt_linear_affine_trans(num_trans, dim_input, flow_forward)\n",
    "# linaff_ar_iden = create_flows_with_AR(dim_input, dim_hidden, transformations, perm_types[0], flow_forward)\n",
    "# name = 'Alternating Linear_Affine AR identity'\n",
    "# flows.append(linaff_ar_iden), names.append(name)\n",
    "\n",
    "# transformations = create_alt_linear_affine_trans(num_trans, dim_input, flow_forward)\n",
    "# linaff_ar_rand = create_flows_with_AR(dim_input, dim_hidden, transformations, perm_types[2], flow_forward)\n",
    "# name = 'Alternating Linear_Affine AR random'\n",
    "# flows.append(linaff_ar_rand), names.append(name);"
   ]
  },
  {
   "cell_type": "code",
   "execution_count": 20,
   "metadata": {
    "jupyter": {
     "source_hidden": true
    }
   },
   "outputs": [],
   "source": [
    "# #Various Alternating Linear and Conditioner transformation\n",
    "\n",
    "# transformations = create_alt_linear_piecewise_trans(num_trans, dim_input, flow_forward)\n",
    "# linpiece_coup_rand = create_flows_with_twoblock(dim_input, dim_hidden, transformations, perm_types[2], flow_forward)\n",
    "# name = 'Alternating Linear_PiecewiseAffine coupling random'\n",
    "# flows.append(linpiece_coup_rand), names.append(name)\n",
    "\n",
    "# transformations = create_alt_linear_continuous_trans(num_trans, dim_input, flow_forward)\n",
    "# lincont_coup_rand = create_flows_with_twoblock(dim_input, dim_hidden, transformations, perm_types[2], flow_forward)\n",
    "# name = 'Alternating Linear_ContinuousPiece coupling random'\n",
    "# flows.append(lincont_coup_rand), names.append(name)\n",
    "\n",
    "# transformations = create_alt_linear_affinepiecewise_trans(num_trans, dim_input, flow_forward)\n",
    "# linaffpiec_coup_rand = create_flows_with_twoblock(dim_input, dim_hidden, transformations, perm_types[2], flow_forward)\n",
    "# name = 'Alternating Linear_AffinePiece coupling random'\n",
    "# flows.append(linaffpiec_coup_rand), names.append(name)\n",
    "\n",
    "# transformations = create_alt_linear_affinecontinuous_trans(num_trans, dim_input, flow_forward)\n",
    "# linaffcont_coup_rand = create_flows_with_twoblock(dim_input, dim_hidden, transformations, perm_types[2], flow_forward)\n",
    "# name = 'Alternating Linear_AffineContinuous coupling random'\n",
    "# flows.append(linaffcont_coup_rand), names.append(name);"
   ]
  },
  {
   "cell_type": "code",
   "execution_count": 21,
   "metadata": {},
   "outputs": [
    {
     "name": "stdout",
     "output_type": "stream",
     "text": [
      "Finished training. Loss for last epoch Affine AR random 4:     49.09089\n"
     ]
    }
   ],
   "source": [
    "losses = {n: [] for n in flows.keys()}\n",
    "optimizers = {n: [] for n in flows.keys()}\n",
    "\n",
    "for flowname in flows.keys():\n",
    "    for j in range(num_exp):\n",
    "        # Initialize flow\n",
    "        flow = flows[flowname][j]\n",
    "        update_device(device, flow, dataset)\n",
    "\n",
    "        # Initialize optimizer\n",
    "        optimizer = torch.optim.AdamW(flow.parameters(), lr=1e-4, weight_decay=1e-2)\n",
    "        optimizers[flowname].append(optimizer)\n",
    "        \n",
    "        # Train and append losses\n",
    "        losses[flowname].append(\n",
    "            train_backward(\n",
    "                flow, \n",
    "                dataset.get_training_data(), \n",
    "                optimizer, \n",
    "                epochs, \n",
    "                batch_size, \n",
    "                print_n=200, \n",
    "                save_checkpoint=True, \n",
    "                burn_in=-1\n",
    "            )\n",
    "        )\n",
    "\n",
    "        # Move flow to CPU\n",
    "        update_device(device_cpu, flow, dataset)"
   ]
  },
  {
   "cell_type": "code",
   "execution_count": 22,
   "metadata": {},
   "outputs": [],
   "source": [
    "best_flows = {n:[] for n in flows.keys()}\n",
    "for flowname in flows.keys():\n",
    "    for i in range(num_exp):\n",
    "        best_flows[flowname].append(load_best_model(flows[flowname][i]))"
   ]
  },
  {
   "cell_type": "code",
   "execution_count": 23,
   "metadata": {},
   "outputs": [
    {
     "data": {
      "image/png": "[encoded data removed]",
      "text/plain": [
       "<Figure size 864x432 with 6 Axes>"
      ]
     },
     "metadata": {
      "needs_background": "light"
     },
     "output_type": "display_data"
    }
   ],
   "source": [
    "log_scale = True\n",
    "from_iter = 50 * batch_size\n",
    "\n",
    "fig, ax = plt.subplots(2, len(flows), figsize=(12,6))\n",
    "for j, flowname in enumerate(flows.keys()):\n",
    "    for i in range(num_exp):\n",
    "        ax[0,j].plot(losses[flowname][i], label=f'exp{i}', alpha=0.8)\n",
    "        ax[0,j].set_title(f'{flowname}')\n",
    "        if log_scale:\n",
    "            ax[0, j].set_yscale('log')\n",
    "        ax[0, j].legend()\n",
    "\n",
    "log_scale = True\n",
    "for j, flowname in enumerate(flows.keys()):\n",
    "    for i in range(num_exp):\n",
    "        x = np.arange(len(losses[flowname][i]))\n",
    "        ax[1,j].plot(x[from_iter:], losses[flowname][i][from_iter:], label=f'exp{i}', alpha=0.8)\n",
    "        if log_scale:\n",
    "            ax[1, j].set_yscale('log')\n",
    "        ax[1, j].legend()\n",
    "    \n",
    "plt.tight_layout()"
   ]
  },
  {
   "cell_type": "code",
   "execution_count": 24,
   "metadata": {},
   "outputs": [
    {
     "name": "stdout",
     "output_type": "stream",
     "text": [
      "Results based on training data:\n",
      "\n",
      "Mean loglikelihood for Affine AR identity 0: [-51.342407]\n",
      "Difference between target and Affine AR identity mean loglikelihood: [20.644688]\n",
      "\n",
      "Mean loglikelihood for Affine AR identity 1: [-51.32269]\n",
      "Difference between target and Affine AR identity mean loglikelihood: [20.62497]\n",
      "\n",
      "Mean loglikelihood for Affine AR identity 2: [-51.2978]\n",
      "Difference between target and Affine AR identity mean loglikelihood: [20.600079]\n",
      "\n",
      "Mean loglikelihood for Affine AR identity 3: [-51.270645]\n",
      "Difference between target and Affine AR identity mean loglikelihood: [20.572926]\n",
      "\n",
      "Mean loglikelihood for Affine AR identity 4: [-51.1855]\n",
      "Difference between target and Affine AR identity mean loglikelihood: [20.487782]\n",
      "\n",
      "---------------------------------------------------------------------------\n",
      "Affine AR identity -- Mean LogLH Bootstrap: -51.2838 ±  0.0760\n",
      "---------------------------------------------------------------------------\n",
      "\n",
      "Mean loglikelihood for Affine AR alternate 0: [-47.785587]\n",
      "Difference between target and Affine AR alternate mean loglikelihood: [17.087868]\n",
      "\n",
      "Mean loglikelihood for Affine AR alternate 1: [-48.226734]\n",
      "Difference between target and Affine AR alternate mean loglikelihood: [17.529015]\n",
      "\n",
      "Mean loglikelihood for Affine AR alternate 2: [-49.31418]\n",
      "Difference between target and Affine AR alternate mean loglikelihood: [18.616459]\n",
      "\n",
      "Mean loglikelihood for Affine AR alternate 3: [-48.610832]\n",
      "Difference between target and Affine AR alternate mean loglikelihood: [17.913113]\n",
      "\n",
      "Mean loglikelihood for Affine AR alternate 4: [-49.064228]\n",
      "Difference between target and Affine AR alternate mean loglikelihood: [18.366508]\n",
      "\n",
      "---------------------------------------------------------------------------\n",
      "Affine AR alternate -- Mean LogLH Bootstrap: -48.6003 ±  0.7675\n",
      "---------------------------------------------------------------------------\n",
      "\n",
      "Mean loglikelihood for Affine AR random 0: [-47.54089]\n",
      "Difference between target and Affine AR random mean loglikelihood: [16.84317]\n",
      "\n",
      "Mean loglikelihood for Affine AR random 1: [-48.16]\n",
      "Difference between target and Affine AR random mean loglikelihood: [17.46228]\n",
      "\n",
      "Mean loglikelihood for Affine AR random 2: [-48.96358]\n",
      "Difference between target and Affine AR random mean loglikelihood: [18.265862]\n",
      "\n",
      "Mean loglikelihood for Affine AR random 3: [-48.83921]\n",
      "Difference between target and Affine AR random mean loglikelihood: [18.14149]\n",
      "\n",
      "Mean loglikelihood for Affine AR random 4: [-48.92086]\n",
      "Difference between target and Affine AR random mean loglikelihood: [18.22314]\n",
      "\n",
      "---------------------------------------------------------------------------\n",
      "Affine AR random -- Mean LogLH Bootstrap: -48.4849 ±  0.7708\n",
      "---------------------------------------------------------------------------\n",
      "\n",
      "Mean loglikelihood with actual distribution: -30.69771957397461\n"
     ]
    }
   ],
   "source": [
    "flow_lh_results = {\n",
    "    'train': {n:[] for n in flows}, \n",
    "    'test': {n:[] for n in flows}, \n",
    "    'sample': {n:[] for n in flows},\n",
    "}\n",
    "cur_res = 'train'\n",
    "\n",
    "print('Results based on training data:' + '\\n')\n",
    "\n",
    "# Function for CI\n",
    "def mean_confidence_interval(data, confidence=0.95):\n",
    "    import scipy.stats\n",
    "    a = 1.0 * np.array(data)\n",
    "    n = len(a)\n",
    "    m, se = np.mean(a), scipy.stats.sem(a)\n",
    "    h = se * scipy.stats.t.ppf((1 + confidence) / 2., n-1)\n",
    "    return m, h\n",
    " \n",
    "\n",
    "train_data = dataset.get_training_data()\n",
    "mean_target = torch.mean(dataset.evaluate(train_data.to(device))).detach().numpy()\n",
    "for flow in best_flows:\n",
    "    for i in range(num_exp):\n",
    "        log_lik, mean = log_likelihood(train_data, flows[flow][i])\n",
    "        flow_lh_results[cur_res][flow].append(mean[0])\n",
    "        print(\"Mean loglikelihood for {}: {}\".format(f'{flow} {i}', mean))\n",
    "        print(\"Difference between target and {} mean loglikelihood: {}\".format(str(flow), abs(mean-mean_target)))\n",
    "        print()\n",
    "    \n",
    "    m, h = mean_confidence_interval(flow_lh_results[cur_res][flow])\n",
    "    print('-'*75)\n",
    "    print(f'{flow} -- Mean LogLH Bootstrap: {m:7.4f} ± {h:7.4f}')\n",
    "    print('-'*75)\n",
    "    print()\n",
    "    \n",
    "\n",
    "print(\"Mean loglikelihood with actual distribution: {}\".format(mean_target))"
   ]
  },
  {
   "cell_type": "code",
   "execution_count": 25,
   "metadata": {},
   "outputs": [
    {
     "name": "stdout",
     "output_type": "stream",
     "text": [
      "Results based on test data\n",
      "\n",
      "Mean loglikelihood for Affine AR identity 0: [-51.692043]\n",
      "Difference between target and Affine AR identity mean loglikelihood: [20.921335]\n",
      "\n",
      "Mean loglikelihood for Affine AR identity 1: [-51.684223]\n",
      "Difference between target and Affine AR identity mean loglikelihood: [20.913515]\n",
      "\n",
      "Mean loglikelihood for Affine AR identity 2: [-51.568398]\n",
      "Difference between target and Affine AR identity mean loglikelihood: [20.79769]\n",
      "\n",
      "Mean loglikelihood for Affine AR identity 3: [-51.653545]\n",
      "Difference between target and Affine AR identity mean loglikelihood: [20.882837]\n",
      "\n",
      "Mean loglikelihood for Affine AR identity 4: [-51.74308]\n",
      "Difference between target and Affine AR identity mean loglikelihood: [20.972372]\n",
      "\n",
      "---------------------------------------------------------------------------\n",
      "Affine AR identity -- Mean LogLH Bootstrap: -51.6683 ±  0.0800\n",
      "---------------------------------------------------------------------------\n",
      "\n",
      "Mean loglikelihood for Affine AR alternate 0: [-48.121635]\n",
      "Difference between target and Affine AR alternate mean loglikelihood: [17.350927]\n",
      "\n",
      "Mean loglikelihood for Affine AR alternate 1: [-48.573288]\n",
      "Difference between target and Affine AR alternate mean loglikelihood: [17.80258]\n",
      "\n",
      "Mean loglikelihood for Affine AR alternate 2: [-49.475536]\n",
      "Difference between target and Affine AR alternate mean loglikelihood: [18.704828]\n",
      "\n",
      "Mean loglikelihood for Affine AR alternate 3: [-48.83707]\n",
      "Difference between target and Affine AR alternate mean loglikelihood: [18.066362]\n",
      "\n",
      "Mean loglikelihood for Affine AR alternate 4: [-49.27258]\n",
      "Difference between target and Affine AR alternate mean loglikelihood: [18.501871]\n",
      "\n",
      "---------------------------------------------------------------------------\n",
      "Affine AR alternate -- Mean LogLH Bootstrap: -48.8560 ±  0.6735\n",
      "---------------------------------------------------------------------------\n",
      "\n",
      "Mean loglikelihood for Affine AR random 0: [-48.290867]\n",
      "Difference between target and Affine AR random mean loglikelihood: [17.520159]\n",
      "\n",
      "Mean loglikelihood for Affine AR random 1: [-48.688805]\n",
      "Difference between target and Affine AR random mean loglikelihood: [17.918097]\n",
      "\n",
      "Mean loglikelihood for Affine AR random 2: [-49.445347]\n",
      "Difference between target and Affine AR random mean loglikelihood: [18.674639]\n",
      "\n",
      "Mean loglikelihood for Affine AR random 3: [-49.308445]\n",
      "Difference between target and Affine AR random mean loglikelihood: [18.537737]\n",
      "\n",
      "Mean loglikelihood for Affine AR random 4: [-49.404564]\n",
      "Difference between target and Affine AR random mean loglikelihood: [18.633856]\n",
      "\n",
      "---------------------------------------------------------------------------\n",
      "Affine AR random -- Mean LogLH Bootstrap: -49.0276 ±  0.6371\n",
      "---------------------------------------------------------------------------\n",
      "\n",
      "Mean loglikelihood with actual distribution: -30.770708084106445\n"
     ]
    }
   ],
   "source": [
    "print('Results based on test data' + '\\n')\n",
    "cur_res = 'test' \n",
    "\n",
    "test_data = dataset.get_test_data()\n",
    "mean_target = torch.mean(dataset.evaluate(test_data)).detach().numpy()\n",
    "for flow in best_flows:\n",
    "    for i in range(num_exp):\n",
    "        log_lik, mean = log_likelihood(test_data, flows[flow][i])\n",
    "        flow_lh_results[cur_res][flow].append(mean[0])\n",
    "        print(\"Mean loglikelihood for {}: {}\".format(f'{flow} {i}', mean))\n",
    "        print(\"Difference between target and {} mean loglikelihood: {}\".format(str(flow), abs(mean-mean_target)))\n",
    "        print()\n",
    "    \n",
    "    m, h = mean_confidence_interval(flow_lh_results[cur_res][flow])\n",
    "    print('-'*75)\n",
    "    print(f'{flow} -- Mean LogLH Bootstrap: {m:7.4f} ± {h:7.4f}')\n",
    "    print('-'*75)\n",
    "    print()\n",
    "    \n",
    "\n",
    "print(\"Mean loglikelihood with actual distribution: {}\".format(mean_target))\n",
    "\n",
    "# for flow in best_flows:\n",
    "#     log_lik, mean = log_likelihood(test_data, flow)\n",
    "#     print(\"Mean loglikelihood for {}: {}\".format(str(flow), mean))\n",
    "#     print(\"Difference between target and {} mean loglikelihood: {}\".format(str(flow), abs(mean-mean_target)))\n",
    "    \n",
    "\n",
    "# print(\"Mean loglikelihood with actual distribution: {}\".format(mean_target))"
   ]
  }
 ],
 "metadata": {
  "kernelspec": {
   "display_name": "Python 3 (ipykernel)",
   "language": "python",
   "name": "python3"
  },
  "language_info": {
   "codemirror_mode": {
    "name": "ipython",
    "version": 3
   },
   "file_extension": ".py",
   "mimetype": "text/x-python",
   "name": "python",
   "nbconvert_exporter": "python",
   "pygments_lexer": "ipython3",
   "version": "3.9.5"
  }
 },
 "nbformat": 4,
 "nbformat_minor": 4
}
